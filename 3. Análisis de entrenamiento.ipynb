{
  "nbformat": 4,
  "nbformat_minor": 0,
  "metadata": {
    "kernelspec": {
      "display_name": "Python 3",
      "language": "python",
      "name": "python3"
    },
    "language_info": {
      "codemirror_mode": {
        "name": "ipython",
        "version": 3
      },
      "file_extension": ".py",
      "mimetype": "text/x-python",
      "name": "python",
      "nbconvert_exporter": "python",
      "pygments_lexer": "ipython3",
      "version": "3.6.9"
    },
    "colab": {
      "name": "3. Análisis de entrenamiento.ipynb",
      "provenance": []
    }
  },
  "cells": [
    {
      "cell_type": "markdown",
      "metadata": {
        "id": "5VUfP7aa8_EX"
      },
      "source": [
        "<h1><font color=\"#113D68\" size=6>Deep Learning con Python y Keras</font></h1>\n",
        "\n",
        "<h1><font color=\"#113D68\" size=5>Parte 4. MLP avanzado</font></h1>\n",
        "\n",
        "<h1><font color=\"#113D68\" size=4>3. Análisis de entrenamiento</font></h1>\n",
        "\n",
        "<br><br>\n",
        "<div style=\"text-align: right\">\n",
        "<font color=\"#113D68\" size=3>Manuel Castillo Cara</font><br>\n",
        "\n",
        "</div>"
      ]
    },
    {
      "cell_type": "markdown",
      "metadata": {
        "id": "Z6U3TicX8_EY"
      },
      "source": [
        "---\n",
        "\n",
        "<a id=\"indice\"></a>\n",
        "<h2><font color=\"#004D7F\" size=5>Índice</font></h2>\n",
        "\n",
        "* [0. Contexto](#section0)\n",
        "* [1. Historial de entrenamiento](#section1)\n",
        "* [2. Visualizar el historial](#section2)"
      ]
    },
    {
      "cell_type": "markdown",
      "metadata": {
        "id": "WYJoTDso8_EZ"
      },
      "source": [
        "---\n",
        "<a id=\"section0\"></a>\n",
        "# <font color=\"#004D7F\" size=6> 0. Contexto</font>"
      ]
    },
    {
      "cell_type": "markdown",
      "metadata": {
        "id": "OiSh1vR68_EZ"
      },
      "source": [
        "En esta lección, aprenderemos a revisar y visualizar el rendimiento de los modelos a lo largo del tiempo durante el entrenamiento. Después de completar esta lección, sabrá:\n",
        "* Cómo inspeccionar las métricas del historial.\n",
        "* Cómo trazar métricas de Accuracy durante el entrenamiento.\n",
        "* Cómo trazar métricas de pérdida durante el entrenamiento."
      ]
    },
    {
      "cell_type": "code",
      "metadata": {
        "id": "i6N9i0NN8_Ea"
      },
      "source": [
        "import tensorflow as tf\n",
        "# Eliminar warning\n",
        "tf.compat.v1.logging.set_verbosity(tf.compat.v1.logging.ERROR)"
      ],
      "execution_count": 1,
      "outputs": []
    },
    {
      "cell_type": "markdown",
      "metadata": {
        "id": "8B7txNvi8_Eb"
      },
      "source": [
        "---\n",
        "<div style=\"text-align: right\"> <font size=5> <a href=\"#indice\"><i class=\"fa fa-arrow-circle-up\" aria-hidden=\"true\" style=\"color:#004D7F\"></i></a></font></div>\n",
        "\n",
        "---"
      ]
    },
    {
      "cell_type": "markdown",
      "metadata": {
        "id": "8VPdoJcc8_Eb"
      },
      "source": [
        "<a id=\"section1\"></a>\n",
        "# <font color=\"#004D7F\" size=6>1. Historial de entrenamiento</font>"
      ]
    },
    {
      "cell_type": "markdown",
      "metadata": {
        "id": "vIZEdt_E8_Ec"
      },
      "source": [
        "Keras registra métricas de entrenamiento para cada época. Esto incluye la pérdida y el Accuracy (para problemas de clasificación). El histórico se devuelve de las llamadas a la función `fit()` utilizada para entrenar el modelo.\n",
        "\n",
        "Las métricas se almacenan en un diccionario en el histórico del objeto devuelto:\n",
        "```Python\n",
        "    # list all data in history\n",
        "    print(history.history.keys())\n",
        "```\n",
        "\n",
        "Por ejemplo, para un modelo en un problema de clasificación se produce la siguiente lista:\n",
        "```Python\n",
        "    ['loss', 'accuracy', 'val_loss', 'val_accuracy']\n",
        "```\n",
        "\n",
        "Podemos utilizar los datos recopilados para crear gráficas que nos proporciona información sobre:\n",
        "* La velocidad de convergencia sobre épocas (pendiente).\n",
        "* Si el modelo puede haber convergido ya (meseta).\n",
        "* Si el modelo tiene _overfitting_ (inflexión para la línea de validación)."
      ]
    },
    {
      "cell_type": "markdown",
      "metadata": {
        "id": "wVZBhE7t8_Ed"
      },
      "source": [
        "---\n",
        "<div style=\"text-align: right\"> <font size=5> <a href=\"#indice\"><i class=\"fa fa-arrow-circle-up\" aria-hidden=\"true\" style=\"color:#004D7F\"></i></a></font></div>\n",
        "\n",
        "---"
      ]
    },
    {
      "cell_type": "markdown",
      "metadata": {
        "id": "aW6OxsEG8_Ee"
      },
      "source": [
        "<a id=\"section2\"></a>\n",
        "# <font color=\"#004D7F\" size=6>2. Visualizar el historial</font>"
      ]
    },
    {
      "cell_type": "markdown",
      "metadata": {
        "id": "00fq10ri8_Ee"
      },
      "source": [
        "El ejemplo recopila el historial y crea dos gráficos:\n",
        "1. Un gráfico de Accuracy durante épocas de entrenamiento.\n",
        "2. Un gráfico de la pérdida (Loss) durante épocas de entrenamiento."
      ]
    },
    {
      "cell_type": "code",
      "metadata": {
        "id": "g3dZ9Rpj8_Ef",
        "outputId": "a1467ca0-2275-4452-a8fb-d738747f76f3",
        "colab": {
          "base_uri": "https://localhost:8080/",
          "height": 329
        }
      },
      "source": [
        "# Visualize training history\n",
        "from keras.models import Sequential\n",
        "from keras.layers import Dense\n",
        "import matplotlib.pyplot as plt\n",
        "import numpy as np\n",
        "\n",
        "# load pima indians dataset\n",
        "dataset = np.loadtxt('https://raw.githubusercontent.com/FMunyoz/colab/main/Datasets/pima-indians-diabetes.csv', delimiter=',')\n",
        "\n",
        "# split into input (X) and output (Y) variables\n",
        "X = dataset[:, 0:8]\n",
        "y = dataset[:, 8]\n",
        "\n",
        "# create model\n",
        "model = Sequential()\n",
        "model.add(Dense(12, input_dim=8, activation='relu'))\n",
        "model.add(Dense(8, activation='relu'))\n",
        "model.add(Dense(1, activation='sigmoid'))\n",
        "\n",
        "# Compile model\n",
        "model.compile(loss='binary_crossentropy', optimizer='adam', metrics=['accuracy'])\n",
        "\n",
        "# Fit the model\n",
        "history = model.fit(X, y, validation_split=0.33, epochs=150, batch_size=10, verbose=0)\n",
        "\n",
        "# list all data in history\n",
        "print(history.history.keys())\n",
        "\n",
        "# summarize history for accuracy\n",
        "plt.plot(history.history['accuracy'])\n",
        "plt.plot(history.history['val_accuracy'])\n",
        "plt.title('Accuracy del modelo')\n",
        "plt.ylabel(\"Accuracy\")\n",
        "plt.xlabel(\"Epoch\")\n",
        "plt.legend(['entrenamiento', 'validacion'], loc='upper left')\n",
        "plt.show\n",
        "# summarize history for loss\n",
        "#plt.plot(history.history['loss'])\n",
        "#plt.plot(history.history['val_accuracy'])\n",
        "#plt.title('Loss del modelo')\n",
        "#plt.ylabel(\"Loss\")\n",
        "#plt.xlabel(\"Epoch\")\n",
        "#plt.legend(['entrenamiento', 'validacion'], loc='upper left')\n",
        "#plt.show"
      ],
      "execution_count": 5,
      "outputs": [
        {
          "output_type": "stream",
          "text": [
            "dict_keys(['loss', 'accuracy', 'val_loss', 'val_accuracy'])\n"
          ],
          "name": "stdout"
        },
        {
          "output_type": "execute_result",
          "data": {
            "text/plain": [
              "<function matplotlib.pyplot.show>"
            ]
          },
          "metadata": {
            "tags": []
          },
          "execution_count": 5
        },
        {
          "output_type": "display_data",
          "data": {
            "image/png": "[encoded data removed]",
            "text/plain": [
              "<Figure size 432x288 with 1 Axes>"
            ]
          },
          "metadata": {
            "tags": [],
            "needs_background": "light"
          }
        }
      ]
    },
    {
      "cell_type": "markdown",
      "metadata": {
        "id": "KJbM5XYN8_Eg"
      },
      "source": [
        "* A partir del gráfico de Accuracy, podemos ver que el modelo podría entrenarse un poco más, la tendencia sigue aumentando durante las últimas épocas. \n",
        "    * No hay _overfitting_ ya que muestra una habilidad comparable en ambos conjuntos de datos.\n",
        "\n",
        "* Respecto a la pérdida, se obtiene un rendimiento comparableen train/test. \n",
        "    * Si las líneas paralelas comienzan a desviarse de manera constante, podría ser una señal de dejar de entrenar en una época anterior. "
      ]
    },
    {
      "cell_type": "markdown",
      "metadata": {
        "id": "1nGvpyPW8_Eg"
      },
      "source": [
        "<div style=\"text-align: right\"> <font size=5> <a href=\"#indice\"><i class=\"fa fa-arrow-circle-up\" aria-hidden=\"true\" style=\"color:#004D7F\"></i></a></font></div>\n",
        "\n",
        "---\n",
        "\n",
        "<div style=\"text-align: right\"> <font size=6><i class=\"fa fa-coffee\" aria-hidden=\"true\" style=\"color:#004D7F\"></i> </font></div>"
      ]
    }
  ]
}