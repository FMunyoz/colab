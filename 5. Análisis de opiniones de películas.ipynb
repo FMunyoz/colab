{
  "nbformat": 4,
  "nbformat_minor": 0,
  "metadata": {
    "kernelspec": {
      "display_name": "Python 3",
      "language": "python",
      "name": "python3"
    },
    "language_info": {
      "codemirror_mode": {
        "name": "ipython",
        "version": 3
      },
      "file_extension": ".py",
      "mimetype": "text/x-python",
      "name": "python",
      "nbconvert_exporter": "python",
      "pygments_lexer": "ipython3",
      "version": "3.6.9"
    },
    "colab": {
      "name": "5. Análisis de opiniones de películas.ipynb",
      "provenance": []
    },
    "accelerator": "GPU"
  },
  "cells": [
    {
      "cell_type": "markdown",
      "metadata": {
        "id": "vJTLizZOYv_9"
      },
      "source": [
        "<h1><font color=\"#113D68\" size=6>Deep Learning con Python</font></h1>\n",
        "\n",
        "<h1><font color=\"#113D68\" size=5>Parte 5. Redes Neuronales Convolucionales</font></h1>\n",
        "\n",
        "<h1><font color=\"#113D68\" size=4>5. Análisis opiniones de películas</font></h1>\n",
        "\n",
        "<br><br>\n",
        "<div style=\"text-align: right\">\n",
        "<font color=\"#113D68\" size=3>Manuel Castillo Cara</font><br>\n",
        "\n",
        "</div>"
      ]
    },
    {
      "cell_type": "markdown",
      "metadata": {
        "id": "iR3P59-uYwAA"
      },
      "source": [
        "---\n",
        "\n",
        "<a id=\"indice\"></a>\n",
        "<h2><font color=\"#004D7F\" size=5>Índice</font></h2>\n",
        "\n",
        "* [0. Contexto](#section0)\n",
        "* [1. Conjunto de datos](#section1)\n",
        "    * [1.1. Cargar el dataset IMDB](#section1.1)\n",
        "* [2. Incrustar palabras](#section2)\n",
        "* [3. Multilayer Perceptron](#section3)\n",
        "    * [3.1. Librería y dataset](#section3.1)\n",
        "    * [3.2. Extraer número de reseñas](#section3.2)\n",
        "    * [3.3. Desarrollar MLP](#section3.3)\n",
        "    * [3.4. Evaluación del modelo](#section3.4)\n",
        "    * [2.5. Evaluación del modelo](#section3.5)\n",
        "* [4. CNN Unidimensional](#section4)\n",
        "    * [4.1. Librería y dataset](#section4.1)\n",
        "    * [4.2. Desarrollar la CNN](#section4.2)\n",
        "    * [4.3. Evaluación del modelo](#section4.3)"
      ]
    },
    {
      "cell_type": "markdown",
      "metadata": {
        "id": "11vRLCp0YwAB"
      },
      "source": [
        "---\n",
        "<a id=\"section0\"></a>\n",
        "# <font color=\"#004D7F\" size=6> 0. Contexto</font>"
      ]
    },
    {
      "cell_type": "markdown",
      "metadata": {
        "id": "205c_2jKYwAC"
      },
      "source": [
        "En esta lección, descubriremos cómo puede predecir las opiniones de las críticas de películas como positivo o negativo:\n",
        "* Dataset IMDB para el procesamiento del lenguaje natural.\n",
        "* Usar la inserción de palabras para problemas de lenguaje natural.\n",
        "* Desarrollar y evaluar un modelo de perceptrón multicapa clásico para NLP.\n",
        "* Desarrollar una CNN unidimensional para NLP."
      ]
    },
    {
      "cell_type": "code",
      "metadata": {
        "id": "BmQAfwiVYwAC"
      },
      "source": [
        "import tensorflow as tf\n",
        "# Eliminar warning\n",
        "tf.compat.v1.logging.set_verbosity(tf.compat.v1.logging.ERROR)"
      ],
      "execution_count": 1,
      "outputs": []
    },
    {
      "cell_type": "markdown",
      "metadata": {
        "id": "EcNoZgazYwAD"
      },
      "source": [
        "---\n",
        "<div style=\"text-align: right\"> <font size=5> <a href=\"#indice\"><i class=\"fa fa-arrow-circle-up\" aria-hidden=\"true\" style=\"color:#004D7F\"></i></a></font></div>\n",
        "\n",
        "---"
      ]
    },
    {
      "cell_type": "markdown",
      "metadata": {
        "id": "ioPueZXxYwAD"
      },
      "source": [
        "<a id=\"section1\"></a>\n",
        "# <font color=\"#004D7F\" size=6>1. Conjunto de datos</font>"
      ]
    },
    {
      "cell_type": "markdown",
      "metadata": {
        "id": "7idEXQ6IYwAE"
      },
      "source": [
        "El conjunto de datos de IMDB contiene 50.000 reseñas de películas (buenas o malas) para entrenamiento y la misma cantidad para test. El problema es determinar si una crítica de película determinada tiene un sentimiento positivo o negativo.\n",
        "\n",
        "Originalmente se logró un Accuracy del 88,89%."
      ]
    },
    {
      "cell_type": "markdown",
      "metadata": {
        "id": "HDgnYNOrYwAF"
      },
      "source": [
        "<div class=\"alert alert-block alert-info\">\n",
        "    \n",
        "<i class=\"fa fa-info-circle\" aria-hidden=\"true\"></i>\n",
        "Puede obtener más información sobre el dataset [IMBD](http://ai.stanford.edu/~amaas/data/sentiment/)\n"
      ]
    },
    {
      "cell_type": "markdown",
      "metadata": {
        "id": "dmLBKYQ-YwAF"
      },
      "source": [
        "<div class=\"alert alert-block alert-info\">\n",
        "    \n",
        "<i class=\"fa fa-info-circle\" aria-hidden=\"true\"></i>\n",
        "Puede obtener más información sobre el artículo original [_Learning Word Vectors for Sentiment Analysis_](http://ai.stanford.edu/~amaas/papers/wvSent_acl2011.pdf)\n"
      ]
    },
    {
      "cell_type": "markdown",
      "metadata": {
        "id": "66r-RLMJYwAG"
      },
      "source": [
        "<a id=\"section1.1\"></a>\n",
        "# <font color=\"#004D7F\" size=5>1.1. Cargar el dataset IMDB</font>"
      ]
    },
    {
      "cell_type": "markdown",
      "metadata": {
        "id": "STnt6QmzYwAG"
      },
      "source": [
        "La función `imdb.load data()` permite cargar y descargar (la primera vez) IMDB. Lo almacenará en su directorio personal en `~/.keras/datasets/imdb.pkl` como un archivo de 32 megabytes. \n",
        "\n",
        "Las oraciones de cada revisión se componen de una secuencia de números enteros.\n",
        "\n",
        "De manera útil, la función `imdb.load data()` proporciona argumentos adicionales, como:\n",
        "1. El número de palabras principales para cargar.\n",
        "2. El número de palabras principales para omitir (como _\"the's\")_ \n",
        "3. La duración máxima de las revisiones. "
      ]
    },
    {
      "cell_type": "markdown",
      "metadata": {
        "id": "B15lTIDhYwAH"
      },
      "source": [
        "<div class=\"alert alert-block alert-info\">\n",
        "    \n",
        "<i class=\"fa fa-info-circle\" aria-hidden=\"true\"></i>\n",
        "Puede obtener más información sobre el dataset IMDB de [Keras](https://keras.io/api/datasets/)\n"
      ]
    },
    {
      "cell_type": "code",
      "metadata": {
        "id": "uz74Rk-3YwAH",
        "outputId": "a3afe5a2-3993-4a9b-ab17-26b93a7076dc",
        "colab": {
          "base_uri": "https://localhost:8080/"
        }
      },
      "source": [
        "# Load and Plot the IMDB dataset\n",
        "import numpy as np\n",
        "from keras.datasets import imdb\n",
        "import matplotlib.pyplot as plt\n",
        "\n",
        "# load the dataset\n",
        "(X_train, y_train),(X_test, y_test) = imdb.load_data()\n",
        "X = np.concatenate((X_train, X_test), axis=0)\n",
        "y = np.concatenate((y_train, y_test), axis=0)\n"
      ],
      "execution_count": 6,
      "outputs": [
        {
          "output_type": "stream",
          "text": [
            "<string>:6: VisibleDeprecationWarning: Creating an ndarray from ragged nested sequences (which is a list-or-tuple of lists-or-tuples-or ndarrays with different lengths or shapes) is deprecated. If you meant to do this, you must specify 'dtype=object' when creating the ndarray\n",
            "/usr/local/lib/python3.7/dist-packages/keras/datasets/imdb.py:155: VisibleDeprecationWarning: Creating an ndarray from ragged nested sequences (which is a list-or-tuple of lists-or-tuples-or ndarrays with different lengths or shapes) is deprecated. If you meant to do this, you must specify 'dtype=object' when creating the ndarray\n",
            "  x_train, y_train = np.array(xs[:idx]), np.array(labels[:idx])\n",
            "/usr/local/lib/python3.7/dist-packages/keras/datasets/imdb.py:156: VisibleDeprecationWarning: Creating an ndarray from ragged nested sequences (which is a list-or-tuple of lists-or-tuples-or ndarrays with different lengths or shapes) is deprecated. If you meant to do this, you must specify 'dtype=object' when creating the ndarray\n",
            "  x_test, y_test = np.array(xs[idx:]), np.array(labels[idx:])\n"
          ],
          "name": "stderr"
        }
      ]
    },
    {
      "cell_type": "markdown",
      "metadata": {
        "id": "30mkN9F7YwAH"
      },
      "source": [
        "Vemos el tamaño"
      ]
    },
    {
      "cell_type": "code",
      "metadata": {
        "id": "IPHqw-8QYwAH",
        "outputId": "c8486207-955c-4722-8737-06f56feeac7d",
        "colab": {
          "base_uri": "https://localhost:8080/"
        }
      },
      "source": [
        "# summarize size\n",
        "print(X.shape)\n",
        "print(y.shape)"
      ],
      "execution_count": 7,
      "outputs": [
        {
          "output_type": "stream",
          "text": [
            "(50000,)\n",
            "(50000,)\n"
          ],
          "name": "stdout"
        }
      ]
    },
    {
      "cell_type": "markdown",
      "metadata": {
        "id": "zg04LnCNYwAI"
      },
      "source": [
        "Imprimimos los valores de clase únicos."
      ]
    },
    {
      "cell_type": "code",
      "metadata": {
        "id": "t5BAF2l_YwAI",
        "outputId": "a138466e-ec95-42f5-cd98-585189814ff3",
        "colab": {
          "base_uri": "https://localhost:8080/"
        }
      },
      "source": [
        "# Summarize number of classes\n",
        "print(np.unique(y))"
      ],
      "execution_count": 8,
      "outputs": [
        {
          "output_type": "stream",
          "text": [
            "[0 1]\n"
          ],
          "name": "stdout"
        }
      ]
    },
    {
      "cell_type": "markdown",
      "metadata": {
        "id": "6vR7suYzYwAI"
      },
      "source": [
        "Observamos el número total de palabras únicas en el conjunto de datos."
      ]
    },
    {
      "cell_type": "code",
      "metadata": {
        "id": "2PgXPPGvYwAJ",
        "outputId": "5310ea5f-53fb-49c2-b586-747f54f14855",
        "colab": {
          "base_uri": "https://localhost:8080/"
        }
      },
      "source": [
        "# Summarize number of words\n",
        "print(len(np.unique(np.hstack(X))))\n"
      ],
      "execution_count": 9,
      "outputs": [
        {
          "output_type": "stream",
          "text": [
            "88585\n"
          ],
          "name": "stdout"
        }
      ]
    },
    {
      "cell_type": "markdown",
      "metadata": {
        "id": "PoogDKxCYwAJ"
      },
      "source": [
        "Finalmente, vemos la longitud media de las reseñas. "
      ]
    },
    {
      "cell_type": "code",
      "metadata": {
        "id": "OSyIVIi3YwAJ",
        "outputId": "094fe103-28a9-4aec-a921-9d5a0720706c",
        "colab": {
          "base_uri": "https://localhost:8080/",
          "height": 282
        }
      },
      "source": [
        "# Summarize review length\n",
        "result = [len(x) for x in X]\n",
        "print(\" Media de palabras:  %.2f (%f)\" % (np.mean(result), np.std(result)))\n",
        "\n",
        "# plot review length as a boxplot and histogram\n",
        "plt.subplot(121)\n",
        "plt.boxplot(result)\n",
        "plt.subplot(122)\n",
        "plt.hist(result)\n",
        "plt.show()"
      ],
      "execution_count": 13,
      "outputs": [
        {
          "output_type": "stream",
          "text": [
            " Media de palabras:  234.76 (172.911495)\n"
          ],
          "name": "stdout"
        },
        {
          "output_type": "display_data",
          "data": {
            "image/png": "[encoded data removed]",
            "text/plain": [
              "<Figure size 432x288 with 2 Axes>"
            ]
          },
          "metadata": {
            "tags": [],
            "needs_background": "light"
          }
        }
      ]
    },
    {
      "cell_type": "markdown",
      "metadata": {
        "id": "erj73Qv1YwAJ"
      },
      "source": [
        "---\n",
        "<div style=\"text-align: right\"> <font size=5> <a href=\"#indice\"><i class=\"fa fa-arrow-circle-up\" aria-hidden=\"true\" style=\"color:#004D7F\"></i></a></font></div>\n",
        "\n",
        "---"
      ]
    },
    {
      "cell_type": "markdown",
      "metadata": {
        "id": "XEuIZxxJYwAJ"
      },
      "source": [
        "<a id=\"section2\"></a>\n",
        "# <font color=\"#004D7F\" size=6>2. Incrustar palabras</font>"
      ]
    },
    {
      "cell_type": "markdown",
      "metadata": {
        "id": "HwpVGZQyYwAK"
      },
      "source": [
        "Un avance reciente en el campo del NLP es la incrustación de palabras _(word embeddings)._ \n",
        "* Se trata de una técnica en la que las palabras se codifican como vectores de valor real en un espacio de alta dimensión, donde la similitud entre palabras en términos de significado se traduce en cercanía en el espacio vectorial. \n",
        "* Las palabras discretas se asignan a vectores de números continuos. \n",
        "\n",
        "Keras proporciona una forma conveniente de convertir representaciones enteras positivas de palabras en una incrustación de palabras mediante una capa `Embedding` que toma argumentos que:\n",
        "* Definen el mapeo, incluido el número máximo de palabras esperadas, también llamado tamaño de vocabulario. \n",
        "* También le permite especificar la dimensionalidad de cada vector de palabra, denominada dimensión de salida.\n",
        "\n",
        "Supongamos que solo nos interesan las primeras 5,000 palabras más utilizadas en el conjunto de datos. Por lo tanto:\n",
        "* Nuestro tamaño de vocabulario será de 5,000. \n",
        "* Podemos optar por utilizar un vector de 32 dimensiones para representar cada palabra. \n",
        "* Finalmente, podemos optar por limitar la extensión máxima de la reseña a 500 palabras, truncando las reseñas más largas y rellenando las reseñas más cortas con valores 0. "
      ]
    },
    {
      "cell_type": "markdown",
      "metadata": {
        "id": "cE7U8EGyYwAK"
      },
      "source": [
        "Para cargar el dataset:\n",
        "\n",
        "```python\n",
        "    imdb.load_data(num_words=5000)\n",
        "```\n",
        "\n",
        "Luego, Truncar o rellenar  una longitud de 500 usando la función `sequence.pad_sequences()`.\n",
        "\n",
        "```python\n",
        "    X_train = sequence.pad_sequences(X_train, maxlen=500)\n",
        "    X_test = sequence.pad_sequences(X_test, maxlen=500)\n",
        "```\n",
        "\n",
        "Finalmente, la primera capa de nuestro modelo sería una capa de incrustación de palabras usando la clase `Embedding`:\n",
        "\n",
        "```python\n",
        "    Embedding(5000, 32, input_length=500)\n",
        "```\n",
        "\n",
        "La salida de esta primera capa sería una matriz con el tamaño de $32 × 500$. "
      ]
    },
    {
      "cell_type": "markdown",
      "metadata": {
        "id": "Fw_T4aYhYwAK"
      },
      "source": [
        "<div class=\"alert alert-block alert-info\">\n",
        "    \n",
        "<i class=\"fa fa-info-circle\" aria-hidden=\"true\"></i>\n",
        "Puede obtener más información sobre la clase [Embedding](http://keras.io/layers/embeddings/)\n"
      ]
    },
    {
      "cell_type": "markdown",
      "metadata": {
        "id": "-Jn62kTwYwAK"
      },
      "source": [
        "---\n",
        "<div style=\"text-align: right\"> <font size=5> <a href=\"#indice\"><i class=\"fa fa-arrow-circle-up\" aria-hidden=\"true\" style=\"color:#004D7F\"></i></a></font></div>\n",
        "\n",
        "---"
      ]
    },
    {
      "cell_type": "markdown",
      "metadata": {
        "id": "_2D-SbjKYwAK"
      },
      "source": [
        "<a id=\"section3\"></a>\n",
        "# <font color=\"#004D7F\" size=6>3. Multilayer Perceptron</font>"
      ]
    },
    {
      "cell_type": "markdown",
      "metadata": {
        "id": "sIOlwi18YwAK"
      },
      "source": [
        "Podemos comenzar desarrollando un modelo MLP con una sola capa oculta. "
      ]
    },
    {
      "cell_type": "markdown",
      "metadata": {
        "id": "-67vjB6bYwAL"
      },
      "source": [
        "<a id=\"section3.1\"></a>\n",
        "# <font color=\"#004D7F\" size=5>3.1. Librería y dataset</font>"
      ]
    },
    {
      "cell_type": "markdown",
      "metadata": {
        "id": "2v62TksaYwAL"
      },
      "source": [
        "Cargamos el conjunto de datos IMDB y lo simplificaremos con las 5.000 palabras principales. "
      ]
    },
    {
      "cell_type": "code",
      "metadata": {
        "id": "wX-5ZvzXYwAL"
      },
      "source": [
        "# MLP for the IMDB problem\n",
        "???\n",
        "\n",
        "# load the dataset but only keep the top n words, zero the rest\n",
        "???\n"
      ],
      "execution_count": null,
      "outputs": []
    },
    {
      "cell_type": "markdown",
      "metadata": {
        "id": "Rdt6H2oRYwAL"
      },
      "source": [
        "<a id=\"section3.2\"></a>\n",
        "# <font color=\"#004D7F\" size=5>3.2. Extraer número de reseñas</font>"
      ]
    },
    {
      "cell_type": "markdown",
      "metadata": {
        "id": "I_LSyzn-YwAL"
      },
      "source": [
        "Limitamos las reseñas a 500 palabras."
      ]
    },
    {
      "cell_type": "code",
      "metadata": {
        "id": "3fqNZkYLYwAL"
      },
      "source": [
        "???\n"
      ],
      "execution_count": null,
      "outputs": []
    },
    {
      "cell_type": "markdown",
      "metadata": {
        "id": "mb3W72TiYwAL"
      },
      "source": [
        "<a id=\"section3.3\"></a>\n",
        "# <font color=\"#004D7F\" size=5>3.3. Desarrollar MLP</font>"
      ]
    },
    {
      "cell_type": "markdown",
      "metadata": {
        "id": "3uVmP0D5YwAL"
      },
      "source": [
        "Ahora podemos crear nuestro modelo. Usaremos\n",
        "1. Capa Embedding como entrada, estableciendo el vocabulario en 5,000, el tamaño del vector de la palabra en 32 dimensiones y la longitud de entrada en 500. \n",
        "2. La salida de esta primera capa será una matriz de tamaño $32 × 500$.\n",
        "3. Capa Flatten para la salida de las capas Embedding a una dimensión.\n",
        "4. Capa oculta densa de 250 neuronas con una función de activación ReLU. \n",
        "5. La capa de salida tiene 1 neurona con una activación sigmoidea para generar valores de 0 y 1. \n",
        "6. Funcioń de pérdida logarítmica y se optimiza mediante ADAM."
      ]
    },
    {
      "cell_type": "code",
      "metadata": {
        "id": "EM3D88MIYwAL",
        "outputId": "d8b2f465-70af-4c21-8310-69b919ded5ee"
      },
      "source": [
        "# create the model\n",
        "???"
      ],
      "execution_count": null,
      "outputs": [
        {
          "output_type": "stream",
          "text": [
            "Model: \"sequential\"\n",
            "_________________________________________________________________\n",
            "Layer (type)                 Output Shape              Param #   \n",
            "=================================================================\n",
            "embedding (Embedding)        (None, 500, 32)           160000    \n",
            "_________________________________________________________________\n",
            "flatten (Flatten)            (None, 16000)             0         \n",
            "_________________________________________________________________\n",
            "dense (Dense)                (None, 250)               4000250   \n",
            "_________________________________________________________________\n",
            "dense_1 (Dense)              (None, 1)                 251       \n",
            "=================================================================\n",
            "Total params: 4,160,501\n",
            "Trainable params: 4,160,501\n",
            "Non-trainable params: 0\n",
            "_________________________________________________________________\n"
          ],
          "name": "stdout"
        }
      ]
    },
    {
      "cell_type": "markdown",
      "metadata": {
        "id": "1qYKEKdDYwAM"
      },
      "source": [
        "<a id=\"section3.4\"></a>\n",
        "# <font color=\"#004D7F\" size=5>3.4. Evaluación del modelo</font>"
      ]
    },
    {
      "cell_type": "markdown",
      "metadata": {
        "id": "ges9ad0yYwAM"
      },
      "source": [
        "Usaremos muy pocas épocas de entrenamiento, en este caso solo 2 y un tamaño de batch de 128. "
      ]
    },
    {
      "cell_type": "code",
      "metadata": {
        "id": "ms7hlBByYwAM",
        "outputId": "4288ed7f-d3cd-4ec2-e663-86b2c4f7b064"
      },
      "source": [
        "# Fit the model\n",
        "???\n",
        "\n",
        "# Final evaluation of the model\n",
        "???\n"
      ],
      "execution_count": null,
      "outputs": [
        {
          "output_type": "stream",
          "text": [
            "Epoch 1/2\n",
            "196/196 - 8s - loss: 0.4839 - accuracy: 0.7421 - val_loss: 0.2946 - val_accuracy: 0.8754\n",
            "Epoch 2/2\n",
            "196/196 - 8s - loss: 0.1802 - accuracy: 0.9313 - val_loss: 0.3124 - val_accuracy: 0.8708\n",
            "Accuracy: 87.08%\n"
          ],
          "name": "stdout"
        }
      ]
    },
    {
      "cell_type": "markdown",
      "metadata": {
        "id": "-lBhtBGnYwAM"
      },
      "source": [
        "---\n",
        "<div style=\"text-align: right\"> <font size=5> <a href=\"#indice\"><i class=\"fa fa-arrow-circle-up\" aria-hidden=\"true\" style=\"color:#004D7F\"></i></a></font></div>\n",
        "\n",
        "---"
      ]
    },
    {
      "cell_type": "markdown",
      "metadata": {
        "id": "D4xr2eE8YwAM"
      },
      "source": [
        "<a id=\"section4\"></a>\n",
        "# <font color=\"#004D7F\" size=6>4. CNN Unidimensional </font>"
      ]
    },
    {
      "cell_type": "markdown",
      "metadata": {
        "id": "FSq_1HesYwAM"
      },
      "source": [
        "Las mismas propiedades que hacen atractivo el modelo de CNN para aprender a reconocer objetos en imágenes pueden ayudar a aprender la estructura en párrafos de palabras, i.e., las técnicas de invarianza a la posición específica de las características."
      ]
    },
    {
      "cell_type": "markdown",
      "metadata": {
        "id": "nsDGnL71YwAM"
      },
      "source": [
        "<a id=\"section4.1\"></a>\n",
        "# <font color=\"#004D7F\" size=5>4.1. Librería y dataset</font>"
      ]
    },
    {
      "cell_type": "markdown",
      "metadata": {
        "id": "KHqawEqQYwAM"
      },
      "source": [
        "Keras admite convoluciones unidimensionales y agrupación mediante las clases `Conv1D` y `MaxPooling1D`, respectivamente."
      ]
    },
    {
      "cell_type": "code",
      "metadata": {
        "id": "MDk0bLq2YwAM"
      },
      "source": [
        "# CNN for the IMDB problem\n",
        "???\n",
        "\n",
        "# load the dataset but only keep the top n words, zero the rest\n",
        "???\n",
        "\n",
        "# pad dataset to a maximum review length in words\n",
        "???\n"
      ],
      "execution_count": null,
      "outputs": []
    },
    {
      "cell_type": "markdown",
      "metadata": {
        "id": "G2t9GouLYwAN"
      },
      "source": [
        "<a id=\"section4.2\"></a>\n",
        "# <font color=\"#004D7F\" size=5>4.2. Desarrollar la CNN</font>"
      ]
    },
    {
      "cell_type": "markdown",
      "metadata": {
        "id": "i3JRChf0YwAN"
      },
      "source": [
        "Ahora podemos definir nuestro modelo de red neuronal convolucional. Esta vez:\n",
        "\n",
        "1. Después de la capa de entrada Embedding, insertamos una capa **Conv1D.** \n",
        "    * Esta capa convolucional tiene 32 mapas de características y lee representaciones de palabras embebidas 3 elementos vectoriales de la palabra embebida a la vez. \n",
        "2. Capa **MaxPooling1D** de 2x2. \n",
        "3. El resto de la red es igual que la red neuronal anterior."
      ]
    },
    {
      "cell_type": "code",
      "metadata": {
        "scrolled": true,
        "id": "4_LEBKSvYwAN",
        "outputId": "6dec590d-64c1-4230-ae5f-391d16102951"
      },
      "source": [
        "# create the model\n",
        "???\n"
      ],
      "execution_count": null,
      "outputs": [
        {
          "output_type": "stream",
          "text": [
            "Model: \"sequential_2\"\n",
            "_________________________________________________________________\n",
            "Layer (type)                 Output Shape              Param #   \n",
            "=================================================================\n",
            "embedding_2 (Embedding)      (None, 500, 32)           160000    \n",
            "_________________________________________________________________\n",
            "conv1d_1 (Conv1D)            (None, 500, 32)           3104      \n",
            "_________________________________________________________________\n",
            "max_pooling1d_1 (MaxPooling1 (None, 250, 32)           0         \n",
            "_________________________________________________________________\n",
            "flatten_2 (Flatten)          (None, 8000)              0         \n",
            "_________________________________________________________________\n",
            "dense_4 (Dense)              (None, 250)               2000250   \n",
            "_________________________________________________________________\n",
            "dense_5 (Dense)              (None, 1)                 251       \n",
            "=================================================================\n",
            "Total params: 2,163,605\n",
            "Trainable params: 2,163,605\n",
            "Non-trainable params: 0\n",
            "_________________________________________________________________\n"
          ],
          "name": "stdout"
        }
      ]
    },
    {
      "cell_type": "markdown",
      "metadata": {
        "id": "sNed9vJ8YwAN"
      },
      "source": [
        "<a id=\"section4.3\"></a>\n",
        "# <font color=\"#004D7F\" size=5>4.3. Evaluación del modelo</font>"
      ]
    },
    {
      "cell_type": "markdown",
      "metadata": {
        "id": "ZKFENOmfYwAN"
      },
      "source": [
        "Veamos la evaluación del modelo"
      ]
    },
    {
      "cell_type": "code",
      "metadata": {
        "id": "wGf4Kd62YwAN",
        "outputId": "c4c17440-0441-4675-da6b-9b4db47c1e95"
      },
      "source": [
        "# Fit the model\n",
        "???\n",
        "\n",
        "# Final evaluation of the model\n",
        "???\n"
      ],
      "execution_count": null,
      "outputs": [
        {
          "output_type": "stream",
          "text": [
            "Epoch 1/2\n",
            "196/196 - 11s - loss: 0.4472 - accuracy: 0.7653 - val_loss: 0.2707 - val_accuracy: 0.8869\n",
            "Epoch 2/2\n",
            "196/196 - 11s - loss: 0.2118 - accuracy: 0.9180 - val_loss: 0.2702 - val_accuracy: 0.8869\n",
            "Accuracy: 88.69%\n"
          ],
          "name": "stdout"
        }
      ]
    },
    {
      "cell_type": "markdown",
      "metadata": {
        "id": "2SJ8idMEYwAN"
      },
      "source": [
        "<div style=\"text-align: right\"> <font size=5> <a href=\"#indice\"><i class=\"fa fa-arrow-circle-up\" aria-hidden=\"true\" style=\"color:#004D7F\"></i></a></font></div>\n",
        "\n",
        "---\n",
        "\n",
        "<div style=\"text-align: right\"> <font size=6><i class=\"fa fa-coffee\" aria-hidden=\"true\" style=\"color:#004D7F\"></i> </font></div>"
      ]
    }
  ]
}