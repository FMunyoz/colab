{
 "cells": [
  {
   "cell_type": "markdown",
   "metadata": {},
   "source": [
    "<h1><font color=\"#113D68\" size=6>Deep Learning con Python y Keras</font></h1>\n",
    "\n",
    "<h1><font color=\"#113D68\" size=5>Parte 5. Redes Neuronales Convolucionales</font></h1>\n",
    "\n",
    "<h1><font color=\"#113D68\" size=4>2. Reconocimiento de dígitos</font></h1>\n",
    "\n",
    "<br><br>\n",
    "<div style=\"text-align: right\">\n",
    "<font color=\"#113D68\" size=3>Manuel Castillo Cara</font><br>\n",
    "\n",
    "</div>"
   ]
  },
  {
   "cell_type": "markdown",
   "metadata": {},
   "source": [
    "---\n",
    "\n",
    "<a id=\"indice\"></a>\n",
    "<h2><font color=\"#004D7F\" size=5>Índice</font></h2>\n",
    "\n",
    "* [0. Contexto](#section0)\n",
    "* [1. MNIST dataset](#section1)\n",
    "* [2. Cargar MNIST](#section2)\n",
    "* [3. Modelo de línea de base con MLP](#section3)\n",
    "* [4. CNN para MNIST](#section4)\n",
    "* [5. CNN más profunda para MNIST](#section5)"
   ]
  },
  {
   "cell_type": "markdown",
   "metadata": {},
   "source": [
    "---\n",
    "<a id=\"section0\"></a>\n",
    "# <font color=\"#004D7F\" size=6> 0. Contexto</font>"
   ]
  },
  {
   "cell_type": "markdown",
   "metadata": {},
   "source": [
    "En este proyecto, descubrirá cómo desarrollar un modelo de Deep Learning en la tarea de reconocimiento de dígitos manuscritos del MNIST. Después de completar esta clase sabrá:\n",
    "* Cómo cargar MNIST y desarrollar un modelo de red neuronal.\n",
    "* Cómo implementar y evaluar una CNN de línea base para MNIST.\n",
    "* Cómo implementar un modelo de Deep Learning avanzado para MNIST."
   ]
  },
  {
   "cell_type": "code",
   "execution_count": 1,
   "metadata": {},
   "outputs": [],
   "source": [
    "import tensorflow as tf\n",
    "# Eliminar warning\n",
    "tf.compat.v1.logging.set_verbosity(tf.compat.v1.logging.ERROR)"
   ]
  },
  {
   "cell_type": "markdown",
   "metadata": {},
   "source": [
    "---\n",
    "<div style=\"text-align: right\"> <font size=5> <a href=\"#indice\"><i class=\"fa fa-arrow-circle-up\" aria-hidden=\"true\" style=\"color:#004D7F\"></i></a></font></div>\n",
    "\n",
    "---"
   ]
  },
  {
   "cell_type": "markdown",
   "metadata": {},
   "source": [
    "<a id=\"section1\"></a>\n",
    "# <font color=\"#004D7F\" size=6>1. MNIST dataset</font>"
   ]
  },
  {
   "cell_type": "markdown",
   "metadata": {},
   "source": [
    "MNIST toma imágenes de dígitos de una variedad de documentos escaneados, normalizados en tamaño y centrados.\n",
    "\n",
    "Cada imagen es está dada en blanco y negro con $28 × 28$ píxeles (784 píxeles en total). Se usan 60,000 imágenes para entrenar un modelo y 10,000 imágenes para validarlo.\n",
    "\n",
    "Es una tarea de reconocimiento de dígitos. Como tal, hay 10 dígitos (0 a 9) o 10 clases para predecir. \n",
    "\n",
    "En la página web de Rodrigo Benenson hay una lista de los resultados más avanzados y enlaces a los artículos relevantes sobre el MNIST y otros conjuntos de datos."
   ]
  },
  {
   "cell_type": "markdown",
   "metadata": {},
   "source": [
    "<div class=\"alert alert-block alert-info\">\n",
    "    \n",
    "<i class=\"fa fa-info-circle\" aria-hidden=\"true\"></i>\n",
    "Más información sobre el dataset [MNIST](http://yann.lecun.com/exdb/mnist/)"
   ]
  },
  {
   "cell_type": "markdown",
   "metadata": {},
   "source": [
    "<div class=\"alert alert-block alert-info\">\n",
    "    \n",
    "<i class=\"fa fa-info-circle\" aria-hidden=\"true\"></i>\n",
    "Información de los resultados sobre MNIST de [Rodrigo Benenson](http://rodrigob.github.io/are_we_there_yet/build/classification_datasets_results.html)"
   ]
  },
  {
   "cell_type": "markdown",
   "metadata": {},
   "source": [
    "---\n",
    "<div style=\"text-align: right\"> <font size=5> <a href=\"#indice\"><i class=\"fa fa-arrow-circle-up\" aria-hidden=\"true\" style=\"color:#004D7F\"></i></a></font></div>\n",
    "\n",
    "---"
   ]
  },
  {
   "cell_type": "markdown",
   "metadata": {},
   "source": [
    "<a id=\"section2\"></a>\n",
    "# <font color=\"#004D7F\" size=6>2. Cargar MNIST</font>"
   ]
  },
  {
   "cell_type": "markdown",
   "metadata": {},
   "source": [
    "El conjunto de datos se descarga automáticamente la primera vez que se llama a esta función y se almacena en su directorio de inicio en `~/.keras/datasets/mnist.pkl.gz` como un archivo de 15 megabytes. \n",
    "\n",
    "Primero escribiremos un pequeño script para descargar y visualizar las primeras 4 imágenes mediante la función `mnist.load data()`."
   ]
  },
  {
   "cell_type": "code",
   "execution_count": 1,
   "metadata": {},
   "outputs": [
    {
     "data": {
      "image/png": "[encoded data removed]",
      "text/plain": [
       "<Figure size 432x288 with 4 Axes>"
      ]
     },
     "metadata": {
      "needs_background": "light"
     },
     "output_type": "display_data"
    }
   ],
   "source": [
    "# Plot ad hoc mnist instances\n",
    "???\n",
    "\n",
    "# load (downloaded if needed) the MNIST dataset\n",
    "???\n",
    "\n",
    "# plot 4 images as gray scale\n",
    "???\n",
    "\n",
    "# show the plot\n",
    "???"
   ]
  },
  {
   "cell_type": "markdown",
   "metadata": {},
   "source": [
    "---\n",
    "<div style=\"text-align: right\"> <font size=5> <a href=\"#indice\"><i class=\"fa fa-arrow-circle-up\" aria-hidden=\"true\" style=\"color:#004D7F\"></i></a></font></div>\n",
    "\n",
    "---"
   ]
  },
  {
   "cell_type": "markdown",
   "metadata": {},
   "source": [
    "<a id=\"section3\"></a>\n",
    "# <font color=\"#004D7F\" size=6>3. MLP de línea base</font>"
   ]
  },
  {
   "cell_type": "markdown",
   "metadata": {},
   "source": [
    "Vamos a usar un MLP clásico como base para la comparación con modelos de redes neuronales convolucionales. \n",
    "\n",
    "Importamos las clases, funciones y el dataset MNIST."
   ]
  },
  {
   "cell_type": "code",
   "execution_count": 2,
   "metadata": {},
   "outputs": [],
   "source": [
    "# Baseline MLP for MNIST dataset\n",
    "???\n",
    "\n",
    "# load data\n",
    "???"
   ]
  },
  {
   "cell_type": "markdown",
   "metadata": {},
   "source": [
    "Para un MLP clásico debemos reducir las imágenes a un vector de píxeles. En este caso, las imágenes de tamaño $28 × 28$ serán vectores de entrada de 784 píxeles. \n",
    "\n",
    "Realizamos esta transformación meidante la función `reshape()`. \n",
    "\n",
    "Los valores de los píxeles son números enteros, por lo que los convertimos a punto flotante para poder normalizarlos."
   ]
  },
  {
   "cell_type": "code",
   "execution_count": 3,
   "metadata": {},
   "outputs": [],
   "source": [
    "# flatten 28*28 images to a 784 vector for each image\n",
    "???"
   ]
  },
  {
   "cell_type": "markdown",
   "metadata": {},
   "source": [
    "Los valores de los píxeles están en una escala de grises entre 0 y 255. Podemos normalizar los valores de los píxeles en el rango 0 y 1 dividiendo cada valor por el máximo valor, i.e., 255."
   ]
  },
  {
   "cell_type": "code",
   "execution_count": 4,
   "metadata": {},
   "outputs": [],
   "source": [
    "# normalize inputs from 0-255 to 0-1\n",
    "???"
   ]
  },
  {
   "cell_type": "markdown",
   "metadata": {},
   "source": [
    "Finalmente, la variable de salida es un número entero de 0 a 9. Por tanto, usaremos One-Hot Encoding para transformar el vector de enteros de clase en una matriz binaria. \n",
    "\n",
    "Usaremos para ello la función de Keras `np_utils.to_categorical()`."
   ]
  },
  {
   "cell_type": "code",
   "execution_count": 5,
   "metadata": {},
   "outputs": [],
   "source": [
    "# one hot encode outputs\n",
    "???"
   ]
  },
  {
   "cell_type": "markdown",
   "metadata": {},
   "source": [
    "Vamos a definir nuestro modelo:\n",
    "1. El número de entradas será el tamaño máximo de pixeles (784)\n",
    "2. Tendrá una capa oculta con el mismo número de neuronas que entradas (784). \n",
    "3. Se utiliza una función de activación ReLU en la capa oculta. \n",
    "4. Se utiliza una función de activación Softmax en la capa de salida. \n",
    "5. La función de pérdida será `categorical_crossentropy`. \n",
    "6. Utilizaremos ADAM para aprender los pesos. \n",
    "<img src=\"Img/baselineMLP.png\" width=\"550\" height=\"550\" />"
   ]
  },
  {
   "cell_type": "code",
   "execution_count": 6,
   "metadata": {},
   "outputs": [],
   "source": [
    "# define baseline model\n",
    "def baseline_model():\n",
    "    # create model\n",
    "    ???\n",
    "    # Compile model\n",
    "    ???\n",
    "    return model"
   ]
  },
  {
   "cell_type": "markdown",
   "metadata": {},
   "source": [
    "Entrenamos y evaluamos el modelo. \n",
    "1. El modelo se ajusta a más de 10 épocas con actualizaciones cada 200 imágenes. \n",
    "2. Los datos de test se utilizan como conjunto de datos de validación.\n",
    "3. Se utiliza un valor `verbose` de 2. \n",
    "4. Evaluamos en test e imprimimos las métricas."
   ]
  },
  {
   "cell_type": "code",
   "execution_count": 7,
   "metadata": {},
   "outputs": [
    {
     "name": "stdout",
     "output_type": "stream",
     "text": [
      "Epoch 1/10\n",
      "300/300 - 2s - loss: 0.2766 - accuracy: 0.9217 - val_loss: 0.1363 - val_accuracy: 0.9601\n",
      "Epoch 2/10\n",
      "300/300 - 2s - loss: 0.1105 - accuracy: 0.9676 - val_loss: 0.0985 - val_accuracy: 0.9698\n",
      "Epoch 3/10\n",
      "300/300 - 2s - loss: 0.0712 - accuracy: 0.9794 - val_loss: 0.0774 - val_accuracy: 0.9770\n",
      "Epoch 4/10\n",
      "300/300 - 2s - loss: 0.0510 - accuracy: 0.9853 - val_loss: 0.0674 - val_accuracy: 0.9784\n",
      "Epoch 5/10\n",
      "300/300 - 2s - loss: 0.0373 - accuracy: 0.9892 - val_loss: 0.0677 - val_accuracy: 0.9797\n",
      "Epoch 6/10\n",
      "300/300 - 2s - loss: 0.0278 - accuracy: 0.9927 - val_loss: 0.0635 - val_accuracy: 0.9799\n",
      "Epoch 7/10\n",
      "300/300 - 2s - loss: 0.0217 - accuracy: 0.9944 - val_loss: 0.0647 - val_accuracy: 0.9782\n",
      "Epoch 8/10\n",
      "300/300 - 2s - loss: 0.0160 - accuracy: 0.9962 - val_loss: 0.0601 - val_accuracy: 0.9807\n",
      "Epoch 9/10\n",
      "300/300 - 2s - loss: 0.0114 - accuracy: 0.9977 - val_loss: 0.0607 - val_accuracy: 0.9810\n",
      "Epoch 10/10\n",
      "300/300 - 2s - loss: 0.0081 - accuracy: 0.9986 - val_loss: 0.0576 - val_accuracy: 0.9822\n",
      "Baseline Error: 1.78%\n"
     ]
    }
   ],
   "source": [
    "# build the model\n",
    "???\n",
    "\n",
    "# Fit the model\n",
    "???\n",
    "\n",
    "# Final evaluation of the model\n",
    "???"
   ]
  },
  {
   "cell_type": "markdown",
   "metadata": {},
   "source": [
    "---\n",
    "<div style=\"text-align: right\"> <font size=5> <a href=\"#indice\"><i class=\"fa fa-arrow-circle-up\" aria-hidden=\"true\" style=\"color:#004D7F\"></i></a></font></div>\n",
    "\n",
    "---"
   ]
  },
  {
   "cell_type": "markdown",
   "metadata": {},
   "source": [
    "<a id=\"section4\"></a>\n",
    "# <font color=\"#004D7F\" size=6>4. CNN para MNIST </font>"
   ]
  },
  {
   "cell_type": "markdown",
   "metadata": {},
   "source": [
    "Ahora que hemos visto cómo cargar el conjunto de datos MNIST y entrenar un modelo simple de perceptrón multicapa en él, es hora de desarrollar una red neuronal convolucional más sofisticada o un modelo CNN. \n",
    "\n",
    "Crearemos una CNN simple para MNIST que demuestra cómo utilizar todos los aspectos de una implementación de CNN moderna, incluidas las capas convolucionales, las capas de agrupación y las capas de dropout. \n",
    "\n",
    "El primer paso es importar las clases y funciones necesarias."
   ]
  },
  {
   "cell_type": "code",
   "execution_count": 8,
   "metadata": {},
   "outputs": [],
   "source": [
    "# Simple CNN for the MNIST Dataset\n",
    "from keras.datasets import mnist\n",
    "from keras.models import Sequential\n",
    "from keras.layers import Dense\n",
    "from keras.layers import Dropout\n",
    "from keras.layers import Flatten\n",
    "from keras.layers.convolutional import Conv2D\n",
    "from keras.layers.convolutional import MaxPooling2D\n",
    "from keras.utils import np_utils"
   ]
  },
  {
   "cell_type": "markdown",
   "metadata": {},
   "source": [
    "En Keras, las capas utilizadas para convoluciones bidimensionales esperan valores de píxeles con las dimensiones `[muestras]-[ancho]-[alto]-[canales]`. \n",
    "\n",
    "En cuanto al canal en MNIST, ya que está dada en escala de grises, la dimensión de píxel se establece en 1."
   ]
  },
  {
   "cell_type": "code",
   "execution_count": 9,
   "metadata": {},
   "outputs": [],
   "source": [
    "# load data\n",
    "???\n",
    "\n",
    "# reshape to be [samples][width][height][channels]\n",
    "???"
   ]
  },
  {
   "cell_type": "markdown",
   "metadata": {},
   "source": [
    "Normalizamos los valores de los píxeles en el rango 0 y 1 y realizar OHE en el target."
   ]
  },
  {
   "cell_type": "code",
   "execution_count": 10,
   "metadata": {},
   "outputs": [],
   "source": [
    "# normalize inputs from 0-255 to 0-1\n",
    "???\n",
    "\n",
    "# one hot encode outputs\n",
    "???"
   ]
  },
  {
   "cell_type": "markdown",
   "metadata": {},
   "source": [
    "A continuación, definimos nuestro modelo de red neuronal:\n",
    "\n",
    "1. La primera capa oculta es una capa convolucional llamada `Conv2D`. \n",
    "    * Tiene 32 mapas de características, con un tamaño de $5 × 5$ y una función de activación ReLu.\n",
    "2. Capa Pooling  `MaxPooling2D `. \n",
    "    * Tamaño de pacht de $2 × 2$.\n",
    "3. Capa de regularización `Dropout`. \n",
    "4. Capa `Flatten` para conversión de la matriz 2D en un vector (1D).\n",
    "5. Capa `Dense` con 128 neuronas y la función de activación ReLU.\n",
    "6. Capa de salida con 10 neuronas para las 10 clases y una función de activación **Softmax**.\n",
    "7. La compilación con ADAM, pérdida logarítmica como función de coste y Accuracy como métrica.\n",
    "\n",
    "<img src=\"Img/cnnTopology.png\" width=\"900\" height=\"900\" />"
   ]
  },
  {
   "cell_type": "code",
   "execution_count": 12,
   "metadata": {},
   "outputs": [],
   "source": [
    "# define a simple CNN model\n",
    "def baseline_model():\n",
    "    # create model\n",
    "    ???\n",
    "    # Compile model\n",
    "    ???\n",
    "    return model"
   ]
  },
  {
   "cell_type": "markdown",
   "metadata": {},
   "source": [
    "Entrenamos con 10 épocas a un tamaño de batch de 200."
   ]
  },
  {
   "cell_type": "code",
   "execution_count": 13,
   "metadata": {},
   "outputs": [
    {
     "name": "stdout",
     "output_type": "stream",
     "text": [
      "Epoch 1/10\n",
      "300/300 [==============================] - 11s 37ms/step - loss: 0.2567 - accuracy: 0.9261 - val_loss: 0.0812 - val_accuracy: 0.9762\n",
      "Epoch 2/10\n",
      "300/300 [==============================] - 11s 36ms/step - loss: 0.0784 - accuracy: 0.9769 - val_loss: 0.0540 - val_accuracy: 0.9823\n",
      "Epoch 3/10\n",
      "300/300 [==============================] - 13s 43ms/step - loss: 0.0558 - accuracy: 0.9830 - val_loss: 0.0484 - val_accuracy: 0.9847\n",
      "Epoch 4/10\n",
      "300/300 [==============================] - 13s 44ms/step - loss: 0.0437 - accuracy: 0.9863 - val_loss: 0.0412 - val_accuracy: 0.9859\n",
      "Epoch 5/10\n",
      "300/300 [==============================] - 13s 42ms/step - loss: 0.0351 - accuracy: 0.9892 - val_loss: 0.0391 - val_accuracy: 0.9871\n",
      "Epoch 6/10\n",
      "300/300 [==============================] - 13s 44ms/step - loss: 0.0301 - accuracy: 0.9905 - val_loss: 0.0351 - val_accuracy: 0.9883\n",
      "Epoch 7/10\n",
      "300/300 [==============================] - 13s 44ms/step - loss: 0.0241 - accuracy: 0.9926 - val_loss: 0.0293 - val_accuracy: 0.9901\n",
      "Epoch 8/10\n",
      "300/300 [==============================] - 17s 58ms/step - loss: 0.0194 - accuracy: 0.9940 - val_loss: 0.0364 - val_accuracy: 0.9883\n",
      "Epoch 9/10\n",
      "300/300 [==============================] - 13s 45ms/step - loss: 0.0176 - accuracy: 0.9946 - val_loss: 0.0286 - val_accuracy: 0.9897\n",
      "Epoch 10/10\n",
      "300/300 [==============================] - 11s 38ms/step - loss: 0.0144 - accuracy: 0.9952 - val_loss: 0.0316 - val_accuracy: 0.9903\n",
      "CNN Error: 0.97%\n"
     ]
    }
   ],
   "source": [
    "# build the model\n",
    "???\n",
    "\n",
    "# Fit the model\n",
    "???\n",
    "\n",
    "# Final evaluation of the model\n",
    "???"
   ]
  },
  {
   "cell_type": "markdown",
   "metadata": {},
   "source": [
    "---\n",
    "<div style=\"text-align: right\"> <font size=5> <a href=\"#indice\"><i class=\"fa fa-arrow-circle-up\" aria-hidden=\"true\" style=\"color:#004D7F\"></i></a></font></div>\n",
    "\n",
    "---"
   ]
  },
  {
   "cell_type": "markdown",
   "metadata": {},
   "source": [
    "<a id=\"section5\"></a>\n",
    "# <font color=\"#004D7F\" size=6>5. CNN más profunda para MNIST </font>"
   ]
  },
  {
   "cell_type": "markdown",
   "metadata": {},
   "source": [
    "Esta vez definimos una arquitectura con más capas de convolucionales, Max-pooling y capas completamente conectadas.\n",
    "\n",
    "1. Capa convolucional con 30 mapas de tamaño $5 × 5$.\n",
    "2. Capa de Pooling con patch de $2 × 2$.\n",
    "3. Capa convolucional con 15 mapas de tamaño $3 × 3$.\n",
    "4. Capa de Pooling con patch de $2 × 2$.\n",
    "5. Capa de Dropout del 20%.\n",
    "6. Capa Flatten.\n",
    "7. Capa completamente conectada con 128 neuronas y ReLu.\n",
    "8. Capa completamente conectada con 50 neuronas y ReLu\n",
    "9. Capa de salida cpm activación Softmax.\n",
    "10. La compilación con ADAM, pérdida logarítmica como función de coste y Accuracy como métrica.\n",
    "\n",
    "<img src=\"Img/cnnlarger.png\" width=\"1200\" height=\"1200\" />"
   ]
  },
  {
   "cell_type": "code",
   "execution_count": 14,
   "metadata": {},
   "outputs": [
    {
     "name": "stdout",
     "output_type": "stream",
     "text": [
      "Epoch 1/10\n",
      "300/300 [==============================] - 12s 41ms/step - loss: 0.3712 - accuracy: 0.8842 - val_loss: 0.0714 - val_accuracy: 0.9779\n",
      "Epoch 2/10\n",
      "300/300 [==============================] - 13s 45ms/step - loss: 0.0867 - accuracy: 0.9735 - val_loss: 0.0477 - val_accuracy: 0.9851\n",
      "Epoch 3/10\n",
      "300/300 [==============================] - 13s 43ms/step - loss: 0.0644 - accuracy: 0.9802 - val_loss: 0.0378 - val_accuracy: 0.9869\n",
      "Epoch 4/10\n",
      "300/300 [==============================] - 13s 45ms/step - loss: 0.0508 - accuracy: 0.9839 - val_loss: 0.0307 - val_accuracy: 0.9906\n",
      "Epoch 5/10\n",
      "300/300 [==============================] - 13s 44ms/step - loss: 0.0438 - accuracy: 0.9866 - val_loss: 0.0304 - val_accuracy: 0.9900\n",
      "Epoch 6/10\n",
      "300/300 [==============================] - 12s 41ms/step - loss: 0.0385 - accuracy: 0.9871 - val_loss: 0.0319 - val_accuracy: 0.9890\n",
      "Epoch 7/10\n",
      "300/300 [==============================] - 12s 41ms/step - loss: 0.0352 - accuracy: 0.9885 - val_loss: 0.0253 - val_accuracy: 0.9912\n",
      "Epoch 8/10\n",
      "300/300 [==============================] - 13s 42ms/step - loss: 0.0303 - accuracy: 0.9901 - val_loss: 0.0244 - val_accuracy: 0.9926\n",
      "Epoch 9/10\n",
      "300/300 [==============================] - 13s 42ms/step - loss: 0.0289 - accuracy: 0.9904 - val_loss: 0.0258 - val_accuracy: 0.9910\n",
      "Epoch 10/10\n",
      "300/300 [==============================] - 12s 41ms/step - loss: 0.0274 - accuracy: 0.9915 - val_loss: 0.0232 - val_accuracy: 0.9930\n",
      "Large CNN Error: 0.70%\n"
     ]
    }
   ],
   "source": [
    "def larger_model():\n",
    "    # create model\n",
    "    ???\n",
    "    # Compile model\n",
    "    ???\n",
    "    return model\n",
    "\n",
    "# build the model\n",
    "???\n",
    "\n",
    "# Fit the model\n",
    "???\n",
    "\n",
    "# Final evaluation of the model\n",
    "???"
   ]
  },
  {
   "cell_type": "markdown",
   "metadata": {},
   "source": [
    "<div style=\"text-align: right\"> <font size=5> <a href=\"#indice\"><i class=\"fa fa-arrow-circle-up\" aria-hidden=\"true\" style=\"color:#004D7F\"></i></a></font></div>\n",
    "\n",
    "---\n",
    "\n",
    "<div style=\"text-align: right\"> <font size=6><i class=\"fa fa-coffee\" aria-hidden=\"true\" style=\"color:#004D7F\"></i> </font></div>"
   ]
  }
 ],
 "metadata": {
  "kernelspec": {
   "display_name": "Python 3",
   "language": "python",
   "name": "python3"
  },
  "language_info": {
   "codemirror_mode": {
    "name": "ipython",
    "version": 3
   },
   "file_extension": ".py",
   "mimetype": "text/x-python",
   "name": "python",
   "nbconvert_exporter": "python",
   "pygments_lexer": "ipython3",
   "version": "3.6.9"
  }
 },
 "nbformat": 4,
 "nbformat_minor": 2
}
