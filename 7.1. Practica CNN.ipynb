{
 "cells": [
  {
   "cell_type": "markdown",
   "metadata": {
    "colab_type": "text",
    "id": "8AnXqzZ0flyw"
   },
   "source": [
    "<h1><font color=\"#113D68\" size=6>Deep Learning con Python y Keras</font></h1>\n",
    "\n",
    "<h1><font color=\"#113D68\" size=5>Parte 7. Conceptos avanzados</font></h1>\n",
    "\n",
    "<h1><font color=\"#113D68\" size=4>1. Prácticas en Keras</font></h1>\n",
    "\n",
    "<br><br>\n",
    "<div style=\"text-align: right\">\n",
    "<font color=\"#113D68\" size=3>Manuel Castillo Cara</font><br>\n",
    "\n",
    "</div>"
   ]
  },
  {
   "cell_type": "markdown",
   "metadata": {},
   "source": [
    "<a id=\"section0\"></a>\n",
    "# <font color=\"#004D7F\" size=5> Contexto</font>"
   ]
  },
  {
   "cell_type": "markdown",
   "metadata": {},
   "source": [
    "A lo largo de esta práctica vamos a tratar de resumir todos los conceptos vistos hasta ahora en prácticas, pero esta vez utilizando Keras:\n",
    "* Definición de un grafo\n",
    "* Entrenamiento de una red\n",
    "* Capas de la red\n",
    "* Carga de grandes bases de datos\n",
    "* Data augmentation\n",
    "\n",
    "Para ver todo esto, vamos a trabajar con dos bases de datos:\n",
    "* MNIST: la base de datos de números nos servirá para definir los conceptos básicos. \n",
    "* VGG 102 Category Flowers: la base de datos utilizada en las prácticas anteriores, que consiste en un problema de clasificación de imágenes y con el que veremos redes con capas más complejas, como cargar grandes bases de datos y el data augmentation."
   ]
  },
  {
   "cell_type": "markdown",
   "metadata": {
    "colab_type": "text",
    "id": "ZjchSxf9flyy"
   },
   "source": [
    "---\n",
    "\n",
    "<a id=\"indice\"></a>\n",
    "<h2><font color=\"#004D7F\" size=5>Índice</font></h2>\n",
    "\n",
    "* [1. Introducción](#section1)\n",
    "* [2. Conceptos básicos](#section2)\n",
    "    * [2.1. MNIST](#section2.1)\n",
    "    * [2.2. Grafo](#section2.2)\n",
    "    * [2.3. Entrenamiento](#section2.3)\n",
    "    * [2.4. Predicción y validación](#section2.4)\n",
    "* [3. Conceptos avanzados](#section3)\n",
    "    * [3.1. VGG 102 Category Flowers](#section3.1)\n",
    "    * [3.2. Red Convolucional](#section3.2)\n",
    "        * [summary](#section3.2.1)\n",
    "        * [get_config](#section3.2.2)\n",
    "    * [3.3. Entrenamiento y validación](#section3.3)\n",
    "    * [3.4. Data Augmentation](#section3.4)\n"
   ]
  },
  {
   "cell_type": "code",
   "execution_count": 4,
   "metadata": {
    "colab": {
     "base_uri": "https://localhost:8080/",
     "height": 34
    },
    "colab_type": "code",
    "executionInfo": {
     "elapsed": 3970,
     "status": "ok",
     "timestamp": 1554124067338,
     "user": {
      "displayName": "Fernando Rubio",
      "photoUrl": "",
      "userId": "13613469116164460032"
     },
     "user_tz": -120
    },
    "id": "Oo1iKduifly0",
    "outputId": "6c939ef1-a8c2-462a-8e2b-91845113b7fc"
   },
   "outputs": [
    {
     "name": "stdout",
     "output_type": "stream",
     "text": [
      "The autoreload extension is already loaded. To reload it, use:\n",
      "  %reload_ext autoreload\n"
     ]
    }
   ],
   "source": [
    "import os\n",
    "import numpy as np\n",
    "import tensorflow as tf\n",
    "import matplotlib.pyplot as plt\n",
    "import skimage\n",
    "import keras\n",
    "\n",
    "%matplotlib inline\n",
    "\n",
    "# for auto-reloading external modules\n",
    "# see http://stackoverflow.com/questions/1907993/autoreload-of-modules-in-ipython\n",
    "%load_ext autoreload\n",
    "%autoreload 2\n",
    "\n",
    "# Establecemos una semilla para numpy y tensorflow para poder reproducir la ejecución y los resultados\n",
    "SEED = 1000\n",
    "np.random.seed(SEED)\n",
    "tf.random.set_seed(SEED)"
   ]
  },
  {
   "cell_type": "markdown",
   "metadata": {
    "colab_type": "text",
    "id": "Nh7cew_-fly-"
   },
   "source": [
    "<a id=\"section1\"></a>\n",
    "# <font color=\"#004D7F\" size=6> 1. Introducción</font>"
   ]
  },
  {
   "cell_type": "markdown",
   "metadata": {
    "colab_type": "text",
    "id": "Nh7cew_-fly-"
   },
   "source": [
    "En esta práctica vamos a ver Keras, una de las APIs más importantes de Deep Learning escrita en Pyhton y que ofrece una capa de abstracción sobre librerías como TensorFlow o Theano.\n",
    "\n",
    "El objetivo de Keras es simplificar lo máximo posible la definición de los grafos, haciendo más fácil la tarea al usuario, pero sin perder la modularidad. Otro de sus puntos fuertes es la facilidad para crear nuevos módulos propios que extienden su funcionalidad. Y lo más importante, es Python. Por poneros un ejemplo, en Keras el entrenamiento se realiza mediante la función `fit`.\n",
    "\n",
    "En la siguiente gráfica vemos la importancia tanto de TensorFlow como de Keras en el panorama actual. [+ info](https://www.experfy.com/blog/deep-learning-framework-power-scores-2018)\n",
    "\n",
    "<img src=\"https://pbs.twimg.com/media/DXy_uc0VAAAIhKG.jpg\" width=\"500\">\n",
    "\n",
    "Esta clara la importancia de TensorFlow cuando hablamos de Deep Learning, por eso las prácticas anteriores se han dedicado exclusivamente a esta librería. Sin embargo, como habéis visto, Keras también es muy utilizada y esto se debe en gran parte a su sencillez y que, en realidad, cuando trabajemos con Keras, por debajo se ejecutará TensorFlow."
   ]
  },
  {
   "cell_type": "markdown",
   "metadata": {},
   "source": [
    "---\n",
    "<div style=\"text-align: right\"> <font size=5> <a href=\"#indice\"><i class=\"fa fa-arrow-circle-up\" aria-hidden=\"true\" style=\"color:#004D7F\"></i></a></font></div>\n",
    "\n",
    "---"
   ]
  },
  {
   "cell_type": "markdown",
   "metadata": {
    "colab_type": "text",
    "id": "kF9E7uiofly_"
   },
   "source": [
    "<a id=\"section2\"></a>\n",
    "# <font color=\"#004D7F\" size=6>2. Conceptos básicos</font>"
   ]
  },
  {
   "cell_type": "markdown",
   "metadata": {
    "colab_type": "text",
    "id": "kF9E7uiofly_"
   },
   "source": [
    "En esta sección vamos a ver como diseñar, entrenar y validar una red neuronal con Keras y para ello vamos a usar la base de datos MNIST. Esta red va a estar compuesta por capas **Fully Connected** o densas y la función de activación va a ser **\"ReLU\"**."
   ]
  },
  {
   "cell_type": "markdown",
   "metadata": {
    "colab_type": "text",
    "id": "kF9E7uiofly_"
   },
   "source": [
    "<a id=\"section2.1\"></a>\n",
    "# <font color=\"#004D7F\" size=5>2.1. MNIST</font>"
   ]
  },
  {
   "cell_type": "markdown",
   "metadata": {
    "colab_type": "text",
    "id": "kF9E7uiofly_"
   },
   "source": [
    "Antes de empezar vamos a repasar en que consiste la base de datos MNIST y a cargar los datos. MNIST es una base de datos que consta de imágenes de tamaño 28x28 de dígitos escritos a mano que van del 0 al 9 y que han sido etiquetadas con el número representado en la imagen. Inicialmente, tenemos 60.000 imágenes en el conjunto de train y 10.000 en el de test, sin embargo, el conjunto de train lo vamos a partir en entrenamiento y validación, siguiendo las prácticas anteriores."
   ]
  },
  {
   "cell_type": "code",
   "execution_count": 5,
   "metadata": {
    "colab": {
     "base_uri": "https://localhost:8080/",
     "height": 156
    },
    "colab_type": "code",
    "executionInfo": {
     "elapsed": 4491,
     "status": "ok",
     "timestamp": 1554124067891,
     "user": {
      "displayName": "Fernando Rubio",
      "photoUrl": "",
      "userId": "13613469116164460032"
     },
     "user_tz": -120
    },
    "id": "1PrDiCSOflzA",
    "outputId": "81ea6103-e17f-4a83-9189-7d5b773dfece"
   },
   "outputs": [
    {
     "name": "stdout",
     "output_type": "stream",
     "text": [
      "Dimensiones del conjunto de características de train: (54000, 28, 28)\n",
      "Dimensiones del conjunto de etiquetas de train: (54000,)\n",
      "\n",
      "Dimensiones del conjunto de características de valid: (6000, 28, 28)\n",
      "Dimensiones del conjunto de etiquetas de valid: (6000,)\n",
      "\n",
      "Dimensiones del conjunto de características de test: (10000, 28, 28)\n",
      "Dimensiones del conjunto de etiquetas de test: (10000,)\n"
     ]
    }
   ],
   "source": [
    "# keras ya nos da una función con la que cargar esta base de datos\n",
    "from keras.datasets import mnist\n",
    "from sklearn.model_selection import train_test_split\n",
    "\n",
    "(x_train_valid, y_train_valid), (x_test, y_test) = mnist.load_data()\n",
    "\n",
    "x_train, x_valid, y_train, y_valid = train_test_split(\n",
    "    x_train_valid, y_train_valid, test_size=0.1, random_state=SEED, stratify=y_train_valid)\n",
    "\n",
    "print(\"Dimensiones del conjunto de características de train: {}\".format(x_train.shape))\n",
    "print(\"Dimensiones del conjunto de etiquetas de train: {}\".format(y_train.shape))\n",
    "print()\n",
    "print(\"Dimensiones del conjunto de características de valid: {}\".format(x_valid.shape))\n",
    "print(\"Dimensiones del conjunto de etiquetas de valid: {}\".format(y_valid.shape))\n",
    "print()\n",
    "print(\"Dimensiones del conjunto de características de test: {}\".format(x_test.shape))\n",
    "print(\"Dimensiones del conjunto de etiquetas de test: {}\".format(y_test.shape))"
   ]
  },
  {
   "cell_type": "code",
   "execution_count": 6,
   "metadata": {
    "colab": {},
    "colab_type": "code",
    "id": "Q9QqBHxeflzE"
   },
   "outputs": [],
   "source": [
    "def show_images(images, gray=True):\n",
    "    fig=plt.figure(figsize=(8, 8))\n",
    "    index = np.random.randint(len(images), size=100)\n",
    "    for i in range(100):\n",
    "        fig.add_subplot(10, 10, i+1)\n",
    "        plt.axis('off')\n",
    "        if gray:\n",
    "            color = 'gray'\n",
    "        else:\n",
    "            color = None\n",
    "        plt.imshow(images[index[i]], cmap=color)\n",
    "    plt.show()"
   ]
  },
  {
   "cell_type": "code",
   "execution_count": 7,
   "metadata": {
    "colab": {
     "base_uri": "https://localhost:8080/",
     "height": 486
    },
    "colab_type": "code",
    "executionInfo": {
     "elapsed": 9671,
     "status": "ok",
     "timestamp": 1554124073118,
     "user": {
      "displayName": "Fernando Rubio",
      "photoUrl": "",
      "userId": "13613469116164460032"
     },
     "user_tz": -120
    },
    "id": "DgYlsid3flzI",
    "outputId": "f84d1460-1347-4faf-9962-27032d7a1e5b"
   },
   "outputs": [
    {
     "data": {
      "image/png": "[encoded data removed]",
      "text/plain": [
       "<Figure size 576x576 with 100 Axes>"
      ]
     },
     "metadata": {
      "needs_background": "light"
     },
     "output_type": "display_data"
    }
   ],
   "source": [
    "show_images(x_train)"
   ]
  },
  {
   "cell_type": "markdown",
   "metadata": {
    "colab_type": "text",
    "id": "X8X0fQq6flzM"
   },
   "source": [
    "Como vamos a ver conceptos básicos de Keras, es mejor tener las imágenes como un vector de características, por lo que vamos a \"aplanar\" nuestras imágenes de train y test en una matriz de 2 dimensiones. Además, vamos a normalizar los valores entre 0 y 1, para ello dividimos entre 255, ya que los valores en escala de grises van del 0 al 255.\n",
    "\n",
    "Y, al igual que en todos los problemas multiclase en deep learning, hay que convertir los valores a codificación **one hot** para poder trabajar con ellos. Lo vamos a dejar ya preparado con la función `to_categorical` de `keras.utils`."
   ]
  },
  {
   "cell_type": "code",
   "execution_count": 8,
   "metadata": {
    "colab": {
     "base_uri": "https://localhost:8080/",
     "height": 156
    },
    "colab_type": "code",
    "executionInfo": {
     "elapsed": 9633,
     "status": "ok",
     "timestamp": 1554124073122,
     "user": {
      "displayName": "Fernando Rubio",
      "photoUrl": "",
      "userId": "13613469116164460032"
     },
     "user_tz": -120
    },
    "id": "bD1SWfDrflzN",
    "outputId": "0303c7ac-df9e-4c75-f46d-52748f9d2b58"
   },
   "outputs": [
    {
     "name": "stdout",
     "output_type": "stream",
     "text": [
      "Dimensiones del conjunto de características de train aplanadas: (54000, 784)\n",
      "Dimensiones del conjunto de etiquetas de train en one hot: (54000, 10)\n",
      "\n",
      "Dimensiones del conjunto de características de train aplanadas: (6000, 784)\n",
      "Dimensiones del conjunto de etiquetas de train en one hot: (6000, 10)\n",
      "\n",
      "Dimensiones del conjunto de características de test aplanadas: (10000, 784)\n",
      "Dimensiones del conjunto de etiquetas de test en one hot: (10000, 10)\n"
     ]
    }
   ],
   "source": [
    "x_train = x_train.astype('float32')\n",
    "x_train /= 255\n",
    "x_train = x_train.reshape(x_train.shape[0],-1)\n",
    "y_train = keras.utils.to_categorical(y_train, num_classes=10)\n",
    "print(\"Dimensiones del conjunto de características de train aplanadas: {}\".format(x_train.shape))\n",
    "print(\"Dimensiones del conjunto de etiquetas de train en one hot: {}\".format(y_train.shape))\n",
    "print()\n",
    "\n",
    "x_valid = x_valid.astype('float32')\n",
    "x_valid /= 255\n",
    "x_valid = x_valid.reshape(x_valid.shape[0],-1)\n",
    "y_valid = keras.utils.to_categorical(y_valid, num_classes=10)\n",
    "print(\"Dimensiones del conjunto de características de train aplanadas: {}\".format(x_valid.shape))\n",
    "print(\"Dimensiones del conjunto de etiquetas de train en one hot: {}\".format(y_valid.shape))\n",
    "print()\n",
    "\n",
    "\n",
    "x_test = x_test.astype('float32')\n",
    "x_test /= 255\n",
    "x_test = x_test.reshape(x_test.shape[0],-1)\n",
    "y_test = keras.utils.to_categorical(y_test, num_classes=10)\n",
    "print(\"Dimensiones del conjunto de características de test aplanadas: {}\".format(x_test.shape))\n",
    "print(\"Dimensiones del conjunto de etiquetas de test en one hot: {}\".format(y_test.shape))"
   ]
  },
  {
   "cell_type": "markdown",
   "metadata": {
    "colab_type": "text",
    "id": "i8x6PsMkflzR"
   },
   "source": [
    "<a id=\"section2.2\"></a>\n",
    "# <font color=\"#004D7F\" size=5>2.2. Grafo</font>"
   ]
  },
  {
   "cell_type": "markdown",
   "metadata": {
    "colab_type": "text",
    "id": "i8x6PsMkflzR"
   },
   "source": [
    "Existen dos formas de definir un grafo en Keras: `Sequential` y `Model`. En resumen, `Sequential` es más fácil de usar que `Model`, pero es más restrictivo en cuanto a las entradas/salidas y las conexiones entre diferentes capas."
   ]
  },
  {
   "cell_type": "markdown",
   "metadata": {
    "colab_type": "text",
    "id": "i8x6PsMkflzR"
   },
   "source": [
    "<div class=\"alert alert-block alert-info\">\n",
    "    \n",
    "<i class=\"fa fa-info-circle\" aria-hidden=\"true\"></i>\n",
    "Podéis consultar mejor las diferencias en la [documentación de Keras](https://keras.io/models/about-keras-models/) o en este [artículo](https://jovianlin.io/keras-models-sequential-vs-functional/).\n"
   ]
  },
  {
   "cell_type": "markdown",
   "metadata": {
    "colab_type": "text",
    "id": "i8x6PsMkflzR"
   },
   "source": [
    "Nosotros vamos a utilizar `Sequential`. Este objeto define un grafo lineal, donde las capas se van interconectando por en el orden en el que las vamos añadiendo. Trabajar con `Sequential` es igual que utilizar una lista de python, donde con la función `add()` vamos añadiendo capas. Además, también podemos inicializar el objeto con una lista. \n",
    "\n",
    "Veamos un ejemplo de ambos casos definiendo una red para MNIST con dos capas ocultas `Fully connected` (`Dense` en Keras) con 32 nodos cada una, `ReLU` como función de activación y `softmax` en la salida."
   ]
  },
  {
   "cell_type": "code",
   "execution_count": 30,
   "metadata": {
    "colab": {
     "base_uri": "https://localhost:8080/",
     "height": 89
    },
    "colab_type": "code",
    "executionInfo": {
     "elapsed": 9622,
     "status": "ok",
     "timestamp": 1554124073132,
     "user": {
      "displayName": "Fernando Rubio",
      "photoUrl": "",
      "userId": "13613469116164460032"
     },
     "user_tz": -120
    },
    "id": "Ig6PnnX1flzS",
    "outputId": "f6042108-bd05-4c83-cd75-d5d7f3d8856c"
   },
   "outputs": [],
   "source": [
    "from keras.models import Sequential\n",
    "from keras.layers import Dense, Activation\n",
    "\n",
    "model = Sequential()\n",
    "model.add(Dense(32, input_shape=(784,), activation='relu')) # Primera capa oculta\n",
    "model.add(Dense(32, activation='relu')) # Segunda capa oculta\n",
    "model.add(Dense(10, activation='softmax')) # Salida (10 clases)"
   ]
  },
  {
   "cell_type": "markdown",
   "metadata": {
    "colab_type": "text",
    "id": "Kd-PBemTflzc"
   },
   "source": [
    "Si os fijáis, en ambos modelos, en la primera capa se ha añadido `input_shape`. Esto hay que hacerlo obligatoriamente en la primera y sólo en la primera capa de todos los modelos, indicando el tamaño de la entrada. Este valor es 784 (28*28) que corresponde con el número de pixels de las imágenes de MNIST."
   ]
  },
  {
   "cell_type": "markdown",
   "metadata": {
    "colab_type": "text",
    "id": "Kd-PBemTflzc"
   },
   "source": [
    "<a id=\"section2.3\"></a>\n",
    "# <font color=\"#004D7F\" size=5>2.3. Entrenamiento</font>"
   ]
  },
  {
   "cell_type": "markdown",
   "metadata": {
    "colab_type": "text",
    "id": "Kd-PBemTflzc"
   },
   "source": [
    "El siguiente paso es definir el aprendizaje, es decir, la función de perdida (`loss`) y el optimizador. Keras define estos conceptos mediante la función `compile`. Esta función tiene como parámetros de entrada `loss` y `optimizer`, que pueden ser definidos mediante `string`, para usar una función concreta con sus valores por defecto, o un objeto que defina la función. Además, podemos añadir diferentes métricas que se calcularán durante el proceso de aprendizaje y de validación.\n",
    "\n",
    "Vamos a ver unos ejemplos de como funciona."
   ]
  },
  {
   "cell_type": "markdown",
   "metadata": {
    "colab_type": "text",
    "id": "Kd-PBemTflzc"
   },
   "source": [
    "<div class=\"alert alert-block alert-info\">\n",
    "<i class=\"fa fa-info-circle\" aria-hidden=\"true\"></i>\n",
    "Podéis consultar la lista de funciones [`loss`](https://keras.io/losses/) disponibles en Keras en  y los [`optimizer`](https://keras.io/optimizers/)\n",
    "</div>"
   ]
  },
  {
   "cell_type": "code",
   "execution_count": 20,
   "metadata": {
    "colab": {},
    "colab_type": "code",
    "id": "jryB-soPflzd"
   },
   "outputs": [],
   "source": [
    "# Ejemplo con las funciones predefinidas y con valores por defecto\n",
    "model.compile(loss='categorical_crossentropy', optimizer='sgd')\n",
    "# Podemos añadir métricas (estas metricas no se van a usar para el entrenamiento)\n",
    "model.compile(loss='categorical_crossentropy', optimizer='sgd', metrics=['acc'])"
   ]
  },
  {
   "cell_type": "markdown",
   "metadata": {},
   "source": [
    "Ejemplo con la función de optimización con otra configuración.\n",
    "\n",
    "Realmente las funciones de `loss` ya vienen predefinidas y no tienen parámetros de configuración"
   ]
  },
  {
   "cell_type": "code",
   "execution_count": 31,
   "metadata": {
    "colab": {},
    "colab_type": "code",
    "id": "jryB-soPflzd"
   },
   "outputs": [],
   "source": [
    "from keras.optimizers import SGD\n",
    "sgd = SGD(lr=0.001, decay=1e-6, momentum=0.9, nesterov=True)\n",
    "model.compile(loss='categorical_crossentropy', optimizer=sgd, metrics=['acc'])"
   ]
  },
  {
   "cell_type": "markdown",
   "metadata": {
    "colab_type": "text",
    "id": "Nn26NZ8nflzg"
   },
   "source": [
    "Y ya sólo nos queda realizar el entrenamiento con la función `fit` como si de un algoritmo de SciKit se tratase. Esta función tiene como parámetros de entrada la matriz de características, las clases, el número de epochs y el tamaño del batch y devuelve un objeto History con información sobre el entrenamiento, como el `loss` obtenido o las `metrics` que hayamos indicado en `compile`."
   ]
  },
  {
   "cell_type": "code",
   "execution_count": 32,
   "metadata": {
    "colab": {
     "base_uri": "https://localhost:8080/",
     "height": 454
    },
    "colab_type": "code",
    "executionInfo": {
     "elapsed": 28529,
     "status": "ok",
     "timestamp": 1554124092102,
     "user": {
      "displayName": "Fernando Rubio",
      "photoUrl": "",
      "userId": "13613469116164460032"
     },
     "user_tz": -120
    },
    "id": "vaMQcBXpflzh",
    "outputId": "b033bc9c-bb66-48c9-a6f0-995e88d3467b",
    "scrolled": true
   },
   "outputs": [
    {
     "name": "stdout",
     "output_type": "stream",
     "text": [
      "Epoch 1/20\n",
      "422/422 [==============================] - 1s 1ms/step - loss: 1.7882 - acc: 0.4442 - val_loss: 1.1276 - val_acc: 0.7222\n",
      "Epoch 2/20\n",
      "422/422 [==============================] - 1s 1ms/step - loss: 0.7845 - acc: 0.7966 - val_loss: 0.5934 - val_acc: 0.8387\n",
      "Epoch 3/20\n",
      "422/422 [==============================] - 0s 1ms/step - loss: 0.5022 - acc: 0.8629 - val_loss: 0.4589 - val_acc: 0.8738\n",
      "Epoch 4/20\n",
      "422/422 [==============================] - 0s 1ms/step - loss: 0.4118 - acc: 0.8853 - val_loss: 0.4043 - val_acc: 0.8870\n",
      "Epoch 5/20\n",
      "422/422 [==============================] - 0s 1ms/step - loss: 0.3680 - acc: 0.8957 - val_loss: 0.3727 - val_acc: 0.8938\n",
      "Epoch 6/20\n",
      "422/422 [==============================] - 0s 1ms/step - loss: 0.3409 - acc: 0.9020 - val_loss: 0.3513 - val_acc: 0.9008\n",
      "Epoch 7/20\n",
      "422/422 [==============================] - 0s 1ms/step - loss: 0.3214 - acc: 0.9065 - val_loss: 0.3361 - val_acc: 0.9052\n",
      "Epoch 8/20\n",
      "422/422 [==============================] - 0s 1ms/step - loss: 0.3060 - acc: 0.9114 - val_loss: 0.3235 - val_acc: 0.9092\n",
      "Epoch 9/20\n",
      "422/422 [==============================] - 1s 1ms/step - loss: 0.2928 - acc: 0.9157 - val_loss: 0.3122 - val_acc: 0.9127\n",
      "Epoch 10/20\n",
      "422/422 [==============================] - 1s 1ms/step - loss: 0.2816 - acc: 0.9194 - val_loss: 0.3034 - val_acc: 0.9142\n",
      "Epoch 11/20\n",
      "422/422 [==============================] - 0s 1ms/step - loss: 0.2716 - acc: 0.9217 - val_loss: 0.2948 - val_acc: 0.9172\n",
      "Epoch 12/20\n",
      "422/422 [==============================] - 0s 1ms/step - loss: 0.2627 - acc: 0.9241 - val_loss: 0.2879 - val_acc: 0.9185\n",
      "Epoch 13/20\n",
      "422/422 [==============================] - 0s 1ms/step - loss: 0.2547 - acc: 0.9266 - val_loss: 0.2815 - val_acc: 0.9195\n",
      "Epoch 14/20\n",
      "422/422 [==============================] - 0s 1ms/step - loss: 0.2472 - acc: 0.9281 - val_loss: 0.2753 - val_acc: 0.9212\n",
      "Epoch 15/20\n",
      "422/422 [==============================] - 0s 1ms/step - loss: 0.2406 - acc: 0.9308 - val_loss: 0.2696 - val_acc: 0.9233\n",
      "Epoch 16/20\n",
      "422/422 [==============================] - 0s 1ms/step - loss: 0.2346 - acc: 0.9327 - val_loss: 0.2648 - val_acc: 0.9250\n",
      "Epoch 17/20\n",
      "422/422 [==============================] - 0s 1ms/step - loss: 0.2292 - acc: 0.9341 - val_loss: 0.2596 - val_acc: 0.9270\n",
      "Epoch 18/20\n",
      "422/422 [==============================] - 0s 1ms/step - loss: 0.2242 - acc: 0.9357 - val_loss: 0.2560 - val_acc: 0.9282\n",
      "Epoch 19/20\n",
      "422/422 [==============================] - 0s 1ms/step - loss: 0.2193 - acc: 0.9363 - val_loss: 0.2521 - val_acc: 0.9293\n",
      "Epoch 20/20\n",
      "422/422 [==============================] - 0s 1ms/step - loss: 0.2147 - acc: 0.9379 - val_loss: 0.2472 - val_acc: 0.9328\n"
     ]
    }
   ],
   "source": [
    "history = model.fit(x_train, y_train, validation_data=(x_valid, y_valid), epochs=20, batch_size=128)"
   ]
  },
  {
   "cell_type": "code",
   "execution_count": 33,
   "metadata": {
    "colab": {
     "base_uri": "https://localhost:8080/",
     "height": 34
    },
    "colab_type": "code",
    "executionInfo": {
     "elapsed": 28507,
     "status": "ok",
     "timestamp": 1554124092107,
     "user": {
      "displayName": "Fernando Rubio",
      "photoUrl": "",
      "userId": "13613469116164460032"
     },
     "user_tz": -120
    },
    "id": "lzGhEXer9xgJ",
    "outputId": "9403424c-4617-4f02-c98b-0abd72a3b3e8"
   },
   "outputs": [
    {
     "name": "stdout",
     "output_type": "stream",
     "text": [
      "dict_keys(['loss', 'acc', 'val_loss', 'val_acc'])\n"
     ]
    }
   ],
   "source": [
    "print(history.history.keys())"
   ]
  },
  {
   "cell_type": "code",
   "execution_count": 34,
   "metadata": {
    "colab": {
     "base_uri": "https://localhost:8080/",
     "height": 280
    },
    "colab_type": "code",
    "executionInfo": {
     "elapsed": 29499,
     "status": "ok",
     "timestamp": 1554124093134,
     "user": {
      "displayName": "Fernando Rubio",
      "photoUrl": "",
      "userId": "13613469116164460032"
     },
     "user_tz": -120
    },
    "id": "lz1s6-HL-Hbk",
    "outputId": "1126cd4d-f4e6-4b4a-c6ae-824dc2f70872"
   },
   "outputs": [
    {
     "data": {
      "image/png": "[encoded data removed]",
      "text/plain": [
       "<Figure size 432x288 with 1 Axes>"
      ]
     },
     "metadata": {
      "needs_background": "light"
     },
     "output_type": "display_data"
    }
   ],
   "source": [
    "plt.plot(history.history['loss'])\n",
    "plt.plot(history.history['val_loss'])\n",
    "plt.legend(['train','valid'])\n",
    "plt.title('Cross Entropy')\n",
    "plt.show()"
   ]
  },
  {
   "cell_type": "code",
   "execution_count": 35,
   "metadata": {
    "colab": {
     "base_uri": "https://localhost:8080/",
     "height": 280
    },
    "colab_type": "code",
    "executionInfo": {
     "elapsed": 29482,
     "status": "ok",
     "timestamp": 1554124093151,
     "user": {
      "displayName": "Fernando Rubio",
      "photoUrl": "",
      "userId": "13613469116164460032"
     },
     "user_tz": -120
    },
    "id": "jRvNsHS1flzl",
    "outputId": "33143705-e1a5-40f8-ce3a-584edfe98d7c"
   },
   "outputs": [
    {
     "data": {
      "image/png": "[encoded data removed]",
      "text/plain": [
       "<Figure size 432x288 with 1 Axes>"
      ]
     },
     "metadata": {
      "needs_background": "light"
     },
     "output_type": "display_data"
    }
   ],
   "source": [
    "# Mostramos la evolución del accuracy a través de los epoch\n",
    "plt.plot(history.history['acc'])\n",
    "plt.plot(history.history['val_acc'])\n",
    "plt.legend(['train','valid'])\n",
    "plt.title('Accuracy')\n",
    "plt.show()"
   ]
  },
  {
   "cell_type": "markdown",
   "metadata": {
    "colab_type": "text",
    "id": "z3T2uzMjflzq"
   },
   "source": [
    "<a id=\"section2.4\"></a>\n",
    "# <font color=\"#004D7F\" size=5>2.4. Predicción y test</font>"
   ]
  },
  {
   "cell_type": "markdown",
   "metadata": {
    "colab_type": "text",
    "id": "z3T2uzMjflzq"
   },
   "source": [
    "El objeto `Sequential` además incluye funciones para obtener las predicciones de nuevos casos y de obtener automáticamente los resultados siguiendo las métricas que hayamos indicado.\n",
    "\n",
    "Vamos a ver primero como sería el proceso de predicción, para un subconjunto de imágenes de test. Para ello contamos con varias funciones, al igual que pasaba con SciKit, que son:\n",
    "* `predict`: la salida de la última capa.\n",
    "* `predict_proba`: las probabilidades normalizadas de las salidas (si nuestra red ya incluye softmax al final, el resultado es el mismo que la función anterior).\n",
    "* `predict_class`: la clase predicha, equivalente al argmax a las funciones anteriores."
   ]
  },
  {
   "cell_type": "code",
   "execution_count": 36,
   "metadata": {
    "colab": {
     "base_uri": "https://localhost:8080/",
     "height": 139
    },
    "colab_type": "code",
    "executionInfo": {
     "elapsed": 30186,
     "status": "ok",
     "timestamp": 1554124093886,
     "user": {
      "displayName": "Fernando Rubio",
      "photoUrl": "",
      "userId": "13613469116164460032"
     },
     "user_tz": -120
    },
    "id": "rdcygcCPflzq",
    "outputId": "d3d98c0a-f460-4cd1-f568-bf89e314be6e"
   },
   "outputs": [
    {
     "name": "stdout",
     "output_type": "stream",
     "text": [
      "WARNING:tensorflow:From <ipython-input-36-79a157463178>:2: Sequential.predict_classes (from tensorflow.python.keras.engine.sequential) is deprecated and will be removed after 2021-01-01.\n",
      "Instructions for updating:\n",
      "Please use instead:* `np.argmax(model.predict(x), axis=-1)`,   if your model does multi-class classification   (e.g. if it uses a `softmax` last-layer activation).* `(model.predict(x) > 0.5).astype(\"int32\")`,   if your model does binary classification   (e.g. if it uses a `sigmoid` last-layer activation).\n"
     ]
    },
    {
     "data": {
      "image/png": "[encoded data removed]",
      "text/plain": [
       "<Figure size 1440x576 with 10 Axes>"
      ]
     },
     "metadata": {},
     "output_type": "display_data"
    }
   ],
   "source": [
    "# En este caso nos quedamos con las clases\n",
    "predictions = model.predict_classes(x_test)\n",
    "\n",
    "# Mostramos algunos digitos con las clases predichas\n",
    "fig=plt.figure(figsize=(20, 8))\n",
    "index = np.random.randint(len(x_test), size=10)\n",
    "for i in range(10):\n",
    "    fig_i = fig.add_subplot(1, 10, i+1)\n",
    "    fig_i.set_xticks(())\n",
    "    fig_i.set_yticks(())\n",
    "    fig_i.set_xlabel(\"Prediction: {}\".format(predictions[index[i]]))\n",
    "    plt.imshow(x_test[index[i]].reshape((28,28)), cmap='gray')\n",
    "plt.show()"
   ]
  },
  {
   "cell_type": "markdown",
   "metadata": {
    "colab_type": "text",
    "id": "BlwBeO9vflzu"
   },
   "source": [
    "Nada mal, ahora vamos a obtener algunos resultados sobre el test. Para ello utilizamos `evaluate`, que nos devolverá los valores `loss` y las `metrics` para un conjunto de test."
   ]
  },
  {
   "cell_type": "code",
   "execution_count": 37,
   "metadata": {
    "colab": {
     "base_uri": "https://localhost:8080/",
     "height": 86
    },
    "colab_type": "code",
    "executionInfo": {
     "elapsed": 31048,
     "status": "ok",
     "timestamp": 1554124094782,
     "user": {
      "displayName": "Fernando Rubio",
      "photoUrl": "",
      "userId": "13613469116164460032"
     },
     "user_tz": -120
    },
    "id": "68xE0YLfflzv",
    "outputId": "9028f04a-cf3f-4f94-c8ae-46aad3d45d12"
   },
   "outputs": [
    {
     "name": "stdout",
     "output_type": "stream",
     "text": [
      "313/313 [==============================] - 0s 593us/step - loss: 0.2142 - acc: 0.9381\n",
      "\n",
      "Loss: 0.21421925723552704\n",
      "Accuracy: 0.9380999803543091\n"
     ]
    }
   ],
   "source": [
    "score = model.evaluate(x_test, y_test)\n",
    "print()\n",
    "print(\"Loss: {}\\nAccuracy: {}\".format(score[0],score[1]))"
   ]
  },
  {
   "cell_type": "markdown",
   "metadata": {
    "colab_type": "text",
    "id": "eVP1fHGsflz3"
   },
   "source": [
    "---\n",
    "\n",
    "<h3><font color=\"#004D7F\" size=5> <i class=\"fa fa-pencil-square-o\" aria-hidden=\"true\" style=\"color:#113D68\"></i> Ejercicio opcional </font></h3>\n",
    "\n",
    "Los resultados no son malos, pero se pueden mejorar. Por eso, en este primer ejercicio se pide que trateis de mejorar la tasa de acierto, modificando la red y/o el optimizador."
   ]
  },
  {
   "cell_type": "code",
   "execution_count": 0,
   "metadata": {
    "colab": {},
    "colab_type": "code",
    "id": "rF9Fx0Xsflz4"
   },
   "outputs": [],
   "source": [
    "#TODO"
   ]
  },
  {
   "cell_type": "markdown",
   "metadata": {},
   "source": [
    "---\n",
    "<div style=\"text-align: right\"> <font size=5> <a href=\"#indice\"><i class=\"fa fa-arrow-circle-up\" aria-hidden=\"true\" style=\"color:#004D7F\"></i></a></font></div>\n",
    "\n",
    "---"
   ]
  },
  {
   "cell_type": "markdown",
   "metadata": {
    "colab_type": "text",
    "id": "JKach_qKflz8"
   },
   "source": [
    "<a id=\"section3\"></a>\n",
    "# <font color=\"#004D7F\" size=6>3. Conceptos avanzados</font>"
   ]
  },
  {
   "cell_type": "markdown",
   "metadata": {
    "colab_type": "text",
    "id": "JKach_qKflz8"
   },
   "source": [
    "Una vez visto como hacer un grafo y entrenarlo en Keras, vamos a ver otras capas como las convolucionales, dropout, normalización, y para ello esta vez vamos a tratar un problema un poco más complejo, **VGG 102 Category Flowers**."
   ]
  },
  {
   "cell_type": "markdown",
   "metadata": {
    "colab_type": "text",
    "id": "JKach_qKflz8"
   },
   "source": [
    "<a id=\"section3.1\"></a>\n",
    "# <font color=\"#004D7F\" size=5>3.1. VGG 102 Category Flowers</font>"
   ]
  },
  {
   "cell_type": "markdown",
   "metadata": {
    "colab_type": "text",
    "id": "JKach_qKflz8"
   },
   "source": [
    "Este problema ya lo hemos visto en prácticas anteriores, por lo que vamos a cargar la base de datos que se generó en la práctica 3 de preprocesamiento de imágenes. Recordemos que se trata de un problema de clasificación de imágenes donde la clase es una de las 102 posibles etiquetas que representan flores que aparecen en la foto."
   ]
  },
  {
   "cell_type": "code",
   "execution_count": 41,
   "metadata": {
    "colab": {
     "base_uri": "https://localhost:8080/",
     "height": 34
    },
    "colab_type": "code",
    "executionInfo": {
     "elapsed": 155383,
     "status": "ok",
     "timestamp": 1554124219147,
     "user": {
      "displayName": "Fernando Rubio",
      "photoUrl": "",
      "userId": "13613469116164460032"
     },
     "user_tz": -120
    },
    "id": "WReTkX6T1ADw",
    "outputId": "cdcfc2e0-b50c-456e-89a5-302846687807"
   },
   "outputs": [
    {
     "name": "stdout",
     "output_type": "stream",
     "text": [
      "...1631%, 0 MB, 75573 KB/s, 0 seconds passeded"
     ]
    },
    {
     "data": {
      "text/plain": [
       "('vgg102flowers_targets.mat', <http.client.HTTPMessage at 0x7f263a698b38>)"
      ]
     },
     "execution_count": 41,
     "metadata": {},
     "output_type": "execute_result"
    }
   ],
   "source": [
    "import sys\n",
    "import time\n",
    "import urllib.request\n",
    "import tarfile\n",
    "\n",
    "def reporthook(count, block_size, total_size):\n",
    "    # From: https://blog.shichao.io/2012/10/04/progress_speed_indicator_for_urlretrieve_in_python.html\n",
    "    global start_time\n",
    "    if count == 0:\n",
    "        start_time = time.time()\n",
    "        return\n",
    "    duration = time.time() - start_time\n",
    "    progress_size = int(count * block_size)\n",
    "    speed = int(progress_size / (1024 * duration))\n",
    "    percent = int(count * block_size * 100 / total_size)\n",
    "    sys.stdout.write(\"\\r...%d%%, %d MB, %d KB/s, %d seconds passed\" %\n",
    "                    (percent, progress_size / (1024 * 1024), speed, duration))\n",
    "    sys.stdout.flush()\n",
    "\n",
    "# Download and extract\n",
    "data_url = 'http://www.robots.ox.ac.uk/~vgg/data/flowers/102/102flowers.tgz'\n",
    "urllib.request.urlretrieve(data_url, 'vgg102flowers.tar.gz', reporthook)\n",
    "tar = tarfile.open('vgg102flowers.tar.gz', \"r:gz\")\n",
    "tar.extractall()\n",
    "tar.close()\n",
    "\n",
    "labels_url = 'http://www.robots.ox.ac.uk/~vgg/data/flowers/102/imagelabels.mat'\n",
    "urllib.request.urlretrieve(labels_url, 'vgg102flowers_targets.mat', reporthook)"
   ]
  },
  {
   "cell_type": "code",
   "execution_count": 43,
   "metadata": {
    "colab": {
     "base_uri": "https://localhost:8080/",
     "height": 34
    },
    "colab_type": "code",
    "executionInfo": {
     "elapsed": 155388,
     "status": "ok",
     "timestamp": 1554124219183,
     "user": {
      "displayName": "Fernando Rubio",
      "photoUrl": "",
      "userId": "13613469116164460032"
     },
     "user_tz": -120
    },
    "id": "7LdAHe4HUK4z",
    "outputId": "c9d357c9-14b8-4b02-d8cc-0f25be83b180"
   },
   "outputs": [
    {
     "name": "stdout",
     "output_type": "stream",
     "text": [
      "Loaded 8189 files.\n"
     ]
    }
   ],
   "source": [
    "from glob import glob\n",
    "from scipy.io import loadmat\n",
    "\n",
    "# Files\n",
    "files = np.array(sorted(glob(\"jpg/*\")))\n",
    "\n",
    "# Targets\n",
    "mat = loadmat('vgg102flowers_targets.mat')\n",
    "labels = mat['labels'][0] - 1\n",
    "\n",
    "# Random permute (we can also shuffle the dataset)\n",
    "idx = np.random.permutation(len(files))\n",
    "files = files[idx]\n",
    "labels = labels[idx]\n",
    "\n",
    "# Load classes names\n",
    "# From: https://github.com/jimgoo/caffe-oxford102\n",
    "names = ['pink primrose', 'hard-leaved pocket orchid', 'canterbury bells', 'sweet pea', 'english marigold', 'tiger lily', 'moon orchid', 'bird of paradise', 'monkshood', 'globe thistle', 'snapdragon', \"colt's foot\", 'king protea', 'spear thistle', 'yellow iris', 'globe-flower', 'purple coneflower', 'peruvian lily', 'balloon flower', 'giant white arum lily', 'fire lily', 'pincushion flower', 'fritillary', 'red ginger', 'grape hyacinth', 'corn poppy', 'prince of wales feathers', 'stemless gentian', 'artichoke', 'sweet william', 'carnation', 'garden phlox', 'love in the mist', 'mexican aster', 'alpine sea holly', 'ruby-lipped cattleya', 'cape flower', 'great masterwort', 'siam tulip', 'lenten rose', 'barbeton daisy', 'daffodil', 'sword lily', 'poinsettia', 'bolero deep blue', 'wallflower', 'marigold', 'buttercup', 'oxeye daisy', 'common dandelion', 'petunia', 'wild pansy', 'primula', 'sunflower', 'pelargonium', 'bishop of llandaff', 'gaura', 'geranium', 'orange dahlia', 'pink-yellow dahlia?', 'cautleya spicata', 'japanese anemone', 'black-eyed susan', 'silverbush', 'californian poppy', 'osteospermum', 'spring crocus', 'bearded iris', 'windflower', 'tree poppy', 'gazania', 'azalea', 'water lily', 'rose', 'thorn apple', 'morning glory', 'passion flower', 'lotus', 'toad lily', 'anthurium', 'frangipani', 'clematis', 'hibiscus', 'columbine', 'desert-rose', 'tree mallow', 'magnolia', 'cyclamen ', 'watercress', 'canna lily', 'hippeastrum ', 'bee balm', 'ball moss', 'foxglove', 'bougainvillea', 'camellia', 'mallow', 'mexican petunia', 'bromelia', 'blanket flower', 'trumpet creeper', 'blackberry lily']\n",
    "\n",
    "print(\"Loaded %d files.\" % len(files))"
   ]
  },
  {
   "cell_type": "code",
   "execution_count": 44,
   "metadata": {
    "colab": {
     "base_uri": "https://localhost:8080/",
     "height": 69
    },
    "colab_type": "code",
    "executionInfo": {
     "elapsed": 155398,
     "status": "ok",
     "timestamp": 1554124219214,
     "user": {
      "displayName": "Fernando Rubio",
      "photoUrl": "",
      "userId": "13613469116164460032"
     },
     "user_tz": -120
    },
    "id": "1Ikkpck7gE-O",
    "outputId": "8e4f07dc-b22d-4dda-c201-c765a14585a8"
   },
   "outputs": [
    {
     "name": "stdout",
     "output_type": "stream",
     "text": [
      "Train:  (4913,)\n",
      "Valid:  (1638,)\n",
      "Test:  (1638,)\n"
     ]
    }
   ],
   "source": [
    "from sklearn.model_selection import train_test_split\n",
    "\n",
    "# Train/valid/test split\n",
    "train_valid_files, test_files, train_valid_labels, test_labels = train_test_split(\n",
    "    files, labels, test_size=0.2, random_state=1234, stratify=labels)\n",
    "train_files, valid_files, train_labels, valid_labels = train_test_split(\n",
    "    train_valid_files, train_valid_labels, test_size=0.25, random_state=5678, stratify=train_valid_labels)\n",
    "\n",
    "print(\"Train: \", train_files.shape)\n",
    "print(\"Valid: \", valid_files.shape)\n",
    "print(\"Test: \", test_files.shape)\n",
    "\n",
    "del train_valid_files, train_valid_labels"
   ]
  },
  {
   "cell_type": "markdown",
   "metadata": {
    "colab_type": "text",
    "id": "as6sf60jgfmX"
   },
   "source": [
    "Hasta aquí todo es igual que en la práctica 3 de preprocesamiento de imágenes. Ahora vamos a utilizar las funciones de **Keras** para preparar un iterador que recorra las imágenes de la carpeta y así poder entrenar nuestra red neuronal. Extisten varias opciones para realizar este iterador, así como formas de hacer data augmentation y de extender dichas opciones a las predefinidas en Keras. Se recomienda echar un vistazo a la página de [procesamiento de imágenes.](https://keras.io/preprocessing/image/)\n",
    "\n",
    "En este caso vamos a empezar leyendo de un DataFrame de pandas con dos columnas, una con la ruta a la imagen y otra con la etiqueta correspondiente. Todo esto lo haremos a través de la clase `ImageDataGenerator`, que se divide en dos partes como veremos a continuación."
   ]
  },
  {
   "cell_type": "code",
   "execution_count": 45,
   "metadata": {
    "colab": {},
    "colab_type": "code",
    "id": "BRKz-6lAhtfh"
   },
   "outputs": [],
   "source": [
    "import pandas as pd\n",
    "\n",
    "train_frame = pd.DataFrame(np.array([train_files, train_labels]).T, columns=['files','labels'])\n",
    "valid_frame = pd.DataFrame(np.array([valid_files, valid_labels]).T, columns=['files','labels'])\n",
    "test_frame = pd.DataFrame(np.array([test_files, test_labels]).T, columns=['files','labels'])"
   ]
  },
  {
   "cell_type": "code",
   "execution_count": 46,
   "metadata": {
    "colab": {
     "base_uri": "https://localhost:8080/",
     "height": 69
    },
    "colab_type": "code",
    "executionInfo": {
     "elapsed": 155427,
     "status": "ok",
     "timestamp": 1554124219281,
     "user": {
      "displayName": "Fernando Rubio",
      "photoUrl": "",
      "userId": "13613469116164460032"
     },
     "user_tz": -120
    },
    "id": "1L5JUz_pvX7B",
    "outputId": "503aa9ca-ff70-4c4b-a9db-37fb7751ae1f"
   },
   "outputs": [
    {
     "name": "stdout",
     "output_type": "stream",
     "text": [
      "Found 4913 validated image filenames belonging to 102 classes.\n",
      "Found 1638 validated image filenames belonging to 102 classes.\n",
      "Found 1638 validated image filenames belonging to 102 classes.\n"
     ]
    }
   ],
   "source": [
    "from keras.preprocessing.image import ImageDataGenerator\n",
    "\n",
    "# cuando definimos ImageDataGenerator incluimos los preprocesamientos a realizar\n",
    "train_datagen = ImageDataGenerator(rescale=1./255)\n",
    "valid_datagen = ImageDataGenerator(rescale=1./255)\n",
    "test_datagen = ImageDataGenerator(rescale=1./255)\n",
    "\n",
    "# y con esta indicamos como vamos a leer la información y de donde.\n",
    "train_iter = train_datagen.flow_from_dataframe(train_frame, \n",
    "                                               x_col='files', \n",
    "                                               y_col='labels', \n",
    "                                               target_size=(100, 120), \n",
    "                                               class_mode='categorical',\n",
    "                                               batch_size=32, \n",
    "                                               shuffle=True)\n",
    "\n",
    "valid_iter = valid_datagen.flow_from_dataframe(valid_frame, \n",
    "                                               x_col='files', \n",
    "                                               y_col='labels', \n",
    "                                               target_size=(100, 120), \n",
    "                                               class_mode='categorical',\n",
    "                                               batch_size=32, \n",
    "                                               shuffle=False)\n",
    "\n",
    "test_iter = test_datagen.flow_from_dataframe(test_frame, \n",
    "                                             x_col='files', \n",
    "                                             y_col='labels', \n",
    "                                             target_size=(100, 120), \n",
    "                                             class_mode='categorical',\n",
    "                                             batch_size=32, \n",
    "                                             shuffle=False)"
   ]
  },
  {
   "cell_type": "markdown",
   "metadata": {
    "colab_type": "text",
    "id": "7Bdy_Y34fl0D"
   },
   "source": [
    "<a id=\"section3.2\"></a>\n",
    "# <font color=\"#004D7F\" size=5>3.2. Red Convolucional</font>"
   ]
  },
  {
   "cell_type": "markdown",
   "metadata": {
    "colab_type": "text",
    "id": "7Bdy_Y34fl0D"
   },
   "source": [
    "En esta sección vamos a definir una red al estilo de AlexNet o como la que se vio en la práctica 4. Muchas de las redes convolucionales para el tratamiento de imágenes siguen estos patrones:\n",
    "* 1 o varios bloques convolucionales compuestos, que incluye:\n",
    "  * 1 o varias capas convolucionales, todas con activación ReLU\n",
    "  * 1 capa Max Pooling\n",
    "* 1 o varias capas densas o `Fully connected` con activación ReLU\n",
    "* 1 capa de salida con softmax\n",
    "\n",
    "Siguiendo este esquema, vamos a diseñar una red con dos capas convolucionales conpuestas, una densa y la salida de nuestro problema."
   ]
  },
  {
   "cell_type": "code",
   "execution_count": 47,
   "metadata": {
    "colab": {
     "base_uri": "https://localhost:8080/",
     "height": 89
    },
    "colab_type": "code",
    "executionInfo": {
     "elapsed": 155425,
     "status": "ok",
     "timestamp": 1554124219296,
     "user": {
      "displayName": "Fernando Rubio",
      "photoUrl": "",
      "userId": "13613469116164460032"
     },
     "user_tz": -120
    },
    "id": "rfYl9GyUSNTi",
    "outputId": "cbeaf484-87e0-4c19-8bf0-085c355de59f"
   },
   "outputs": [],
   "source": [
    "from keras.models import Sequential\n",
    "from keras.layers import Dense, Dropout, Flatten\n",
    "from keras.layers import Conv2D, MaxPooling2D\n",
    "from keras.optimizers import SGD\n",
    "\n",
    "# definimos el modelo lineal\n",
    "model = Sequential()\n",
    "\n",
    "# recordemos que en la primera capa hay que indicar el tamaño de la entrada\n",
    "model.add(Conv2D(32, (5, 5), activation='relu', input_shape=(100, 120, 3)))\n",
    "model.add(MaxPooling2D(pool_size=(2, 2)))\n",
    "\n",
    "model.add(Conv2D(64, (5, 5), activation='relu'))\n",
    "model.add(MaxPooling2D(pool_size=(2, 2)))\n",
    "\n",
    "# Antes de poder pasar de la capa convolucional a la densa, es necesario \"aplanar\" la salida, por eso se usa Flatten\n",
    "model.add(Flatten())\n",
    "model.add(Dense(1024, activation='relu'))\n",
    "model.add(Dropout(0.5))\n",
    "\n",
    "# finalmente creamos la capa de salida, con el tamaño de las etiquetas de nuestro problema\n",
    "model.add(Dense(102, activation='softmax'))"
   ]
  },
  {
   "cell_type": "markdown",
   "metadata": {
    "colab_type": "text",
    "id": "Pu1sqpLjfl0H"
   },
   "source": [
    "Antes de continuar, vamos a ver unas funciones de Keras especialmente útiles para ver ciertos aspectos de las redes.\n",
    "\n",
    "<a id=\"section3.2.1\"></a>\n",
    "## <font color=\"#004D7F\" size=4>summary</font>\n",
    "Esta función nos muestra una tabla con las capas que forman nuestra red, asi como su tamaño y el número de parámetros a entrenar por capa."
   ]
  },
  {
   "cell_type": "code",
   "execution_count": 48,
   "metadata": {
    "colab": {
     "base_uri": "https://localhost:8080/",
     "height": 416
    },
    "colab_type": "code",
    "executionInfo": {
     "elapsed": 155412,
     "status": "ok",
     "timestamp": 1554124219311,
     "user": {
      "displayName": "Fernando Rubio",
      "photoUrl": "",
      "userId": "13613469116164460032"
     },
     "user_tz": -120
    },
    "id": "_6ChCRXOfl0I",
    "outputId": "12ded7fc-e7f1-413e-a2fa-1589cfb921e4"
   },
   "outputs": [
    {
     "name": "stdout",
     "output_type": "stream",
     "text": [
      "Model: \"sequential_7\"\n",
      "_________________________________________________________________\n",
      "Layer (type)                 Output Shape              Param #   \n",
      "=================================================================\n",
      "conv2d (Conv2D)              (None, 96, 116, 32)       2432      \n",
      "_________________________________________________________________\n",
      "max_pooling2d (MaxPooling2D) (None, 48, 58, 32)        0         \n",
      "_________________________________________________________________\n",
      "conv2d_1 (Conv2D)            (None, 44, 54, 64)        51264     \n",
      "_________________________________________________________________\n",
      "max_pooling2d_1 (MaxPooling2 (None, 22, 27, 64)        0         \n",
      "_________________________________________________________________\n",
      "flatten (Flatten)            (None, 38016)             0         \n",
      "_________________________________________________________________\n",
      "dense_18 (Dense)             (None, 1024)              38929408  \n",
      "_________________________________________________________________\n",
      "dropout (Dropout)            (None, 1024)              0         \n",
      "_________________________________________________________________\n",
      "dense_19 (Dense)             (None, 102)               104550    \n",
      "=================================================================\n",
      "Total params: 39,087,654\n",
      "Trainable params: 39,087,654\n",
      "Non-trainable params: 0\n",
      "_________________________________________________________________\n"
     ]
    }
   ],
   "source": [
    "model.summary()"
   ]
  },
  {
   "cell_type": "markdown",
   "metadata": {
    "colab_type": "text",
    "id": "X5ClAadXfl0O"
   },
   "source": [
    "<a id=\"section3.2.2\"></a>\n",
    "## <font color=\"#004D7F\" size=4>get_config</font>\n",
    "Esta función nos devuelve la configuración de una red, en una estructura de diccionario y que se puede utilizar para inicializar otros modelos. Es una forma muy sencilla de exportar/importar la estructura de las redes."
   ]
  },
  {
   "cell_type": "code",
   "execution_count": 49,
   "metadata": {
    "colab": {
     "base_uri": "https://localhost:8080/",
     "height": 1841
    },
    "colab_type": "code",
    "executionInfo": {
     "elapsed": 155400,
     "status": "ok",
     "timestamp": 1554124219327,
     "user": {
      "displayName": "Fernando Rubio",
      "photoUrl": "",
      "userId": "13613469116164460032"
     },
     "user_tz": -120
    },
    "id": "VPxDGyNYfl0P",
    "outputId": "9b63e88e-2c7d-4d38-f5fd-25512b0fcc78",
    "scrolled": true
   },
   "outputs": [
    {
     "data": {
      "text/plain": [
       "{'name': 'sequential_7',\n",
       " 'layers': [{'class_name': 'InputLayer',\n",
       "   'config': {'batch_input_shape': (None, 100, 120, 3),\n",
       "    'dtype': 'float32',\n",
       "    'sparse': False,\n",
       "    'ragged': False,\n",
       "    'name': 'conv2d_input'}},\n",
       "  {'class_name': 'Conv2D',\n",
       "   'config': {'name': 'conv2d',\n",
       "    'trainable': True,\n",
       "    'batch_input_shape': (None, 100, 120, 3),\n",
       "    'dtype': 'float32',\n",
       "    'filters': 32,\n",
       "    'kernel_size': (5, 5),\n",
       "    'strides': (1, 1),\n",
       "    'padding': 'valid',\n",
       "    'data_format': 'channels_last',\n",
       "    'dilation_rate': (1, 1),\n",
       "    'groups': 1,\n",
       "    'activation': 'relu',\n",
       "    'use_bias': True,\n",
       "    'kernel_initializer': {'class_name': 'GlorotUniform',\n",
       "     'config': {'seed': None}},\n",
       "    'bias_initializer': {'class_name': 'Zeros', 'config': {}},\n",
       "    'kernel_regularizer': None,\n",
       "    'bias_regularizer': None,\n",
       "    'activity_regularizer': None,\n",
       "    'kernel_constraint': None,\n",
       "    'bias_constraint': None}},\n",
       "  {'class_name': 'MaxPooling2D',\n",
       "   'config': {'name': 'max_pooling2d',\n",
       "    'trainable': True,\n",
       "    'dtype': 'float32',\n",
       "    'pool_size': (2, 2),\n",
       "    'padding': 'valid',\n",
       "    'strides': (2, 2),\n",
       "    'data_format': 'channels_last'}},\n",
       "  {'class_name': 'Conv2D',\n",
       "   'config': {'name': 'conv2d_1',\n",
       "    'trainable': True,\n",
       "    'dtype': 'float32',\n",
       "    'filters': 64,\n",
       "    'kernel_size': (5, 5),\n",
       "    'strides': (1, 1),\n",
       "    'padding': 'valid',\n",
       "    'data_format': 'channels_last',\n",
       "    'dilation_rate': (1, 1),\n",
       "    'groups': 1,\n",
       "    'activation': 'relu',\n",
       "    'use_bias': True,\n",
       "    'kernel_initializer': {'class_name': 'GlorotUniform',\n",
       "     'config': {'seed': None}},\n",
       "    'bias_initializer': {'class_name': 'Zeros', 'config': {}},\n",
       "    'kernel_regularizer': None,\n",
       "    'bias_regularizer': None,\n",
       "    'activity_regularizer': None,\n",
       "    'kernel_constraint': None,\n",
       "    'bias_constraint': None}},\n",
       "  {'class_name': 'MaxPooling2D',\n",
       "   'config': {'name': 'max_pooling2d_1',\n",
       "    'trainable': True,\n",
       "    'dtype': 'float32',\n",
       "    'pool_size': (2, 2),\n",
       "    'padding': 'valid',\n",
       "    'strides': (2, 2),\n",
       "    'data_format': 'channels_last'}},\n",
       "  {'class_name': 'Flatten',\n",
       "   'config': {'name': 'flatten',\n",
       "    'trainable': True,\n",
       "    'dtype': 'float32',\n",
       "    'data_format': 'channels_last'}},\n",
       "  {'class_name': 'Dense',\n",
       "   'config': {'name': 'dense_18',\n",
       "    'trainable': True,\n",
       "    'dtype': 'float32',\n",
       "    'units': 1024,\n",
       "    'activation': 'relu',\n",
       "    'use_bias': True,\n",
       "    'kernel_initializer': {'class_name': 'GlorotUniform',\n",
       "     'config': {'seed': None}},\n",
       "    'bias_initializer': {'class_name': 'Zeros', 'config': {}},\n",
       "    'kernel_regularizer': None,\n",
       "    'bias_regularizer': None,\n",
       "    'activity_regularizer': None,\n",
       "    'kernel_constraint': None,\n",
       "    'bias_constraint': None}},\n",
       "  {'class_name': 'Dropout',\n",
       "   'config': {'name': 'dropout',\n",
       "    'trainable': True,\n",
       "    'dtype': 'float32',\n",
       "    'rate': 0.5,\n",
       "    'noise_shape': None,\n",
       "    'seed': None}},\n",
       "  {'class_name': 'Dense',\n",
       "   'config': {'name': 'dense_19',\n",
       "    'trainable': True,\n",
       "    'dtype': 'float32',\n",
       "    'units': 102,\n",
       "    'activation': 'softmax',\n",
       "    'use_bias': True,\n",
       "    'kernel_initializer': {'class_name': 'GlorotUniform',\n",
       "     'config': {'seed': None}},\n",
       "    'bias_initializer': {'class_name': 'Zeros', 'config': {}},\n",
       "    'kernel_regularizer': None,\n",
       "    'bias_regularizer': None,\n",
       "    'activity_regularizer': None,\n",
       "    'kernel_constraint': None,\n",
       "    'bias_constraint': None}}]}"
      ]
     },
     "execution_count": 49,
     "metadata": {},
     "output_type": "execute_result"
    }
   ],
   "source": [
    "model.get_config()"
   ]
  },
  {
   "cell_type": "markdown",
   "metadata": {
    "colab_type": "text",
    "id": "QT9BHZ_ofl0S"
   },
   "source": [
    "<a id=\"section3.3\"></a>\n",
    "# <font color=\"#004D7F\" size=5>3.3. Entrenamiento y validación</font>"
   ]
  },
  {
   "cell_type": "markdown",
   "metadata": {
    "colab_type": "text",
    "id": "QT9BHZ_ofl0S"
   },
   "source": [
    "En este punto vamos a entrenar la red igual que hicimos en el problema de MNIST. Como estamos trabajando con un iterador, deberemos llamar a la función `fit_generator`, que se encarga de realizar el mismo proceso que `fit` pero con un generador. Además, deberemos indicar el numero de pasos o `steps` que tiene una `epoch`. Esto es, el número total de imágenes entre el tamaño del batch."
   ]
  },
  {
   "cell_type": "code",
   "execution_count": 52,
   "metadata": {
    "colab": {
     "base_uri": "https://localhost:8080/",
     "height": 364
    },
    "colab_type": "code",
    "executionInfo": {
     "elapsed": 539891,
     "status": "ok",
     "timestamp": 1554124603846,
     "user": {
      "displayName": "Fernando Rubio",
      "photoUrl": "",
      "userId": "13613469116164460032"
     },
     "user_tz": -120
    },
    "id": "TcPNrFLxfl0T",
    "outputId": "d15a7ef1-7084-4dcf-cbf3-a37f1cce5667",
    "scrolled": true
   },
   "outputs": [
    {
     "name": "stdout",
     "output_type": "stream",
     "text": [
      "WARNING:tensorflow:From <ipython-input-52-c93c1c658c1e>:7: Model.fit_generator (from tensorflow.python.keras.engine.training) is deprecated and will be removed in a future version.\n",
      "Instructions for updating:\n",
      "Please use Model.fit, which supports generators.\n",
      "Epoch 1/10\n",
      "153/153 [==============================] - 101s 660ms/step - loss: 3.1901 - acc: 0.2209 - val_loss: 3.0236 - val_acc: 0.2451\n",
      "Epoch 2/10\n",
      "153/153 [==============================] - 97s 634ms/step - loss: 2.6966 - acc: 0.3108 - val_loss: 2.6504 - val_acc: 0.3156\n",
      "Epoch 3/10\n",
      "153/153 [==============================] - 102s 667ms/step - loss: 2.0456 - acc: 0.4575 - val_loss: 2.6562 - val_acc: 0.3358\n",
      "Epoch 4/10\n",
      "153/153 [==============================] - 98s 638ms/step - loss: 1.3760 - acc: 0.6310 - val_loss: 2.6575 - val_acc: 0.3719\n",
      "Epoch 5/10\n",
      "153/153 [==============================] - 90s 590ms/step - loss: 0.7831 - acc: 0.7753 - val_loss: 2.7520 - val_acc: 0.3775\n",
      "Epoch 6/10\n",
      "153/153 [==============================] - 93s 607ms/step - loss: 0.4754 - acc: 0.8607 - val_loss: 2.9817 - val_acc: 0.3487\n",
      "Epoch 7/10\n",
      "153/153 [==============================] - 91s 592ms/step - loss: 0.3073 - acc: 0.9162 - val_loss: 3.0497 - val_acc: 0.3934\n",
      "Epoch 8/10\n",
      "153/153 [==============================] - 90s 585ms/step - loss: 0.2212 - acc: 0.9385 - val_loss: 3.0619 - val_acc: 0.3873\n",
      "Epoch 9/10\n",
      "153/153 [==============================] - 93s 606ms/step - loss: 0.1411 - acc: 0.9607 - val_loss: 3.3917 - val_acc: 0.3952\n",
      "Epoch 10/10\n",
      "153/153 [==============================] - 93s 606ms/step - loss: 0.1176 - acc: 0.9676 - val_loss: 3.4002 - val_acc: 0.3621\n"
     ]
    }
   ],
   "source": [
    "sgd = SGD(lr=0.01, decay=1e-6, momentum=0.9, nesterov=True)\n",
    "model.compile(loss='categorical_crossentropy', optimizer=sgd, metrics=['acc'])\n",
    "\n",
    "\n",
    "history = model.fit(train_iter, steps_per_epoch = train_frame.shape[0]//train_iter.batch_size,\n",
    "                              epochs=10, validation_data=valid_iter, \n",
    "                              validation_steps= valid_frame.shape[0]//valid_iter.batch_size)"
   ]
  },
  {
   "cell_type": "code",
   "execution_count": 55,
   "metadata": {
    "colab": {
     "base_uri": "https://localhost:8080/",
     "height": 86
    },
    "colab_type": "code",
    "executionInfo": {
     "elapsed": 558646,
     "status": "ok",
     "timestamp": 1554124622627,
     "user": {
      "displayName": "Fernando Rubio",
      "photoUrl": "",
      "userId": "13613469116164460032"
     },
     "user_tz": -120
    },
    "id": "y5OMPUXafl0W",
    "outputId": "9548fd35-efd1-4ba2-c825-3ffc48846232"
   },
   "outputs": [
    {
     "name": "stdout",
     "output_type": "stream",
     "text": [
      "51/51 [==============================] - 11s 209ms/step - loss: 3.4002 - acc: 0.3621\n",
      "loss en validación: 3.4001781940460205 \n",
      "accuracy en validación: 0.36213234066963196\n",
      "51/51 [==============================] - 10s 203ms/step - loss: 3.3121 - acc: 0.3873\n",
      "loss en test: 3.312053918838501 \n",
      "accuracy en test: 0.38725489377975464\n"
     ]
    }
   ],
   "source": [
    "score = model.evaluate(valid_iter, steps= valid_frame.shape[0]//valid_iter.batch_size)\n",
    "print(\"loss en validación: {} \\naccuracy en validación: {}\".format(score[0],score[1]))\n",
    "score = model.evaluate(test_iter, steps= test_frame.shape[0]//test_iter.batch_size)\n",
    "print(\"loss en test: {} \\naccuracy en test: {}\".format(score[0],score[1]))"
   ]
  },
  {
   "cell_type": "code",
   "execution_count": 56,
   "metadata": {
    "colab": {
     "base_uri": "https://localhost:8080/",
     "height": 280
    },
    "colab_type": "code",
    "executionInfo": {
     "elapsed": 558625,
     "status": "ok",
     "timestamp": 1554124622635,
     "user": {
      "displayName": "Fernando Rubio",
      "photoUrl": "",
      "userId": "13613469116164460032"
     },
     "user_tz": -120
    },
    "id": "-RjuinYJNSyi",
    "outputId": "5a53916d-279d-4a37-dd1a-baf464592fc0"
   },
   "outputs": [
    {
     "data": {
      "image/png": "[encoded data removed]",
      "text/plain": [
       "<Figure size 432x288 with 1 Axes>"
      ]
     },
     "metadata": {
      "needs_background": "light"
     },
     "output_type": "display_data"
    }
   ],
   "source": [
    "plt.plot(history.history['loss'])\n",
    "plt.plot(history.history['val_loss'])\n",
    "plt.legend(['train','valid'])\n",
    "plt.title('Cross Entropy')\n",
    "plt.show()"
   ]
  },
  {
   "cell_type": "code",
   "execution_count": 57,
   "metadata": {
    "colab": {
     "base_uri": "https://localhost:8080/",
     "height": 280
    },
    "colab_type": "code",
    "executionInfo": {
     "elapsed": 559176,
     "status": "ok",
     "timestamp": 1554124623218,
     "user": {
      "displayName": "Fernando Rubio",
      "photoUrl": "",
      "userId": "13613469116164460032"
     },
     "user_tz": -120
    },
    "id": "cV0uXDNlNZvw",
    "outputId": "4831dd32-1b72-4a62-fd98-b22c62ba5b9d"
   },
   "outputs": [
    {
     "data": {
      "image/png": "[encoded data removed]",
      "text/plain": [
       "<Figure size 432x288 with 1 Axes>"
      ]
     },
     "metadata": {
      "needs_background": "light"
     },
     "output_type": "display_data"
    }
   ],
   "source": [
    "plt.plot(history.history['acc'])\n",
    "plt.plot(history.history['val_acc'])\n",
    "plt.legend(['train','valid'])\n",
    "plt.title('Accuracy')\n",
    "plt.show()"
   ]
  },
  {
   "cell_type": "markdown",
   "metadata": {
    "colab_type": "text",
    "id": "ZFVCGenyfl0b"
   },
   "source": [
    "Hemos alcanzado una tasa de acierto del 40%, tanto en validación como en test. No es un mal resultado para este problema ya que hay pocas imágenes. Sin embargo nos hemos encontrado con un grave problema de sobreajuste. Tenemos un problema y un modelo complejos, pero no tenemos datos suficientes para entrenar nuestra red. Trataremos de solucionar esto con el data augmentation.\n",
    "\n",
    "Antes de continuar, si nos fijamos, tenemos parámetros correspondientes al tamaño de las capas convolucionales y densas, así como de max pooling, número de capas total, configuración del dropout y del optimizador. \n",
    "\n",
    "Conforme vamos aumentando la complejidad, hay más hiperparámetros que configurar. Cuanto mejores resultados busquemos, más tiempo tendremos que dedicar a configurar la red y entender los resultados que se obtienen de ella para nuestro problema. "
   ]
  },
  {
   "cell_type": "markdown",
   "metadata": {
    "colab_type": "text",
    "id": "SGglGt1sfl0f"
   },
   "source": [
    "<a id=\"section3.4\"></a>\n",
    "# <font color=\"#004D7F\" size=5>3.4. Data Augmentation</font>"
   ]
  },
  {
   "cell_type": "markdown",
   "metadata": {
    "colab_type": "text",
    "id": "SGglGt1sfl0f"
   },
   "source": [
    "En este apartado vamos a volver a trabajar los conceptos de data augmentation. Aunque Keras incluye muchas funciones para el diseño de grafos, en el caso del preprocesamiento de imágenes es más limitado. Como punto a favor, es que estas funciones son muy fáciles de usar y como se ha comentado antes, Keras tiene muchas herramientas para aumentar su funcionalidad, como son las funciones [Backend](https://keras.io/backend/) o el poder integrar funciones directamente de TensorFlow.\n",
    "\n",
    "Vamos a continuar con el dataset de flores y para ello vamos a definir un nuevo `ImageDataGenerator` pero solo para el train. Esta clase la hemos visto más arriba, pero vamos a definirla un poco más en detalle, ya que se divide principalmente en dos partes:\n",
    "* Primero, en el constructor definimos las operaciones o modificaciones que vamos a realizar a los datos.\n",
    "* Segundo, con las funciones `flow` generamos un iterador que se va a encargar de leer los datos. Por eso los parámetros de entrada de las funciones `flow` indican donde se encuentran las imágenes, el formato de estas y el tamaño de salida. También indicamos aquí el tamaño del batch del iterador.\n",
    "\n",
    "Con esto el iterador obtenido primero cargará el batch de datos según lo indicado en los parámetros de las funicones `flow` y luego aplicará las funciones definidas en el constructor de [`ImageDataGenerator`](https://keras.io/preprocessing/image/). Estas funciones consisten en data augmentation estocástico, es decir, cada operación que se ha indicado se aplica de forma aleatoria a las diferentes datos, en este caso imágenes, de los batches."
   ]
  },
  {
   "cell_type": "code",
   "execution_count": 58,
   "metadata": {
    "colab": {
     "base_uri": "https://localhost:8080/",
     "height": 34
    },
    "colab_type": "code",
    "executionInfo": {
     "elapsed": 559154,
     "status": "ok",
     "timestamp": 1554124623224,
     "user": {
      "displayName": "Fernando Rubio",
      "photoUrl": "",
      "userId": "13613469116164460032"
     },
     "user_tz": -120
    },
    "id": "_f3MlNz2TEk3",
    "outputId": "2e2438da-515b-4d06-8152-a76a3800892c"
   },
   "outputs": [
    {
     "name": "stdout",
     "output_type": "stream",
     "text": [
      "Found 4913 validated image filenames belonging to 102 classes.\n"
     ]
    }
   ],
   "source": [
    "train_datagen_augmented = ImageDataGenerator(rescale=1./255, horizontal_flip = True, vertical_flip = True, rotation_range = 10)\n",
    "\n",
    "train_iter_augmented = train_datagen_augmented.flow_from_dataframe(train_frame, \n",
    "                                                                   x_col='files', \n",
    "                                                                   y_col='labels', \n",
    "                                                                   target_size=(100, 120), \n",
    "                                                                   class_mode='categorical',\n",
    "                                                                   batch_size=32, \n",
    "                                                                   shuffle=True)"
   ]
  },
  {
   "cell_type": "code",
   "execution_count": 59,
   "metadata": {
    "colab": {},
    "colab_type": "code",
    "id": "IudG9XCNZo7n"
   },
   "outputs": [],
   "source": [
    "from keras.models import Sequential\n",
    "from keras.layers import Dense, Dropout, Flatten\n",
    "from keras.layers import Conv2D, MaxPooling2D\n",
    "from keras.optimizers import SGD\n",
    "\n",
    "# definimos el modelo lineal\n",
    "model = Sequential()\n",
    "\n",
    "# el primer bloque convolucional completo, formado de dos capas convolucionales con activación relu, \n",
    "# un max pooling y un dropout.\n",
    "\n",
    "# recordemos que en la primera capa hay que indicar el tamaño de la entrada\n",
    "model.add(Conv2D(32, (5, 5), activation='relu', input_shape=(100, 120, 3)))\n",
    "model.add(MaxPooling2D(pool_size=(2, 2)))\n",
    "\n",
    "model.add(Conv2D(64, (5, 5), activation='relu'))\n",
    "model.add(MaxPooling2D(pool_size=(2, 2)))\n",
    "\n",
    "# Antes de poder pasar de la capa convolucional a la densa, es necesario \"aplanar\" la salida, por eso se usa Flatten\n",
    "model.add(Flatten())\n",
    "model.add(Dense(1024, activation='relu'))\n",
    "model.add(Dropout(0.5))\n",
    "\n",
    "# finalmente creamos la capa de salida, con el tamaño de las etiquetas de nuestro problema\n",
    "model.add(Dense(102, activation='softmax'))"
   ]
  },
  {
   "cell_type": "code",
   "execution_count": 0,
   "metadata": {
    "colab": {
     "base_uri": "https://localhost:8080/",
     "height": 364
    },
    "colab_type": "code",
    "executionInfo": {
     "elapsed": 1094880,
     "status": "ok",
     "timestamp": 1554125158991,
     "user": {
      "displayName": "Fernando Rubio",
      "photoUrl": "",
      "userId": "13613469116164460032"
     },
     "user_tz": -120
    },
    "id": "rFJml0NbZuJK",
    "outputId": "24ca5dc1-fd9b-422e-b03c-4440b19727a9"
   },
   "outputs": [
    {
     "name": "stdout",
     "output_type": "stream",
     "text": [
      "Epoch 1/10\n",
      "153/153 [==============================] - 57s 373ms/step - loss: 4.2380 - acc: 0.0605 - val_loss: 3.9334 - val_acc: 0.0922\n",
      "Epoch 2/10\n",
      "153/153 [==============================] - 53s 348ms/step - loss: 3.8139 - acc: 0.1017 - val_loss: 3.5536 - val_acc: 0.1482\n",
      "Epoch 3/10\n",
      "153/153 [==============================] - 54s 350ms/step - loss: 3.5142 - acc: 0.1450 - val_loss: 3.2032 - val_acc: 0.2055\n",
      "Epoch 4/10\n",
      "153/153 [==============================] - 53s 345ms/step - loss: 3.2633 - acc: 0.2001 - val_loss: 2.9572 - val_acc: 0.2435\n",
      "Epoch 5/10\n",
      "153/153 [==============================] - 53s 345ms/step - loss: 2.9838 - acc: 0.2504 - val_loss: 2.9423 - val_acc: 0.2553\n",
      "Epoch 6/10\n",
      "153/153 [==============================] - 53s 346ms/step - loss: 2.7872 - acc: 0.2954 - val_loss: 2.5991 - val_acc: 0.3244\n",
      "Epoch 7/10\n",
      "153/153 [==============================] - 53s 345ms/step - loss: 2.6030 - acc: 0.3287 - val_loss: 2.4518 - val_acc: 0.3618\n",
      "Epoch 8/10\n",
      "153/153 [==============================] - 53s 347ms/step - loss: 2.4087 - acc: 0.3779 - val_loss: 2.4270 - val_acc: 0.3667\n",
      "Epoch 9/10\n",
      "153/153 [==============================] - 53s 348ms/step - loss: 2.2020 - acc: 0.4275 - val_loss: 2.3008 - val_acc: 0.3885\n",
      "Epoch 10/10\n",
      "153/153 [==============================] - 54s 350ms/step - loss: 2.0586 - acc: 0.4474 - val_loss: 2.2595 - val_acc: 0.4122\n"
     ]
    }
   ],
   "source": [
    "sgd = SGD(lr=0.01, decay=1e-6, momentum=0.9, nesterov=True)\n",
    "model.compile(loss='categorical_crossentropy', optimizer=sgd, metrics=['acc'])\n",
    "\n",
    "history = model.fit(train_iter_augmented,\n",
    "                              steps_per_epoch = train_frame.shape[0]//train_iter_augmented.batch_size,\n",
    "                              epochs=10,\n",
    "                              validation_data=valid_iter, \n",
    "                              validation_steps= valid_frame.shape[0]//valid_iter.batch_size)"
   ]
  },
  {
   "cell_type": "code",
   "execution_count": 0,
   "metadata": {
    "colab": {
     "base_uri": "https://localhost:8080/",
     "height": 86
    },
    "colab_type": "code",
    "executionInfo": {
     "elapsed": 1114114,
     "status": "ok",
     "timestamp": 1554125178251,
     "user": {
      "displayName": "Fernando Rubio",
      "photoUrl": "",
      "userId": "13613469116164460032"
     },
     "user_tz": -120
    },
    "id": "O69Jh8w1he8-",
    "outputId": "2c0222d3-878e-41c6-a5fb-7fc82ec1d664"
   },
   "outputs": [
    {
     "name": "stdout",
     "output_type": "stream",
     "text": [
      "loss en validación: 2.25949728696759 \n",
      "accuracy en validación: 0.41220423404781487\n",
      "loss en test: 2.286028646955303 \n",
      "accuracy en test: 0.4166666666666667\n"
     ]
    }
   ],
   "source": [
    "score = model.evaluate(valid_iter, steps= valid_frame.shape[0]//valid_iter.batch_size)\n",
    "print(\"loss en validación: {} \\naccuracy en validación: {}\".format(score[0],score[1]))\n",
    "score = model.evaluate(test_iter, steps= test_frame.shape[0]//test_iter.batch_size)\n",
    "print(\"loss en test: {} \\naccuracy en test: {}\".format(score[0],score[1]))"
   ]
  },
  {
   "cell_type": "code",
   "execution_count": 0,
   "metadata": {
    "colab": {
     "base_uri": "https://localhost:8080/",
     "height": 280
    },
    "colab_type": "code",
    "executionInfo": {
     "elapsed": 1114099,
     "status": "ok",
     "timestamp": 1554125178260,
     "user": {
      "displayName": "Fernando Rubio",
      "photoUrl": "",
      "userId": "13613469116164460032"
     },
     "user_tz": -120
    },
    "id": "TNYhQs8OZzoH",
    "outputId": "69013e94-e333-4578-d44a-36265d410f1e"
   },
   "outputs": [
    {
     "data": {
      "image/png": "[encoded data removed]",
      "text/plain": [
       "<Figure size 432x288 with 1 Axes>"
      ]
     },
     "metadata": {
      "tags": []
     },
     "output_type": "display_data"
    }
   ],
   "source": [
    "plt.plot(history.history['loss'])\n",
    "plt.plot(history.history['val_loss'])\n",
    "plt.legend(['train','valid'])\n",
    "plt.title('Cross Entropy')\n",
    "plt.show()"
   ]
  },
  {
   "cell_type": "code",
   "execution_count": 0,
   "metadata": {
    "colab": {
     "base_uri": "https://localhost:8080/",
     "height": 280
    },
    "colab_type": "code",
    "executionInfo": {
     "elapsed": 1114796,
     "status": "ok",
     "timestamp": 1554125178985,
     "user": {
      "displayName": "Fernando Rubio",
      "photoUrl": "",
      "userId": "13613469116164460032"
     },
     "user_tz": -120
    },
    "id": "jPRr3khUb_eJ",
    "outputId": "d2e85d32-3742-41c7-95d2-e7abb30fac71"
   },
   "outputs": [
    {
     "data": {
      "image/png": "[encoded data removed]",
      "text/plain": [
       "<Figure size 432x288 with 1 Axes>"
      ]
     },
     "metadata": {
      "tags": []
     },
     "output_type": "display_data"
    }
   ],
   "source": [
    "plt.plot(history.history['acc'])\n",
    "plt.plot(history.history['val_acc'])\n",
    "plt.legend(['train','valid'])\n",
    "plt.title('Accuracy')\n",
    "plt.show()"
   ]
  },
  {
   "cell_type": "markdown",
   "metadata": {
    "colab_type": "text",
    "id": "fLmpuYglTDhk"
   },
   "source": [
    "Hemos visto claramente la utilidad del data augmentation y lo fácil que es aplicar dichas funciones con Keras. Con esto ya hemos repasado los puntos más importantes de Keras para poder empezar a trabajar con nuestras bases de datos, diseñar y entrenar nuestras redes y evaluar su comportamiento."
   ]
  },
  {
   "cell_type": "markdown",
   "metadata": {
    "colab_type": "text",
    "id": "fLmpuYglTDhk"
   },
   "source": [
    "---\n",
    "\n",
    "<h3><font color=\"#004D7F\" size=5> <i class=\"fa fa-pencil-square-o\" aria-hidden=\"true\" style=\"color:#113D68\"></i> Ejercicio opcional </font></h3>"
   ]
  },
  {
   "cell_type": "markdown",
   "metadata": {
    "colab_type": "text",
    "id": "fLmpuYglTDhk"
   },
   "source": [
    "Para terminar, al igual que antes, se deja un bloque para que el alumno pruebe diferentes estructuras tratando de mejorar los resultados obtenidos por la red, ya que actualmente solo hay 3 capas (2 convolucionales y 1 densa). Se recomienda también probar diferentes optimizadores y utilizar data augmentation."
   ]
  },
  {
   "cell_type": "code",
   "execution_count": 0,
   "metadata": {
    "colab": {},
    "colab_type": "code",
    "id": "TtQZOmLccC1J"
   },
   "outputs": [],
   "source": [
    "# TODO"
   ]
  },
  {
   "cell_type": "markdown",
   "metadata": {},
   "source": [
    "<div style=\"text-align: right\"> <font size=5> <a href=\"#indice\"><i class=\"fa fa-arrow-circle-up\" aria-hidden=\"true\" style=\"color:#004D7F\"></i></a></font></div>\n",
    "\n",
    "---\n",
    "\n",
    "<div style=\"text-align: right\"> <font size=6><i class=\"fa fa-coffee\" aria-hidden=\"true\" style=\"color:#004D7F\"></i> </font></div>"
   ]
  }
 ],
 "metadata": {
  "accelerator": "GPU",
  "colab": {
   "collapsed_sections": [],
   "name": "Modulo8-Practica5-Keras.ipynb",
   "provenance": [],
   "toc_visible": true,
   "version": "0.3.2"
  },
  "kernelspec": {
   "display_name": "Python 3",
   "language": "python",
   "name": "python3"
  },
  "language_info": {
   "codemirror_mode": {
    "name": "ipython",
    "version": 3
   },
   "file_extension": ".py",
   "mimetype": "text/x-python",
   "name": "python",
   "nbconvert_exporter": "python",
   "pygments_lexer": "ipython3",
   "version": "3.6.9"
  }
 },
 "nbformat": 4,
 "nbformat_minor": 1
}
