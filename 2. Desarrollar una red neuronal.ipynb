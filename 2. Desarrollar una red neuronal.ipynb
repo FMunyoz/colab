{
  "nbformat": 4,
  "nbformat_minor": 0,
  "metadata": {
    "kernelspec": {
      "display_name": "Python 3",
      "language": "python",
      "name": "python3"
    },
    "language_info": {
      "codemirror_mode": {
        "name": "ipython",
        "version": 3
      },
      "file_extension": ".py",
      "mimetype": "text/x-python",
      "name": "python",
      "nbconvert_exporter": "python",
      "pygments_lexer": "ipython3",
      "version": "3.6.9"
    },
    "colab": {
      "name": "2. Desarrollar una red neuronal.ipynb",
      "provenance": []
    }
  },
  "cells": [
    {
      "cell_type": "markdown",
      "metadata": {
        "id": "1vCMYTe-Z9Jb"
      },
      "source": [
        "<h1><font color=\"#113D68\" size=6>Deep Learning con Python y Keras</font></h1>\n",
        "\n",
        "<h1><font color=\"#113D68\" size=5>Parte 3. Multilayer Perceptron</font></h1>\n",
        "\n",
        "<h1><font color=\"#113D68\" size=4>2. Desarrollar una red neuronal</font></h1>\n",
        "\n",
        "<br><br>\n",
        "<div style=\"text-align: right\">\n",
        "<font color=\"#113D68\" size=3>Manuel Castillo Cara</font><br>\n",
        "\n",
        "</div>"
      ]
    },
    {
      "cell_type": "markdown",
      "metadata": {
        "id": "ScrIWwh3Z9Jb"
      },
      "source": [
        "---\n",
        "\n",
        "<a id=\"indice\"></a>\n",
        "<h2><font color=\"#004D7F\" size=5>Índice</font></h2>\n",
        "\n",
        "* [0. Contexto](#section0)\n",
        "* [1. Conjunto de datos](#section1)\n",
        "* [2. Cargar datos](#section2)\n",
        "* [3. Definir modelo](#section3)\n",
        "* [4. Compilar modelo](#section4)\n",
        "* [5. Ajustar modelo](#section5)\n",
        "* [6. Evaluar modelo](#section6)\n",
        "* [7. Hacer predicciones](#section7)\n"
      ]
    },
    {
      "cell_type": "markdown",
      "metadata": {
        "id": "3q5ndWoWZ9Jc"
      },
      "source": [
        "---\n",
        "<a id=\"section0\"></a>\n",
        "# <font color=\"#004D7F\" size=6> 0. Contexto</font>"
      ]
    },
    {
      "cell_type": "markdown",
      "metadata": {
        "id": "ggiGoGq7Z9Jc"
      },
      "source": [
        "En esta lección, diseñaremos nuestra primera red neuronal. Después de completar esta lección, sabrá:\n",
        "* Cómo cargar un conjunto de datos para usar con Keras.\n",
        "* Cómo diseñar y compilar un modelo de perceptrón multicapa en Keras.\n",
        "* Cómo evaluar un modelo de Keras."
      ]
    },
    {
      "cell_type": "markdown",
      "metadata": {
        "id": "pRYParRsZ9Jc"
      },
      "source": [
        "---\n",
        "<div style=\"text-align: right\"> <font size=5> <a href=\"#indice\"><i class=\"fa fa-arrow-circle-up\" aria-hidden=\"true\" style=\"color:#004D7F\"></i></a></font></div>\n",
        "\n",
        "---"
      ]
    },
    {
      "cell_type": "markdown",
      "metadata": {
        "id": "vGodRzIfZ9Jc"
      },
      "source": [
        "<a id=\"section1\"></a>\n",
        "# <font color=\"#004D7F\" size=6>1. Conjunto de datos</font>"
      ]
    },
    {
      "cell_type": "markdown",
      "metadata": {
        "id": "m0CNiTN0Z9Jc"
      },
      "source": [
        "En este tutorial vamos a utilizar el conjunto de datos Pima Indians Diabetes. Describe los datos de los registros médicos de los pacientes y si tuvieron una aparición de diabetes dentro de los cinco años. Es un problema de clasificación binaria (aparición de diabetes como 1 o 0 si no aparece). Las variables de entrada que describen a cada paciente son numéricas y tienen escalas variables.\n",
        "\n",
        "Dado que todos los atributos son numéricos, es fácil de usar directamente con redes neuronales que esperan entradas y valores de salida numéricos."
      ]
    },
    {
      "cell_type": "markdown",
      "metadata": {
        "id": "jQg0IhiXZ9Jd"
      },
      "source": [
        "<div class=\"alert alert-block alert-info\">\n",
        "    \n",
        "<i class=\"fa fa-info-circle\" aria-hidden=\"true\"></i>\n",
        "Puede descargar el Dataset desde [Kaggle](https://www.kaggle.com/uciml/pima-indians-diabetes-database)"
      ]
    },
    {
      "cell_type": "markdown",
      "metadata": {
        "id": "vFB6lwaKZ9Jd"
      },
      "source": [
        "La precisión de la línea de base si se hacen todas las predicciones ya que no aparece la diabetes es del 65,1%. Los mejores resultados en el conjunto de datos están en el rango de 77,7% de precisión utilizando una validación cruzada de 10 veces."
      ]
    },
    {
      "cell_type": "markdown",
      "metadata": {
        "id": "ZLCjipyvZ9Jd"
      },
      "source": [
        "---\n",
        "<div style=\"text-align: right\"> <font size=5> <a href=\"#indice\"><i class=\"fa fa-arrow-circle-up\" aria-hidden=\"true\" style=\"color:#004D7F\"></i></a></font></div>\n",
        "\n",
        "---"
      ]
    },
    {
      "cell_type": "markdown",
      "metadata": {
        "id": "TldxoeQmZ9Jd"
      },
      "source": [
        "<a id=\"section2\"></a>\n",
        "# <font color=\"#004D7F\" size=6>2. Cargar datos</font>"
      ]
    },
    {
      "cell_type": "markdown",
      "metadata": {
        "id": "M_Tn--t5Z9Jd"
      },
      "source": [
        "VAmos a cargar el archivo directamente usando la función `loadtxt()` de NumPy y establecer dividir las características y target."
      ]
    },
    {
      "cell_type": "code",
      "metadata": {
        "id": "PXLPPzpybOCl"
      },
      "source": [
        "import numpy as np\n",
        "dataset = np.loadtxt('https://raw.githubusercontent.com/FMunyoz/colab/main/Datasets/pima-indians-diabetes.csv', delimiter=',')"
      ],
      "execution_count": 2,
      "outputs": []
    },
    {
      "cell_type": "code",
      "metadata": {
        "scrolled": true,
        "colab": {
          "base_uri": "https://localhost:8080/"
        },
        "id": "G2vfOekkZ9Jd",
        "outputId": "b1cdb076-4720-408e-da76-3280e81e5415"
      },
      "source": [
        "X = dataset[:, 0:8]\n",
        "y = dataset[:, 8]\n",
        "y\n"
      ],
      "execution_count": 5,
      "outputs": [
        {
          "output_type": "execute_result",
          "data": {
            "text/plain": [
              "array([1., 0., 1., 0., 1., 0., 1., 0., 1., 1., 0., 1., 0., 1., 1., 1., 1.,\n",
              "       1., 0., 1., 0., 0., 1., 1., 1., 1., 1., 0., 0., 0., 0., 1., 0., 0.,\n",
              "       0., 0., 0., 1., 1., 1., 0., 0., 0., 1., 0., 1., 0., 0., 1., 0., 0.,\n",
              "       0., 0., 1., 0., 0., 1., 0., 0., 0., 0., 1., 0., 0., 1., 0., 1., 0.,\n",
              "       0., 0., 1., 0., 1., 0., 0., 0., 0., 0., 1., 0., 0., 0., 0., 0., 1.,\n",
              "       0., 0., 0., 1., 0., 0., 0., 0., 1., 0., 0., 0., 0., 0., 1., 1., 0.,\n",
              "       0., 0., 0., 0., 0., 0., 0., 1., 1., 1., 0., 0., 1., 1., 1., 0., 0.,\n",
              "       0., 1., 0., 0., 0., 1., 1., 0., 0., 1., 1., 1., 1., 1., 0., 0., 0.,\n",
              "       0., 0., 0., 0., 0., 0., 0., 1., 0., 0., 0., 0., 0., 0., 0., 0., 1.,\n",
              "       0., 1., 1., 0., 0., 0., 1., 0., 0., 0., 0., 1., 1., 0., 0., 0., 0.,\n",
              "       1., 1., 0., 0., 0., 1., 0., 1., 0., 1., 0., 0., 0., 0., 0., 1., 1.,\n",
              "       1., 1., 1., 0., 0., 1., 1., 0., 1., 0., 1., 1., 1., 0., 0., 0., 0.,\n",
              "       0., 0., 1., 1., 0., 1., 0., 0., 0., 1., 1., 1., 1., 0., 1., 1., 1.,\n",
              "       1., 0., 0., 0., 0., 0., 1., 0., 0., 1., 1., 0., 0., 0., 1., 1., 1.,\n",
              "       1., 0., 0., 0., 1., 1., 0., 1., 0., 0., 0., 0., 0., 0., 0., 0., 1.,\n",
              "       1., 0., 0., 0., 1., 0., 1., 0., 0., 1., 0., 1., 0., 0., 1., 1., 0.,\n",
              "       0., 0., 0., 0., 1., 0., 0., 0., 1., 0., 0., 1., 1., 0., 0., 1., 0.,\n",
              "       0., 0., 1., 1., 1., 0., 0., 1., 0., 1., 0., 1., 1., 0., 1., 0., 0.,\n",
              "       1., 0., 1., 1., 0., 0., 1., 0., 1., 0., 0., 1., 0., 1., 0., 1., 1.,\n",
              "       1., 0., 0., 1., 0., 1., 0., 0., 0., 1., 0., 0., 0., 0., 1., 1., 1.,\n",
              "       0., 0., 0., 0., 0., 0., 0., 0., 0., 1., 0., 0., 0., 0., 0., 1., 1.,\n",
              "       1., 0., 1., 1., 0., 0., 1., 0., 0., 1., 0., 0., 1., 1., 0., 0., 0.,\n",
              "       0., 1., 0., 0., 1., 0., 0., 0., 0., 0., 0., 0., 1., 1., 1., 0., 0.,\n",
              "       1., 0., 0., 1., 0., 0., 1., 0., 1., 1., 0., 1., 0., 1., 0., 1., 0.,\n",
              "       1., 1., 0., 0., 0., 0., 1., 1., 0., 1., 0., 1., 0., 0., 0., 0., 1.,\n",
              "       1., 0., 1., 0., 1., 0., 0., 0., 0., 0., 1., 0., 0., 0., 0., 1., 0.,\n",
              "       0., 1., 1., 1., 0., 0., 1., 0., 0., 1., 0., 0., 0., 1., 0., 0., 1.,\n",
              "       0., 0., 0., 0., 0., 0., 0., 0., 0., 1., 0., 0., 0., 0., 0., 0., 0.,\n",
              "       1., 0., 0., 0., 1., 0., 0., 0., 1., 1., 0., 0., 0., 0., 0., 0., 0.,\n",
              "       1., 0., 0., 0., 0., 1., 0., 0., 0., 1., 0., 0., 0., 1., 0., 0., 0.,\n",
              "       1., 0., 0., 0., 0., 1., 1., 0., 0., 0., 0., 0., 0., 1., 0., 0., 0.,\n",
              "       0., 0., 0., 0., 0., 0., 0., 0., 1., 0., 0., 0., 1., 1., 1., 1., 0.,\n",
              "       0., 1., 1., 0., 0., 0., 0., 0., 0., 0., 0., 0., 0., 0., 0., 0., 1.,\n",
              "       1., 0., 0., 0., 0., 0., 0., 0., 1., 0., 0., 0., 0., 0., 0., 0., 1.,\n",
              "       0., 1., 1., 0., 0., 0., 1., 0., 1., 0., 1., 0., 1., 0., 1., 0., 0.,\n",
              "       1., 0., 0., 1., 0., 0., 0., 0., 1., 1., 0., 1., 0., 0., 0., 0., 1.,\n",
              "       1., 0., 1., 0., 0., 0., 1., 1., 0., 0., 0., 0., 0., 0., 0., 0., 0.,\n",
              "       0., 1., 0., 0., 0., 0., 1., 0., 0., 1., 0., 0., 0., 1., 0., 0., 0.,\n",
              "       1., 1., 1., 0., 0., 0., 0., 0., 0., 1., 0., 0., 0., 1., 0., 1., 1.,\n",
              "       1., 1., 0., 1., 1., 0., 0., 0., 0., 0., 0., 0., 1., 1., 0., 1., 0.,\n",
              "       0., 1., 0., 1., 0., 0., 0., 0., 0., 1., 0., 1., 0., 1., 0., 1., 1.,\n",
              "       0., 0., 0., 0., 1., 1., 0., 0., 0., 1., 0., 1., 1., 0., 0., 1., 0.,\n",
              "       0., 1., 1., 0., 0., 1., 0., 0., 1., 0., 0., 0., 0., 0., 0., 0., 1.,\n",
              "       1., 1., 0., 0., 0., 0., 0., 0., 1., 1., 0., 0., 1., 0., 0., 1., 0.,\n",
              "       1., 1., 1., 0., 0., 1., 1., 1., 0., 1., 0., 1., 0., 1., 0., 0., 0.,\n",
              "       0., 1., 0.])"
            ]
          },
          "metadata": {
            "tags": []
          },
          "execution_count": 5
        }
      ]
    },
    {
      "cell_type": "markdown",
      "metadata": {
        "id": "oBsiHajMZ9Je"
      },
      "source": [
        "---\n",
        "<div style=\"text-align: right\"> <font size=5> <a href=\"#indice\"><i class=\"fa fa-arrow-circle-up\" aria-hidden=\"true\" style=\"color:#004D7F\"></i></a></font></div>\n",
        "\n",
        "---"
      ]
    },
    {
      "cell_type": "markdown",
      "metadata": {
        "id": "4YDs9mgcZ9Je"
      },
      "source": [
        "<a id=\"section3\"></a>\n",
        "# <font color=\"#004D7F\" size=6>3. Definir modelo</font>"
      ]
    },
    {
      "cell_type": "markdown",
      "metadata": {
        "id": "SaqelwdeZ9Je"
      },
      "source": [
        "Los modelos en Keras se definen como una secuencia de capas. Creamos un modelo **Secuencial** y agregamos capas de una en una hasta que estemos satisfechos con nuestra topología de red. \n",
        "\n",
        "Lo primero que debe hacer bien es asegurarse de que la capa de entrada tenga el número correcto de entradas. Esto se puede especificar al crear la primera capa con el argumento `input_dim` y establecerlo en 8. \n",
        "\n",
        "Pregunta, ¿Cómo sabemos la cantidad de capas que debemos usar y sus tipos? \n",
        "\n",
        "\n",
        "En sí el procedimiento a utilizar será:\n",
        "1. Las capas completamente conectadas se definen mediante la clase `Dense`. Se puede especificar:\n",
        "    * El número de neuronas en la capa como primer argumento y \n",
        "    * Especificar la función de activación usando el parámetro `activation`.\n",
        "2. Usaremos la función de activación ReLu en las dos primeras capas y la función de activación Sigmoidea en la capa de salida. \n",
        "3. Usamos una función de activación sigmoidea en la capa de salida para garantizar que la salida de nuestra red esté entre 0 y 1. \n",
        "\n",
        "La siguiente figura proporciona una descripción de la estructura de la red.\n",
        "\n",
        "\n",
        "<img src=\"https://github.com/FMunyoz/colab/blob/main/images/2_redNeuronal.png?raw=1\" width=\"200\" height=\"200\" />"
      ]
    },
    {
      "cell_type": "code",
      "metadata": {
        "id": "cinuUbyWZ9Je"
      },
      "source": [
        "from keras.models import Sequential\n",
        "from keras.layers import Dense\n",
        "\n",
        "#define the keras model\n",
        "\n",
        "model = Sequential()\n",
        "model.add(Dense(12, input_dim=8, activation = 'relu'))\n",
        "model.add(Dense(8, activation = 'relu'))\n",
        "model.add(Dense(1, activation = 'sigmoid'))"
      ],
      "execution_count": 7,
      "outputs": []
    },
    {
      "cell_type": "markdown",
      "metadata": {
        "id": "i6BFFJCDZ9Je"
      },
      "source": [
        "---\n",
        "<div style=\"text-align: right\"> <font size=5> <a href=\"#indice\"><i class=\"fa fa-arrow-circle-up\" aria-hidden=\"true\" style=\"color:#004D7F\"></i></a></font></div>\n",
        "\n",
        "---"
      ]
    },
    {
      "cell_type": "markdown",
      "metadata": {
        "id": "E1CCtwoSZ9Jf"
      },
      "source": [
        "<a id=\"section4\"></a>\n",
        "# <font color=\"#004D7F\" size=6>4. Compilar modelo</font>"
      ]
    },
    {
      "cell_type": "markdown",
      "metadata": {
        "id": "aBvURyXNZ9Jf"
      },
      "source": [
        "Ahora que el modelo está definido, podemos compilarlo. \n",
        "\n",
        "Al compilar, debemos especificar algunas propiedades adicionales requeridas al entrenar la red. \n",
        "\n",
        "Debemos especificar:\n",
        "1. La función de pérdida que se utilizará para evaluar un conjunto de ponderaciones, \n",
        "2. El optimizador utilizado para buscar entre diferentes ponderaciones para la red y\n",
        "3. Cualquier métrica opcional que nos gustaría recopilar e informar durante el entrenamiento. \n",
        "    * En este caso usaremos la **pérdida logarítmica**, que para un problema de clasificación binaria se define como `binary_crossentropy`. \n",
        "4. También usaremos el algoritmo de Gradiente Descendiente `adam` \n",
        "5. Finalmente, debido a que es un problema de clasificación nuestra métrica será el Accuracy."
      ]
    },
    {
      "cell_type": "markdown",
      "metadata": {
        "id": "H0Hhgyt_Z9Jf"
      },
      "source": [
        "<div class=\"alert alert-block alert-info\">\n",
        "    \n",
        "<i class=\"fa fa-info-circle\" aria-hidden=\"true\"></i>\n",
        "Obtenga más información sobre el algoritmo de optimización de Adam en el artículo [_Adam: A Method for Stochastic Optimization_](https://arxiv.org/abs/1412.6980)"
      ]
    },
    {
      "cell_type": "code",
      "metadata": {
        "id": "KPFPlH2qZ9Jf"
      },
      "source": [
        "#Compile the keras model\n",
        "model.compile(loss = 'binary_crossentropy', optimizer='adam', metrics=['accuracy'])"
      ],
      "execution_count": 8,
      "outputs": []
    },
    {
      "cell_type": "markdown",
      "metadata": {
        "id": "Ed9dhKJrZ9Jf"
      },
      "source": [
        "---\n",
        "<div style=\"text-align: right\"> <font size=5> <a href=\"#indice\"><i class=\"fa fa-arrow-circle-up\" aria-hidden=\"true\" style=\"color:#004D7F\"></i></a></font></div>\n",
        "\n",
        "---"
      ]
    },
    {
      "cell_type": "markdown",
      "metadata": {
        "id": "lN994xB-Z9Jg"
      },
      "source": [
        "<a id=\"section5\"></a>\n",
        "# <font color=\"#004D7F\" size=6>5. Ajustar modelo</font>"
      ]
    },
    {
      "cell_type": "markdown",
      "metadata": {
        "id": "ypMKGufuZ9Jg"
      },
      "source": [
        "Hemos definido nuestro modelo y lo hemos compilado listo para un cálculo eficiente. Ahora es el momento de ejecutar el modelo en algunos datos llamando a la función `fit()`.\n",
        "* El proceso de entrenamiento se ejecutará para un número fijo de iteraciones usando el argumento `epochs`. \n",
        "* También podemos establecer el número de instancias que se evalúan antes de que se realice una actualización de peso en la red, denominada tamaño de batch, y se establece mediante el argumento `batch_size`. "
      ]
    },
    {
      "cell_type": "code",
      "metadata": {
        "scrolled": true,
        "id": "0_WPGDNhZ9Jg",
        "colab": {
          "base_uri": "https://localhost:8080/"
        },
        "outputId": "128499aa-ea15-442e-fb3f-88f392b97300"
      },
      "source": [
        "#fit the model\n",
        "\n",
        "model.fit(X, y, epochs=150, batch_size=16)"
      ],
      "execution_count": 9,
      "outputs": [
        {
          "output_type": "stream",
          "text": [
            "Epoch 1/150\n",
            "48/48 [==============================] - 14s 1ms/step - loss: 3.8196 - accuracy: 0.5172\n",
            "Epoch 2/150\n",
            "48/48 [==============================] - 0s 1ms/step - loss: 1.1211 - accuracy: 0.5876\n",
            "Epoch 3/150\n",
            "48/48 [==============================] - 0s 1ms/step - loss: 0.9724 - accuracy: 0.6004\n",
            "Epoch 4/150\n",
            "48/48 [==============================] - 0s 1ms/step - loss: 0.8580 - accuracy: 0.6320\n",
            "Epoch 5/150\n",
            "48/48 [==============================] - 0s 1ms/step - loss: 0.8134 - accuracy: 0.5706\n",
            "Epoch 6/150\n",
            "48/48 [==============================] - 0s 1ms/step - loss: 0.7587 - accuracy: 0.6450\n",
            "Epoch 7/150\n",
            "48/48 [==============================] - 0s 1ms/step - loss: 0.7083 - accuracy: 0.6472\n",
            "Epoch 8/150\n",
            "48/48 [==============================] - 0s 1ms/step - loss: 0.7396 - accuracy: 0.6087\n",
            "Epoch 9/150\n",
            "48/48 [==============================] - 0s 1ms/step - loss: 0.6770 - accuracy: 0.6261\n",
            "Epoch 10/150\n",
            "48/48 [==============================] - 0s 1ms/step - loss: 0.6698 - accuracy: 0.6227\n",
            "Epoch 11/150\n",
            "48/48 [==============================] - 0s 1ms/step - loss: 0.6754 - accuracy: 0.6418\n",
            "Epoch 12/150\n",
            "48/48 [==============================] - 0s 1ms/step - loss: 0.6747 - accuracy: 0.6211\n",
            "Epoch 13/150\n",
            "48/48 [==============================] - 0s 1ms/step - loss: 0.6489 - accuracy: 0.6614\n",
            "Epoch 14/150\n",
            "48/48 [==============================] - 0s 1ms/step - loss: 0.6572 - accuracy: 0.6637\n",
            "Epoch 15/150\n",
            "48/48 [==============================] - 0s 1ms/step - loss: 0.6633 - accuracy: 0.6302\n",
            "Epoch 16/150\n",
            "48/48 [==============================] - 0s 1ms/step - loss: 0.6433 - accuracy: 0.6614\n",
            "Epoch 17/150\n",
            "48/48 [==============================] - 0s 2ms/step - loss: 0.6227 - accuracy: 0.6591\n",
            "Epoch 18/150\n",
            "48/48 [==============================] - 0s 1ms/step - loss: 0.6260 - accuracy: 0.6610\n",
            "Epoch 19/150\n",
            "48/48 [==============================] - 0s 1ms/step - loss: 0.6143 - accuracy: 0.6796\n",
            "Epoch 20/150\n",
            "48/48 [==============================] - 0s 1ms/step - loss: 0.6436 - accuracy: 0.6405\n",
            "Epoch 21/150\n",
            "48/48 [==============================] - 0s 1ms/step - loss: 0.6436 - accuracy: 0.6482\n",
            "Epoch 22/150\n",
            "48/48 [==============================] - 0s 1ms/step - loss: 0.6169 - accuracy: 0.6727\n",
            "Epoch 23/150\n",
            "48/48 [==============================] - 0s 1ms/step - loss: 0.6173 - accuracy: 0.6921\n",
            "Epoch 24/150\n",
            "48/48 [==============================] - 0s 1ms/step - loss: 0.6104 - accuracy: 0.6800\n",
            "Epoch 25/150\n",
            "48/48 [==============================] - 0s 1ms/step - loss: 0.6240 - accuracy: 0.6834\n",
            "Epoch 26/150\n",
            "48/48 [==============================] - 0s 1ms/step - loss: 0.6351 - accuracy: 0.6758\n",
            "Epoch 27/150\n",
            "48/48 [==============================] - 0s 1ms/step - loss: 0.6028 - accuracy: 0.6911\n",
            "Epoch 28/150\n",
            "48/48 [==============================] - 0s 1ms/step - loss: 0.6413 - accuracy: 0.6710\n",
            "Epoch 29/150\n",
            "48/48 [==============================] - 0s 1ms/step - loss: 0.5972 - accuracy: 0.7034\n",
            "Epoch 30/150\n",
            "48/48 [==============================] - 0s 1ms/step - loss: 0.6557 - accuracy: 0.6564\n",
            "Epoch 31/150\n",
            "48/48 [==============================] - 0s 1ms/step - loss: 0.6226 - accuracy: 0.6760\n",
            "Epoch 32/150\n",
            "48/48 [==============================] - 0s 2ms/step - loss: 0.6303 - accuracy: 0.6661\n",
            "Epoch 33/150\n",
            "48/48 [==============================] - 0s 1ms/step - loss: 0.6162 - accuracy: 0.6796\n",
            "Epoch 34/150\n",
            "48/48 [==============================] - 0s 1ms/step - loss: 0.6099 - accuracy: 0.6863\n",
            "Epoch 35/150\n",
            "48/48 [==============================] - 0s 1ms/step - loss: 0.6383 - accuracy: 0.6791\n",
            "Epoch 36/150\n",
            "48/48 [==============================] - 0s 1ms/step - loss: 0.6212 - accuracy: 0.6869\n",
            "Epoch 37/150\n",
            "48/48 [==============================] - 0s 1ms/step - loss: 0.6364 - accuracy: 0.6806\n",
            "Epoch 38/150\n",
            "48/48 [==============================] - 0s 2ms/step - loss: 0.6317 - accuracy: 0.6808\n",
            "Epoch 39/150\n",
            "48/48 [==============================] - 0s 2ms/step - loss: 0.6109 - accuracy: 0.6935\n",
            "Epoch 40/150\n",
            "48/48 [==============================] - 0s 1ms/step - loss: 0.5970 - accuracy: 0.6855\n",
            "Epoch 41/150\n",
            "48/48 [==============================] - 0s 1ms/step - loss: 0.5995 - accuracy: 0.6908\n",
            "Epoch 42/150\n",
            "48/48 [==============================] - 0s 1ms/step - loss: 0.6137 - accuracy: 0.6877\n",
            "Epoch 43/150\n",
            "48/48 [==============================] - 0s 1ms/step - loss: 0.6014 - accuracy: 0.7022\n",
            "Epoch 44/150\n",
            "48/48 [==============================] - 0s 1ms/step - loss: 0.6143 - accuracy: 0.6705\n",
            "Epoch 45/150\n",
            "48/48 [==============================] - 0s 1ms/step - loss: 0.6314 - accuracy: 0.6714\n",
            "Epoch 46/150\n",
            "48/48 [==============================] - 0s 1ms/step - loss: 0.6071 - accuracy: 0.6585\n",
            "Epoch 47/150\n",
            "48/48 [==============================] - 0s 1ms/step - loss: 0.5775 - accuracy: 0.7121\n",
            "Epoch 48/150\n",
            "48/48 [==============================] - 0s 1ms/step - loss: 0.5781 - accuracy: 0.7292\n",
            "Epoch 49/150\n",
            "48/48 [==============================] - 0s 1ms/step - loss: 0.5833 - accuracy: 0.7067\n",
            "Epoch 50/150\n",
            "48/48 [==============================] - 0s 1ms/step - loss: 0.5777 - accuracy: 0.7103\n",
            "Epoch 51/150\n",
            "48/48 [==============================] - 0s 1ms/step - loss: 0.5986 - accuracy: 0.7026\n",
            "Epoch 52/150\n",
            "48/48 [==============================] - 0s 1ms/step - loss: 0.5932 - accuracy: 0.7034\n",
            "Epoch 53/150\n",
            "48/48 [==============================] - 0s 2ms/step - loss: 0.5820 - accuracy: 0.7036\n",
            "Epoch 54/150\n",
            "48/48 [==============================] - 0s 1ms/step - loss: 0.5961 - accuracy: 0.6813\n",
            "Epoch 55/150\n",
            "48/48 [==============================] - 0s 1ms/step - loss: 0.6108 - accuracy: 0.6645\n",
            "Epoch 56/150\n",
            "48/48 [==============================] - 0s 1ms/step - loss: 0.5863 - accuracy: 0.7076\n",
            "Epoch 57/150\n",
            "48/48 [==============================] - 0s 1ms/step - loss: 0.6058 - accuracy: 0.6940\n",
            "Epoch 58/150\n",
            "48/48 [==============================] - 0s 1ms/step - loss: 0.6055 - accuracy: 0.6930\n",
            "Epoch 59/150\n",
            "48/48 [==============================] - 0s 1ms/step - loss: 0.5867 - accuracy: 0.7035\n",
            "Epoch 60/150\n",
            "48/48 [==============================] - 0s 1ms/step - loss: 0.6143 - accuracy: 0.6852\n",
            "Epoch 61/150\n",
            "48/48 [==============================] - 0s 1ms/step - loss: 0.5849 - accuracy: 0.6796\n",
            "Epoch 62/150\n",
            "48/48 [==============================] - 0s 1ms/step - loss: 0.5642 - accuracy: 0.7023\n",
            "Epoch 63/150\n",
            "48/48 [==============================] - 0s 1ms/step - loss: 0.5886 - accuracy: 0.7002\n",
            "Epoch 64/150\n",
            "48/48 [==============================] - 0s 1ms/step - loss: 0.5854 - accuracy: 0.7007\n",
            "Epoch 65/150\n",
            "48/48 [==============================] - 0s 2ms/step - loss: 0.5650 - accuracy: 0.7144\n",
            "Epoch 66/150\n",
            "48/48 [==============================] - 0s 1ms/step - loss: 0.5919 - accuracy: 0.6944\n",
            "Epoch 67/150\n",
            "48/48 [==============================] - 0s 1ms/step - loss: 0.5861 - accuracy: 0.7154\n",
            "Epoch 68/150\n",
            "48/48 [==============================] - 0s 1ms/step - loss: 0.5815 - accuracy: 0.6869\n",
            "Epoch 69/150\n",
            "48/48 [==============================] - 0s 1ms/step - loss: 0.5884 - accuracy: 0.7094\n",
            "Epoch 70/150\n",
            "48/48 [==============================] - 0s 1ms/step - loss: 0.5661 - accuracy: 0.7158\n",
            "Epoch 71/150\n",
            "48/48 [==============================] - 0s 1ms/step - loss: 0.6322 - accuracy: 0.6688\n",
            "Epoch 72/150\n",
            "48/48 [==============================] - 0s 1ms/step - loss: 0.5706 - accuracy: 0.7068\n",
            "Epoch 73/150\n",
            "48/48 [==============================] - 0s 1ms/step - loss: 0.5650 - accuracy: 0.7205\n",
            "Epoch 74/150\n",
            "48/48 [==============================] - 0s 2ms/step - loss: 0.5838 - accuracy: 0.6951\n",
            "Epoch 75/150\n",
            "48/48 [==============================] - 0s 2ms/step - loss: 0.5683 - accuracy: 0.7182\n",
            "Epoch 76/150\n",
            "48/48 [==============================] - 0s 1ms/step - loss: 0.5790 - accuracy: 0.7018\n",
            "Epoch 77/150\n",
            "48/48 [==============================] - 0s 1ms/step - loss: 0.5869 - accuracy: 0.7020\n",
            "Epoch 78/150\n",
            "48/48 [==============================] - 0s 1ms/step - loss: 0.5946 - accuracy: 0.6919\n",
            "Epoch 79/150\n",
            "48/48 [==============================] - 0s 1ms/step - loss: 0.5864 - accuracy: 0.7126\n",
            "Epoch 80/150\n",
            "48/48 [==============================] - 0s 1ms/step - loss: 0.5799 - accuracy: 0.6962\n",
            "Epoch 81/150\n",
            "48/48 [==============================] - 0s 1ms/step - loss: 0.5726 - accuracy: 0.7187\n",
            "Epoch 82/150\n",
            "48/48 [==============================] - 0s 1ms/step - loss: 0.5817 - accuracy: 0.7265\n",
            "Epoch 83/150\n",
            "48/48 [==============================] - 0s 1ms/step - loss: 0.5760 - accuracy: 0.7160\n",
            "Epoch 84/150\n",
            "48/48 [==============================] - 0s 1ms/step - loss: 0.5661 - accuracy: 0.7252\n",
            "Epoch 85/150\n",
            "48/48 [==============================] - 0s 1ms/step - loss: 0.5790 - accuracy: 0.7249\n",
            "Epoch 86/150\n",
            "48/48 [==============================] - 0s 1ms/step - loss: 0.5700 - accuracy: 0.7097\n",
            "Epoch 87/150\n",
            "48/48 [==============================] - 0s 1ms/step - loss: 0.5670 - accuracy: 0.7219\n",
            "Epoch 88/150\n",
            "48/48 [==============================] - 0s 1ms/step - loss: 0.5463 - accuracy: 0.7315\n",
            "Epoch 89/150\n",
            "48/48 [==============================] - 0s 1ms/step - loss: 0.5914 - accuracy: 0.6978\n",
            "Epoch 90/150\n",
            "48/48 [==============================] - 0s 1ms/step - loss: 0.5703 - accuracy: 0.7252\n",
            "Epoch 91/150\n",
            "48/48 [==============================] - 0s 1ms/step - loss: 0.5442 - accuracy: 0.7351\n",
            "Epoch 92/150\n",
            "48/48 [==============================] - 0s 2ms/step - loss: 0.5818 - accuracy: 0.7029\n",
            "Epoch 93/150\n",
            "48/48 [==============================] - 0s 1ms/step - loss: 0.5850 - accuracy: 0.7039\n",
            "Epoch 94/150\n",
            "48/48 [==============================] - 0s 1ms/step - loss: 0.5886 - accuracy: 0.7168\n",
            "Epoch 95/150\n",
            "48/48 [==============================] - 0s 1ms/step - loss: 0.5491 - accuracy: 0.7322\n",
            "Epoch 96/150\n",
            "48/48 [==============================] - 0s 1ms/step - loss: 0.5853 - accuracy: 0.6903\n",
            "Epoch 97/150\n",
            "48/48 [==============================] - 0s 1ms/step - loss: 0.5581 - accuracy: 0.7240\n",
            "Epoch 98/150\n",
            "48/48 [==============================] - 0s 1ms/step - loss: 0.5667 - accuracy: 0.7317\n",
            "Epoch 99/150\n",
            "48/48 [==============================] - 0s 1ms/step - loss: 0.5557 - accuracy: 0.7267\n",
            "Epoch 100/150\n",
            "48/48 [==============================] - 0s 1ms/step - loss: 0.6024 - accuracy: 0.6860\n",
            "Epoch 101/150\n",
            "48/48 [==============================] - 0s 1ms/step - loss: 0.5496 - accuracy: 0.7377\n",
            "Epoch 102/150\n",
            "48/48 [==============================] - 0s 1ms/step - loss: 0.5606 - accuracy: 0.7202\n",
            "Epoch 103/150\n",
            "48/48 [==============================] - 0s 1ms/step - loss: 0.5705 - accuracy: 0.7188\n",
            "Epoch 104/150\n",
            "48/48 [==============================] - 0s 1ms/step - loss: 0.6161 - accuracy: 0.6837\n",
            "Epoch 105/150\n",
            "48/48 [==============================] - 0s 1ms/step - loss: 0.5698 - accuracy: 0.7007\n",
            "Epoch 106/150\n",
            "48/48 [==============================] - 0s 1ms/step - loss: 0.5454 - accuracy: 0.7339\n",
            "Epoch 107/150\n",
            "48/48 [==============================] - 0s 1ms/step - loss: 0.5850 - accuracy: 0.6867\n",
            "Epoch 108/150\n",
            "48/48 [==============================] - 0s 1ms/step - loss: 0.5528 - accuracy: 0.7169\n",
            "Epoch 109/150\n",
            "48/48 [==============================] - 0s 2ms/step - loss: 0.5351 - accuracy: 0.7293\n",
            "Epoch 110/150\n",
            "48/48 [==============================] - 0s 1ms/step - loss: 0.5921 - accuracy: 0.6861\n",
            "Epoch 111/150\n",
            "48/48 [==============================] - 0s 1ms/step - loss: 0.5669 - accuracy: 0.7081\n",
            "Epoch 112/150\n",
            "48/48 [==============================] - 0s 1ms/step - loss: 0.5573 - accuracy: 0.7293\n",
            "Epoch 113/150\n",
            "48/48 [==============================] - 0s 1ms/step - loss: 0.5548 - accuracy: 0.7261\n",
            "Epoch 114/150\n",
            "48/48 [==============================] - 0s 1ms/step - loss: 0.5915 - accuracy: 0.6954\n",
            "Epoch 115/150\n",
            "48/48 [==============================] - 0s 2ms/step - loss: 0.5590 - accuracy: 0.7365\n",
            "Epoch 116/150\n",
            "48/48 [==============================] - 0s 2ms/step - loss: 0.5725 - accuracy: 0.6998\n",
            "Epoch 117/150\n",
            "48/48 [==============================] - 0s 1ms/step - loss: 0.5694 - accuracy: 0.7239\n",
            "Epoch 118/150\n",
            "48/48 [==============================] - 0s 1ms/step - loss: 0.5738 - accuracy: 0.6977\n",
            "Epoch 119/150\n",
            "48/48 [==============================] - 0s 1ms/step - loss: 0.5235 - accuracy: 0.7627\n",
            "Epoch 120/150\n",
            "48/48 [==============================] - 0s 1ms/step - loss: 0.5475 - accuracy: 0.7371\n",
            "Epoch 121/150\n",
            "48/48 [==============================] - 0s 1ms/step - loss: 0.5586 - accuracy: 0.7185\n",
            "Epoch 122/150\n",
            "48/48 [==============================] - 0s 2ms/step - loss: 0.5576 - accuracy: 0.7219\n",
            "Epoch 123/150\n",
            "48/48 [==============================] - 0s 1ms/step - loss: 0.5569 - accuracy: 0.7097\n",
            "Epoch 124/150\n",
            "48/48 [==============================] - 0s 1ms/step - loss: 0.5568 - accuracy: 0.7328\n",
            "Epoch 125/150\n",
            "48/48 [==============================] - 0s 1ms/step - loss: 0.5641 - accuracy: 0.7303\n",
            "Epoch 126/150\n",
            "48/48 [==============================] - 0s 1ms/step - loss: 0.5621 - accuracy: 0.7261\n",
            "Epoch 127/150\n",
            "48/48 [==============================] - 0s 1ms/step - loss: 0.5542 - accuracy: 0.7171\n",
            "Epoch 128/150\n",
            "48/48 [==============================] - 0s 2ms/step - loss: 0.5915 - accuracy: 0.6729\n",
            "Epoch 129/150\n",
            "48/48 [==============================] - 0s 1ms/step - loss: 0.5386 - accuracy: 0.7437\n",
            "Epoch 130/150\n",
            "48/48 [==============================] - 0s 1ms/step - loss: 0.5603 - accuracy: 0.7214\n",
            "Epoch 131/150\n",
            "48/48 [==============================] - 0s 1ms/step - loss: 0.5485 - accuracy: 0.7261\n",
            "Epoch 132/150\n",
            "48/48 [==============================] - 0s 1ms/step - loss: 0.5498 - accuracy: 0.7358\n",
            "Epoch 133/150\n",
            "48/48 [==============================] - 0s 1ms/step - loss: 0.5309 - accuracy: 0.7547\n",
            "Epoch 134/150\n",
            "48/48 [==============================] - 0s 1ms/step - loss: 0.5302 - accuracy: 0.7486\n",
            "Epoch 135/150\n",
            "48/48 [==============================] - 0s 2ms/step - loss: 0.5518 - accuracy: 0.7221\n",
            "Epoch 136/150\n",
            "48/48 [==============================] - 0s 1ms/step - loss: 0.5516 - accuracy: 0.7265\n",
            "Epoch 137/150\n",
            "48/48 [==============================] - 0s 1ms/step - loss: 0.5490 - accuracy: 0.7351\n",
            "Epoch 138/150\n",
            "48/48 [==============================] - 0s 1ms/step - loss: 0.5364 - accuracy: 0.7471\n",
            "Epoch 139/150\n",
            "48/48 [==============================] - 0s 1ms/step - loss: 0.5513 - accuracy: 0.7159\n",
            "Epoch 140/150\n",
            "48/48 [==============================] - 0s 1ms/step - loss: 0.5492 - accuracy: 0.7305\n",
            "Epoch 141/150\n",
            "48/48 [==============================] - 0s 1ms/step - loss: 0.5401 - accuracy: 0.7406\n",
            "Epoch 142/150\n",
            "48/48 [==============================] - 0s 1ms/step - loss: 0.5463 - accuracy: 0.7226\n",
            "Epoch 143/150\n",
            "48/48 [==============================] - 0s 2ms/step - loss: 0.5561 - accuracy: 0.7126\n",
            "Epoch 144/150\n",
            "48/48 [==============================] - 0s 1ms/step - loss: 0.5272 - accuracy: 0.7519\n",
            "Epoch 145/150\n",
            "48/48 [==============================] - 0s 1ms/step - loss: 0.5622 - accuracy: 0.7142\n",
            "Epoch 146/150\n",
            "48/48 [==============================] - 0s 1ms/step - loss: 0.5523 - accuracy: 0.7042\n",
            "Epoch 147/150\n",
            "48/48 [==============================] - 0s 1ms/step - loss: 0.5407 - accuracy: 0.7307\n",
            "Epoch 148/150\n",
            "48/48 [==============================] - 0s 1ms/step - loss: 0.5329 - accuracy: 0.7473\n",
            "Epoch 149/150\n",
            "48/48 [==============================] - 0s 2ms/step - loss: 0.5258 - accuracy: 0.7505\n",
            "Epoch 150/150\n",
            "48/48 [==============================] - 0s 1ms/step - loss: 0.5309 - accuracy: 0.7564\n"
          ],
          "name": "stdout"
        },
        {
          "output_type": "execute_result",
          "data": {
            "text/plain": [
              "<keras.callbacks.History at 0x7f7ad3232190>"
            ]
          },
          "metadata": {
            "tags": []
          },
          "execution_count": 9
        }
      ]
    },
    {
      "cell_type": "markdown",
      "metadata": {
        "id": "WYGg9tRfZ9Jg"
      },
      "source": [
        "---\n",
        "<div style=\"text-align: right\"> <font size=5> <a href=\"#indice\"><i class=\"fa fa-arrow-circle-up\" aria-hidden=\"true\" style=\"color:#004D7F\"></i></a></font></div>\n",
        "\n",
        "---"
      ]
    },
    {
      "cell_type": "markdown",
      "metadata": {
        "id": "ISH9n0bDZ9Jh"
      },
      "source": [
        "<a id=\"section6\"></a>\n",
        "# <font color=\"#004D7F\" size=6>6. Evaluar modelo</font>"
      ]
    },
    {
      "cell_type": "markdown",
      "metadata": {
        "id": "K7G6Y7saZ9Jh"
      },
      "source": [
        "Podemos evaluar tu modelo en tu conjunto de datos de entrenamiento usando la función de `evaluation()` y pasar la misma entrada y salida que usaste para entrenar el modelo."
      ]
    },
    {
      "cell_type": "code",
      "metadata": {
        "id": "XtUkcsO0Z9Jh",
        "colab": {
          "base_uri": "https://localhost:8080/"
        },
        "outputId": "71424a89-9fd8-4873-d533-4452e04149ac"
      },
      "source": [
        "_, accuracy = model.evaluate(X, y)\n",
        "print('Accuracy:  %.2f', (accuracy*100))"
      ],
      "execution_count": 11,
      "outputs": [
        {
          "output_type": "stream",
          "text": [
            "24/24 [==============================] - 0s 1ms/step - loss: 0.5332 - accuracy: 0.7344\n",
            "Accuracy:  %.2f 73.4375\n"
          ],
          "name": "stdout"
        }
      ]
    },
    {
      "cell_type": "markdown",
      "metadata": {
        "id": "QsUfTmuaZ9Jh"
      },
      "source": [
        "---\n",
        "<div style=\"text-align: right\"> <font size=5> <a href=\"#indice\"><i class=\"fa fa-arrow-circle-up\" aria-hidden=\"true\" style=\"color:#004D7F\"></i></a></font></div>\n",
        "\n",
        "---"
      ]
    },
    {
      "cell_type": "markdown",
      "metadata": {
        "id": "ywYBUzFDZ9Jh"
      },
      "source": [
        "<a id=\"section7\"></a>\n",
        "# <font color=\"#004D7F\" size=6>7. Hacer predicciones</font>"
      ]
    },
    {
      "cell_type": "markdown",
      "metadata": {
        "id": "WEcEnAPfZ9Jh"
      },
      "source": [
        "Podemos llamar a la función `predict_classes()` para predecir clases directamente, por ejemplo:"
      ]
    },
    {
      "cell_type": "code",
      "metadata": {
        "id": "UJcSpQZsZ9Ji"
      },
      "source": [
        "???"
      ],
      "execution_count": null,
      "outputs": []
    },
    {
      "cell_type": "markdown",
      "metadata": {
        "id": "49947LOqZ9Ji"
      },
      "source": [
        "Veamos un ejemplo"
      ]
    },
    {
      "cell_type": "code",
      "metadata": {
        "id": "s08qO6ylZ9Ji",
        "outputId": "90d88353-08af-4c70-f645-e0e294a38527"
      },
      "source": [
        "???"
      ],
      "execution_count": null,
      "outputs": [
        {
          "output_type": "stream",
          "text": [
            "[6.0, 148.0, 72.0, 35.0, 0.0, 33.6, 627.0, 50.0] => 1 (expected 1)\n",
            "[1.0, 85.0, 66.0, 29.0, 0.0, 26.6, 351.0, 31.0] => 0 (expected 0)\n",
            "[8.0, 183.0, 64.0, 0.0, 0.0, 23.3, 672.0, 32.0] => 1 (expected 1)\n",
            "[1.0, 89.0, 66.0, 23.0, 94.0, 28.1, 167.0, 21.0] => 0 (expected 0)\n",
            "[0.0, 137.0, 40.0, 35.0, 168.0, 43.1, 2288.0, 33.0] => 1 (expected 1)\n"
          ],
          "name": "stdout"
        }
      ]
    },
    {
      "cell_type": "markdown",
      "metadata": {
        "id": "pxOC4jhiZ9Ji"
      },
      "source": [
        "Ejecutar el ejemplo no muestra la barra de progreso como antes, ya que hemos establecido el argumento `verbose` en 0. "
      ]
    },
    {
      "cell_type": "markdown",
      "metadata": {
        "id": "TPZZn4g7Z9Ji"
      },
      "source": [
        "<div style=\"text-align: right\"> <font size=5> <a href=\"#indice\"><i class=\"fa fa-arrow-circle-up\" aria-hidden=\"true\" style=\"color:#004D7F\"></i></a></font></div>\n",
        "\n",
        "---\n",
        "\n",
        "<div style=\"text-align: right\"> <font size=6><i class=\"fa fa-coffee\" aria-hidden=\"true\" style=\"color:#004D7F\"></i> </font></div>"
      ]
    }
  ]
}