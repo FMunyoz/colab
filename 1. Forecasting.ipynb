{
 "cells": [
  {
   "cell_type": "markdown",
   "metadata": {},
   "source": [
    "<h1><font color=\"#113D68\" size=6>Deep Learning con Python con Python y Keras</font></h1>\n",
    "\n",
    "<h1><font color=\"#113D68\" size=5>Parte 4. MLP avanzado</font></h1>\n",
    "\n",
    "<h1><font color=\"#113D68\" size=4>1. Forecasting</font></h1>\n",
    "\n",
    "<br><br>\n",
    "<div style=\"text-align: right\">\n",
    "<font color=\"#113D68\" size=3>Manuel Castillo Cara</font><br>\n",
    "\n",
    "</div>"
   ]
  },
  {
   "cell_type": "markdown",
   "metadata": {},
   "source": [
    "---\n",
    "\n",
    "<a id=\"indice\"></a>\n",
    "<h2><font color=\"#004D7F\" size=5>Índice</font></h2>\n",
    "\n",
    "* [0. Contexto](#section0)\n",
    "* [1. Introducción](#section1)\n",
    "    * [1.1. Formato HDF5](#section1.1)\n",
    "* [2. Guardar el modelo en JSON](#section2)\n",
    "* [3. Guardar el modelo en YAML](#section3)\n",
    "* [4. Guardar topología y pesos](#section4)\n",
    "    * [4.1. Guardar el modelo](#section4.1)\n",
    "    * [4.2. Cargar el modelo](#section4.2)"
   ]
  },
  {
   "cell_type": "markdown",
   "metadata": {},
   "source": [
    "---\n",
    "<a id=\"section0\"></a>\n",
    "# <font color=\"#004D7F\" size=6> 0. Contexto</font>"
   ]
  },
  {
   "cell_type": "markdown",
   "metadata": {},
   "source": [
    "En esta lección, descubrirá cómo puede guardar nuestros modelos en un archivo y volver a cargarlos para hacer predicciones. Después de completar esta lección, sabrá:\n",
    "* Cómo guardar y cargar los pesos del modelo en archivos formateados HDF5.\n",
    "* Cómo guardar y cargar la estructura del modelo en archivos JSON.\n",
    "* Cómo guardar y cargar la estructura del modelo en archivos YAML."
   ]
  },
  {
   "cell_type": "code",
   "execution_count": 1,
   "metadata": {},
   "outputs": [],
   "source": [
    "import tensorflow as tf\n",
    "# Eliminar warning\n",
    "tf.compat.v1.logging.set_verbosity(tf.compat.v1.logging.ERROR)"
   ]
  },
  {
   "cell_type": "markdown",
   "metadata": {},
   "source": [
    "---\n",
    "<div style=\"text-align: right\"> <font size=5> <a href=\"#indice\"><i class=\"fa fa-arrow-circle-up\" aria-hidden=\"true\" style=\"color:#004D7F\"></i></a></font></div>\n",
    "\n",
    "---"
   ]
  },
  {
   "cell_type": "markdown",
   "metadata": {},
   "source": [
    "<a id=\"section1\"></a>\n",
    "# <font color=\"#004D7F\" size=6>1. Introducción</font>"
   ]
  },
  {
   "cell_type": "markdown",
   "metadata": {},
   "source": [
    "Keras puede guardar la arquitectura de su modelo y guardar los pesos y nuestro modelo. \n",
    "1. Los pesos de los modelos se guardan en formato HDF5. \n",
    "2. El modelo se puede guardar (y cargar) utilizando dos formatos diferentes: JSON y YAML."
   ]
  },
  {
   "cell_type": "markdown",
   "metadata": {},
   "source": [
    "<a id=\"section1.1\"></a>\n",
    "# <font color=\"#004D7F\" size=5>1.1. Formato HDF5</font>"
   ]
  },
  {
   "cell_type": "markdown",
   "metadata": {},
   "source": [
    "El formato de datos jerárquico (HDF5) es un formato de almacenamiento de datos flexible y es conveniente para almacenar grandes conjuntos de valores reales, como tenemos en los pesos de las redes neuronales. Puede instalar este formato con `pip`:"
   ]
  },
  {
   "cell_type": "code",
   "execution_count": 2,
   "metadata": {},
   "outputs": [],
   "source": [
    "#!pip install h5py"
   ]
  },
  {
   "cell_type": "markdown",
   "metadata": {},
   "source": [
    "---\n",
    "<div style=\"text-align: right\"> <font size=5> <a href=\"#indice\"><i class=\"fa fa-arrow-circle-up\" aria-hidden=\"true\" style=\"color:#004D7F\"></i></a></font></div>\n",
    "\n",
    "---"
   ]
  },
  {
   "cell_type": "markdown",
   "metadata": {},
   "source": [
    "<a id=\"section2\"></a>\n",
    "# <font color=\"#004D7F\" size=6>2. Guardar el modelo en JSON</font>"
   ]
  },
  {
   "cell_type": "markdown",
   "metadata": {},
   "source": [
    "Keras brinda la capacidad de describir cualquier modelo usando formato JSON con una función `to_json()`. Posteriormente, podemos cargarlo a través de `model_from_json()`.\n",
    "\n",
    "Los pesos se guardan directamente usando la función `save_weights()` y luego se cargan usando la función `load_weights()`. \n",
    "\n",
    "El siguiente ejemplo entrena y evalúa un modelo. Luego, la estructura del modelo se convierte a formato JSON con `model.json` en el directorio local. Los pesos de la red se escriben en `model.h5`."
   ]
  },
  {
   "cell_type": "code",
   "execution_count": 2,
   "metadata": {},
   "outputs": [
    {
     "name": "stdout",
     "output_type": "stream",
     "text": [
      "accuracy: 75.65%\n",
      "Modelo guardado\n"
     ]
    }
   ],
   "source": [
    "# MLP for Pima Indians Dataset Serialize to JSON and HDF5\n",
    "???\n",
    "\n",
    "# load pima indians dataset\n",
    "???\n",
    "\n",
    "# split into input (X) and output (Y) variables\n",
    "???\n",
    "\n",
    "# create model\n",
    "???\n",
    "\n",
    "# Compile model\n",
    "???\n",
    "\n",
    "# Fit the model\n",
    "???\n",
    "\n",
    "# evaluate the model\n",
    "???\n",
    "\n",
    "# serialize model to JSON\n",
    "???\n",
    "\n",
    "# serialize weights to HDF5\n",
    "???"
   ]
  },
  {
   "cell_type": "code",
   "execution_count": 5,
   "metadata": {
    "scrolled": true
   },
   "outputs": [
    {
     "name": "stdout",
     "output_type": "stream",
     "text": [
      "Modelo cargado\n",
      "accuracy: 75.65%\n"
     ]
    }
   ],
   "source": [
    "# load json and create model\n",
    "???\n",
    "\n",
    "# load weights into new model\n",
    "???\n",
    "\n",
    "# evaluate loaded model on test data\n",
    "???"
   ]
  },
  {
   "cell_type": "markdown",
   "metadata": {},
   "source": [
    "El formato JSON del modelo tiene el siguiente aspecto:"
   ]
  },
  {
   "cell_type": "code",
   "execution_count": 6,
   "metadata": {
    "scrolled": true
   },
   "outputs": [
    {
     "name": "stdout",
     "output_type": "stream",
     "text": [
      "{\r\n",
      "    \"class_name\": \"Sequential\",\r\n",
      "    \"config\": {\r\n",
      "        \"name\": \"sequential\",\r\n",
      "        \"layers\": [\r\n",
      "            {\r\n",
      "                \"class_name\": \"InputLayer\",\r\n",
      "                \"config\": {\r\n",
      "                    \"batch_input_shape\": [\r\n",
      "                        null,\r\n",
      "                        8\r\n",
      "                    ],\r\n",
      "                    \"dtype\": \"float32\",\r\n",
      "                    \"sparse\": false,\r\n",
      "                    \"ragged\": false,\r\n",
      "                    \"name\": \"dense_input\"\r\n",
      "                }\r\n",
      "            },\r\n",
      "            {\r\n",
      "                \"class_name\": \"Dense\",\r\n",
      "                \"config\": {\r\n",
      "                    \"name\": \"dense\",\r\n",
      "                    \"trainable\": true,\r\n",
      "                    \"batch_input_shape\": [\r\n",
      "                        null,\r\n",
      "                        8\r\n",
      "                    ],\r\n",
      "                    \"dtype\": \"float32\",\r\n",
      "                    \"units\": 12,\r\n",
      "                    \"activation\": \"relu\",\r\n",
      "                    \"use_bias\": true,\r\n",
      "                    \"kernel_initializer\": {\r\n",
      "                        \"class_name\": \"GlorotUniform\",\r\n",
      "                        \"config\": {\r\n",
      "                            \"seed\": null\r\n",
      "                        }\r\n",
      "                    },\r\n",
      "                    \"bias_initializer\": {\r\n",
      "                        \"class_name\": \"Zeros\",\r\n",
      "                        \"config\": {}\r\n",
      "                    },\r\n",
      "                    \"kernel_regularizer\": null,\r\n",
      "                    \"bias_regularizer\": null,\r\n",
      "                    \"activity_regularizer\": null,\r\n",
      "                    \"kernel_constraint\": null,\r\n",
      "                    \"bias_constraint\": null\r\n",
      "                }\r\n",
      "            },\r\n",
      "            {\r\n",
      "                \"class_name\": \"Dense\",\r\n",
      "                \"config\": {\r\n",
      "                    \"name\": \"dense_1\",\r\n",
      "                    \"trainable\": true,\r\n",
      "                    \"dtype\": \"float32\",\r\n",
      "                    \"units\": 8,\r\n",
      "                    \"activation\": \"relu\",\r\n",
      "                    \"use_bias\": true,\r\n",
      "                    \"kernel_initializer\": {\r\n",
      "                        \"class_name\": \"GlorotUniform\",\r\n",
      "                        \"config\": {\r\n",
      "                            \"seed\": null\r\n",
      "                        }\r\n",
      "                    },\r\n",
      "                    \"bias_initializer\": {\r\n",
      "                        \"class_name\": \"Zeros\",\r\n",
      "                        \"config\": {}\r\n",
      "                    },\r\n",
      "                    \"kernel_regularizer\": null,\r\n",
      "                    \"bias_regularizer\": null,\r\n",
      "                    \"activity_regularizer\": null,\r\n",
      "                    \"kernel_constraint\": null,\r\n",
      "                    \"bias_constraint\": null\r\n",
      "                }\r\n",
      "            },\r\n",
      "            {\r\n",
      "                \"class_name\": \"Dense\",\r\n",
      "                \"config\": {\r\n",
      "                    \"name\": \"dense_2\",\r\n",
      "                    \"trainable\": true,\r\n",
      "                    \"dtype\": \"float32\",\r\n",
      "                    \"units\": 1,\r\n",
      "                    \"activation\": \"sigmoid\",\r\n",
      "                    \"use_bias\": true,\r\n",
      "                    \"kernel_initializer\": {\r\n",
      "                        \"class_name\": \"GlorotUniform\",\r\n",
      "                        \"config\": {\r\n",
      "                            \"seed\": null\r\n",
      "                        }\r\n",
      "                    },\r\n",
      "                    \"bias_initializer\": {\r\n",
      "                        \"class_name\": \"Zeros\",\r\n",
      "                        \"config\": {}\r\n",
      "                    },\r\n",
      "                    \"kernel_regularizer\": null,\r\n",
      "                    \"bias_regularizer\": null,\r\n",
      "                    \"activity_regularizer\": null,\r\n",
      "                    \"kernel_constraint\": null,\r\n",
      "                    \"bias_constraint\": null\r\n",
      "                }\r\n",
      "            }\r\n",
      "        ]\r\n",
      "    },\r\n",
      "    \"keras_version\": \"2.4.0\",\r\n",
      "    \"backend\": \"tensorflow\"\r\n",
      "}\r\n"
     ]
    }
   ],
   "source": [
    "cat model.json | python -mjson.tool"
   ]
  },
  {
   "cell_type": "markdown",
   "metadata": {},
   "source": [
    "---\n",
    "<div style=\"text-align: right\"> <font size=5> <a href=\"#indice\"><i class=\"fa fa-arrow-circle-up\" aria-hidden=\"true\" style=\"color:#004D7F\"></i></a></font></div>\n",
    "\n",
    "---"
   ]
  },
  {
   "cell_type": "markdown",
   "metadata": {},
   "source": [
    "<a id=\"section3\"></a>\n",
    "# <font color=\"#004D7F\" size=6>3. Guardar el modelo en YAML</font>"
   ]
  },
  {
   "cell_type": "markdown",
   "metadata": {},
   "source": [
    "El modelo se guarda como YAML en el archivo `model.yaml` y luego se carga en un nuevo modelo a través de la función `model_from_yaml()`. \n",
    "\n",
    "Los pesos se manejan de la misma manera en formato HDF5, `model.h5`."
   ]
  },
  {
   "cell_type": "code",
   "execution_count": 10,
   "metadata": {},
   "outputs": [
    {
     "name": "stdout",
     "output_type": "stream",
     "text": [
      "accuracy: 77.60%\n",
      "Modelo guardado\n"
     ]
    }
   ],
   "source": [
    "# MLP for Pima Indians Dataset Serialize to JSON and HDF5\n",
    "???\n",
    "\n",
    "# load pima indians dataset\n",
    "???\n",
    "\n",
    "# split into input (X) and output (Y) variables\n",
    "???\n",
    "\n",
    "# create model\n",
    "???\n",
    "\n",
    "# Compile model\n",
    "???\n",
    "\n",
    "# Fit the model\n",
    "???\n",
    "\n",
    "# evaluate the model\n",
    "???\n",
    "\n",
    "# serialize model to JSON\n",
    "???\n",
    "\n",
    "# serialize weights to HDF5\n",
    "???"
   ]
  },
  {
   "cell_type": "code",
   "execution_count": 19,
   "metadata": {},
   "outputs": [
    {
     "name": "stdout",
     "output_type": "stream",
     "text": [
      "Modelo cargado\n",
      "accuracy: 77.60%\n"
     ]
    }
   ],
   "source": [
    "# load YAML and create model\n",
    "???\n",
    "\n",
    "# load weights into new model\n",
    "???\n",
    "\n",
    "# evaluate loaded model on test data\n",
    "???"
   ]
  },
  {
   "cell_type": "markdown",
   "metadata": {},
   "source": [
    "El modelo descrito en formato YAML tiene el siguiente aspecto:"
   ]
  },
  {
   "cell_type": "code",
   "execution_count": 20,
   "metadata": {
    "scrolled": true
   },
   "outputs": [
    {
     "name": "stdout",
     "output_type": "stream",
     "text": [
      "backend: tensorflow\n",
      "class_name: Sequential\n",
      "config:\n",
      "  layers:\n",
      "  - class_name: InputLayer\n",
      "    config:\n",
      "      batch_input_shape: !!python/tuple\n",
      "      - null\n",
      "      - 8\n",
      "      dtype: float32\n",
      "      name: dense_6_input\n",
      "      ragged: false\n",
      "      sparse: false\n",
      "  - class_name: Dense\n",
      "    config:\n",
      "      activation: relu\n",
      "      activity_regularizer: null\n",
      "      batch_input_shape: !!python/tuple\n",
      "      - null\n",
      "      - 8\n",
      "      bias_constraint: null\n",
      "      bias_initializer:\n",
      "        class_name: Zeros\n",
      "        config: {}\n",
      "      bias_regularizer: null\n",
      "      dtype: float32\n",
      "      kernel_constraint: null\n",
      "      kernel_initializer:\n",
      "        class_name: GlorotUniform\n",
      "        config:\n",
      "          seed: null\n",
      "      kernel_regularizer: null\n",
      "      name: dense_6\n",
      "      trainable: true\n",
      "      units: 12\n",
      "      use_bias: true\n",
      "  - class_name: Dense\n",
      "    config:\n",
      "      activation: relu\n",
      "      activity_regularizer: null\n",
      "      bias_constraint: null\n",
      "      bias_initializer:\n",
      "        class_name: Zeros\n",
      "        config: {}\n",
      "      bias_regularizer: null\n",
      "      dtype: float32\n",
      "      kernel_constraint: null\n",
      "      kernel_initializer:\n",
      "        class_name: GlorotUniform\n",
      "        config:\n",
      "          seed: null\n",
      "      kernel_regularizer: null\n",
      "      name: dense_7\n",
      "      trainable: true\n",
      "      units: 8\n",
      "      use_bias: true\n",
      "  - class_name: Dense\n",
      "    config:\n",
      "      activation: sigmoid\n",
      "      activity_regularizer: null\n",
      "      bias_constraint: null\n",
      "      bias_initializer:\n",
      "        class_name: Zeros\n",
      "        config: {}\n",
      "      bias_regularizer: null\n",
      "      dtype: float32\n",
      "      kernel_constraint: null\n",
      "      kernel_initializer:\n",
      "        class_name: GlorotUniform\n",
      "        config:\n",
      "          seed: null\n",
      "      kernel_regularizer: null\n",
      "      name: dense_8\n",
      "      trainable: true\n",
      "      units: 1\n",
      "      use_bias: true\n",
      "  name: sequential_2\n",
      "keras_version: 2.4.0\n",
      "\n"
     ]
    }
   ],
   "source": [
    "print(loaded_model_yaml)"
   ]
  },
  {
   "cell_type": "markdown",
   "metadata": {},
   "source": [
    "<a id=\"section4\"></a>\n",
    "# <font color=\"#004D7F\" size=6>4. Guardar topología y pesos</font>"
   ]
  },
  {
   "cell_type": "markdown",
   "metadata": {},
   "source": [
    "Guardar el modelo incluye todo sobre el modelo, que incluye:\n",
    "* Pesos.\n",
    "* Arquitectura.\n",
    "* Detalles de compilación del modelo (pérdidas y métricas).\n",
    "* Estado del optimizador de modelo.\n",
    "\n",
    "Esto significa que podemos cargar y usar el modelo directamente."
   ]
  },
  {
   "cell_type": "markdown",
   "metadata": {},
   "source": [
    "<a id=\"section4.1\"></a>\n",
    "# <font color=\"#004D7F\" size=5>4.1. Guardar el modelo</font>"
   ]
  },
  {
   "cell_type": "markdown",
   "metadata": {},
   "source": [
    "La función `save()` guarda el modelo especificando el nombre del archivo. \n",
    "\n",
    "El ejemplo muestra como ajustar un modelo, evaluarlo y guardarlo en el archivo `model.h5`."
   ]
  },
  {
   "cell_type": "code",
   "execution_count": 21,
   "metadata": {},
   "outputs": [
    {
     "name": "stdout",
     "output_type": "stream",
     "text": [
      "accuracy: 75.13%\n"
     ]
    }
   ],
   "source": [
    "# MLP for Pima Indians Dataset saved to single file\n",
    "???\n",
    "\n",
    "# load pima indians dataset\n",
    "???\n",
    "\n",
    "# split into input (X) and output (Y) variables\n",
    "???\n",
    "\n",
    "# create model\n",
    "???\n",
    "\n",
    "# Compile model\n",
    "???\n",
    "\n",
    "# Fit the model\n",
    "???\n",
    "\n",
    "# evaluate the model\n",
    "???"
   ]
  },
  {
   "cell_type": "code",
   "execution_count": 22,
   "metadata": {},
   "outputs": [
    {
     "name": "stdout",
     "output_type": "stream",
     "text": [
      "Modelo guardado\n"
     ]
    }
   ],
   "source": [
    "# save model and architecture to single file\n",
    "???"
   ]
  },
  {
   "cell_type": "markdown",
   "metadata": {},
   "source": [
    "<a id=\"section4.2\"></a>\n",
    "# <font color=\"#004D7F\" size=5>4.2. Cargar el modelo</font>"
   ]
  },
  {
   "cell_type": "markdown",
   "metadata": {},
   "source": [
    "Su modelo guardado se puede cargar más tarde llamando a la función `load_model()` y pasando el nombre del archivo. La función devuelve el modelo con la misma arquitectura y pesos. En este caso, cargamos el modelo, resumimos la arquitectura y la evaluamos en el mismo conjunto de datos para confirmar que los pesos y la arquitectura son los mismos."
   ]
  },
  {
   "cell_type": "code",
   "execution_count": 23,
   "metadata": {
    "scrolled": true
   },
   "outputs": [
    {
     "name": "stdout",
     "output_type": "stream",
     "text": [
      "Model: \"sequential_3\"\n",
      "_________________________________________________________________\n",
      "Layer (type)                 Output Shape              Param #   \n",
      "=================================================================\n",
      "dense_9 (Dense)              (None, 12)                108       \n",
      "_________________________________________________________________\n",
      "dense_10 (Dense)             (None, 8)                 104       \n",
      "_________________________________________________________________\n",
      "dense_11 (Dense)             (None, 1)                 9         \n",
      "=================================================================\n",
      "Total params: 221\n",
      "Trainable params: 221\n",
      "Non-trainable params: 0\n",
      "_________________________________________________________________\n"
     ]
    }
   ],
   "source": [
    "# load and evaluate a saved model\n",
    "???\n",
    "\n",
    "# load model\n",
    "???\n",
    "\n",
    "# summarize model.\n",
    "???"
   ]
  },
  {
   "cell_type": "code",
   "execution_count": 26,
   "metadata": {
    "scrolled": true
   },
   "outputs": [
    {
     "name": "stdout",
     "output_type": "stream",
     "text": [
      "accuracy: 75.13%\n"
     ]
    }
   ],
   "source": [
    "# load dataset\n",
    "???\n",
    "\n",
    "# split into input (X) and output (Y) variables\n",
    "???\n",
    "\n",
    "# evaluate the model\n",
    "???"
   ]
  },
  {
   "cell_type": "markdown",
   "metadata": {},
   "source": [
    "<div style=\"text-align: right\"> <font size=5> <a href=\"#indice\"><i class=\"fa fa-arrow-circle-up\" aria-hidden=\"true\" style=\"color:#004D7F\"></i></a></font></div>\n",
    "\n",
    "---\n",
    "\n",
    "<div style=\"text-align: right\"> <font size=6><i class=\"fa fa-coffee\" aria-hidden=\"true\" style=\"color:#004D7F\"></i> </font></div>"
   ]
  }
 ],
 "metadata": {
  "kernelspec": {
   "display_name": "Python 3",
   "language": "python",
   "name": "python3"
  },
  "language_info": {
   "codemirror_mode": {
    "name": "ipython",
    "version": 3
   },
   "file_extension": ".py",
   "mimetype": "text/x-python",
   "name": "python",
   "nbconvert_exporter": "python",
   "pygments_lexer": "ipython3",
   "version": "3.6.9"
  }
 },
 "nbformat": 4,
 "nbformat_minor": 2
}
