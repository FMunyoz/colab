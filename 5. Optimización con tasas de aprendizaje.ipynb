{
  "nbformat": 4,
  "nbformat_minor": 0,
  "metadata": {
    "kernelspec": {
      "display_name": "Python 3",
      "language": "python",
      "name": "python3"
    },
    "language_info": {
      "codemirror_mode": {
        "name": "ipython",
        "version": 3
      },
      "file_extension": ".py",
      "mimetype": "text/x-python",
      "name": "python",
      "nbconvert_exporter": "python",
      "pygments_lexer": "ipython3",
      "version": "3.6.9"
    },
    "colab": {
      "name": "5. Optimización con tasas de aprendizaje.ipynb",
      "provenance": []
    }
  },
  "cells": [
    {
      "cell_type": "markdown",
      "metadata": {
        "id": "1zY-7KfZI_pU"
      },
      "source": [
        "<h1><font color=\"#113D68\" size=6>Deep Learning con Python y Keras</font></h1>\n",
        "\n",
        "<h1><font color=\"#113D68\" size=5>Parte 4. MLP avanzado</font></h1>\n",
        "\n",
        "<h1><font color=\"#113D68\" size=4>5. Optimización con tasas de aprendizaje</font></h1>\n",
        "\n",
        "<br><br>\n",
        "<div style=\"text-align: right\">\n",
        "<font color=\"#113D68\" size=3>Manuel Castillo Cara</font><br>\n",
        "\n",
        "</div>"
      ]
    },
    {
      "cell_type": "markdown",
      "metadata": {
        "id": "0qp68hoNI_pW"
      },
      "source": [
        "---\n",
        "\n",
        "<a id=\"indice\"></a>\n",
        "<h2><font color=\"#004D7F\" size=5>Índice</font></h2>\n",
        "\n",
        "* [0. Contexto](#section0)\n",
        "* [1. Introducción](#section1)\n",
        "* [2. Dataset Ionosphera](#section2)\n",
        "* [3. Tasa de aprendizaje basada en el tiempo](#section3)\n",
        "* [4. Tasa de aprendizaje basada en caídas (drop)](#section4)\n",
        "* [5. Consejos al utilizar la planificación de aprendizaje](#section5)"
      ]
    },
    {
      "cell_type": "markdown",
      "metadata": {
        "id": "90teF2RfI_pW"
      },
      "source": [
        "---\n",
        "<a id=\"section0\"></a>\n",
        "# <font color=\"#004D7F\" size=6> 0. Contexto</font>"
      ]
    },
    {
      "cell_type": "markdown",
      "metadata": {
        "id": "WjTtIVF2I_pX"
      },
      "source": [
        "En esta lección, aprenderemos a usar una programación con diferentes de tasas de aprendizaje. Después de completar esta lección, sabrá:\n",
        "* El beneficio de programar tasas de aprendizaje.\n",
        "* Cómo configurar y evaluar una tasa de aprendizaje basada en el tiempo.\n",
        "* Cómo configurar y evaluar una tasa de aprendizaje basado en _drop._"
      ]
    },
    {
      "cell_type": "code",
      "metadata": {
        "id": "h1XcsWxJI_pX"
      },
      "source": [
        "import tensorflow as tf\n",
        "# Eliminar warning\n",
        "tf.compat.v1.logging.set_verbosity(tf.compat.v1.logging.ERROR)"
      ],
      "execution_count": 1,
      "outputs": []
    },
    {
      "cell_type": "markdown",
      "metadata": {
        "id": "UY3bwt6TI_pY"
      },
      "source": [
        "---\n",
        "<div style=\"text-align: right\"> <font size=5> <a href=\"#indice\"><i class=\"fa fa-arrow-circle-up\" aria-hidden=\"true\" style=\"color:#004D7F\"></i></a></font></div>\n",
        "\n",
        "---"
      ]
    },
    {
      "cell_type": "markdown",
      "metadata": {
        "id": "aWfdOCcGI_pY"
      },
      "source": [
        "<a id=\"section1\"></a>\n",
        "# <font color=\"#004D7F\" size=6>1. Introducción</font>"
      ]
    },
    {
      "cell_type": "markdown",
      "metadata": {
        "id": "lnO0gKW7I_pZ"
      },
      "source": [
        "La adaptación más simple y quizás más utilizada de las tasas de aprendizaje durante el entrenamiento son las técnicas que reducen la tasa de aprendizaje con el tiempo. Estos tienen la ventaja de realizar grandes cambios al comienzo del procedimiento de entrenamiento cuando se utilizan valores de tasa de aprendizaje más grandes, y disminuyen la tasa de aprendizaje de manera que se realicen una tasa menor y, por lo tanto, actualizaciones de entrenamiento más pequeñas a los pesos más adelante en el procedimiento de entrenamiento. \n",
        "\n",
        "Dos planificaciones de tasas de aprendizaje populares son:\n",
        "* Disminución de la tasa de aprendizaje gradualmente según la época.\n",
        "* Disminución de la tasa de aprendizaje usando grandes drops en épocas específicas."
      ]
    },
    {
      "cell_type": "markdown",
      "metadata": {
        "id": "7nmdGRtDI_pa"
      },
      "source": [
        "---\n",
        "<div style=\"text-align: right\"> <font size=5> <a href=\"#indice\"><i class=\"fa fa-arrow-circle-up\" aria-hidden=\"true\" style=\"color:#004D7F\"></i></a></font></div>\n",
        "\n",
        "---"
      ]
    },
    {
      "cell_type": "markdown",
      "metadata": {
        "id": "UQl_fynnI_pa"
      },
      "source": [
        "<a id=\"section2\"></a>\n",
        "# <font color=\"#004D7F\" size=6>2. Dataset Ionosphera</font>"
      ]
    },
    {
      "cell_type": "markdown",
      "metadata": {
        "id": "tWQYspJZI_pb"
      },
      "source": [
        "Es un problema de clasificación binaria donde los casos positivos _(g_ para el bien) muestran evidencia de algún tipo de estructura en la ionosfera y los casos negativos _(b_ para el mal) no. \n",
        "\n",
        "Hay 34 atributos y 351 observaciones."
      ]
    },
    {
      "cell_type": "markdown",
      "metadata": {
        "id": "nT2yY7MnI_pb"
      },
      "source": [
        "<div class=\"alert alert-block alert-info\">\n",
        "    \n",
        "<i class=\"fa fa-info-circle\" aria-hidden=\"true\"></i>\n",
        "Más información sobre el dataset [Ionosphere](https://archive.ics.uci.edu/ml/datasets/Ionosphere)"
      ]
    },
    {
      "cell_type": "markdown",
      "metadata": {
        "id": "8VcazuFyI_pb"
      },
      "source": [
        "---\n",
        "<div style=\"text-align: right\"> <font size=5> <a href=\"#indice\"><i class=\"fa fa-arrow-circle-up\" aria-hidden=\"true\" style=\"color:#004D7F\"></i></a></font></div>\n",
        "\n",
        "---"
      ]
    },
    {
      "cell_type": "markdown",
      "metadata": {
        "id": "SUETuxH3I_pc"
      },
      "source": [
        "<a id=\"section3\"></a>\n",
        "# <font color=\"#004D7F\" size=6>3. Tasa de aprendizaje basada en el tiempo</font>"
      ]
    },
    {
      "cell_type": "markdown",
      "metadata": {
        "id": "DnbJzN2MI_pc"
      },
      "source": [
        "El algoritmo de optimización `SGD` tiene un argumento llamado `decay`. Este argumento se utiliza de la siguiente manera:\n",
        "\n",
        "$$\n",
        "    LearningRate = LearningRate \\times \\frac{1}{1+decay \\times epoch}\n",
        "$$\n",
        "\n",
        "Cuando el argumento de `decay` es cero (el valor predeterminado), esto no tiene ningún efecto en la tasa de aprendizaje (por ejemplo, 0,1).\n",
        "\n",
        "```\n",
        "    LearningRate = (0.1 * 1)/(1 + 0.0 * 1)\n",
        "    LearningRate = 0.1\n",
        "```\n",
        "\n",
        "Cuando se especifica el argumento `decay`, disminuirá la tasa de aprendizaje de la época anterior en la cantidad fija dada. Por ejemplo, si usamos el valor de la tasa de aprendizaje inicial de 0.1 y la decay de 0.001, las primeras 5 épocas adaptarán la tasa de aprendizaje de la siguiente manera:\n",
        "```\n",
        "    Epoch Learning Rate\n",
        "      1    0.1\n",
        "      2    0.0999000999\n",
        "      3    0.0997006985\n",
        "      4    0.09940249103\n",
        "      5    0.09900646517\n",
        "\n",
        "```\n",
        "\n",
        "Extender esto a 100 épocas producirá el siguiente gráfico de tasa de aprendizaje (eje y) versus época (eje x):\n",
        "\n",
        "<img src=\"https://github.com/FMunyoz/colab/blob/main/images/learningRate.png?raw=1\" width=\"350\" height=\"350\" />\n",
        "\n",
        "Puede crear una buena planificación predeterminada configurando el valor de `decay` de la siguiente manera:\n",
        "```\n",
        "    Decay = LearningRate / Epochs\n",
        "    Decay = 0.1 / 100\n",
        "    Decay = 0.001\n",
        "```"
      ]
    },
    {
      "cell_type": "markdown",
      "metadata": {
        "id": "tcD4XcIXI_pc"
      },
      "source": [
        "Veamos un ejemplo en un modelo con las siguientes características \n",
        "1. Red neuronal con 1 capa oculta con 34 neuronas y utilizando la función de activación ReLu. \n",
        "2. La capa de salida tiene una sola neurona y usa la función de activación sigmoidea. \n",
        "3. La tasa de aprendizaje para el `SGD` se ha establecido en un valor más alto de 0,1. \n",
        "4. Entrenamiento para 50 épocas y el argumento `decay` se ha establecido en 0,002, calculado como $\\frac{0.1}{50}$. \n",
        "6. Usamos un `momentum` de 0.8. "
      ]
    },
    {
      "cell_type": "code",
      "metadata": {
        "scrolled": true,
        "colab": {
          "base_uri": "https://localhost:8080/"
        },
        "id": "q5kHwe17I_pd",
        "outputId": "2e663c22-3528-48d1-bc93-e3cea6aa2e27"
      },
      "source": [
        "# Time Based Learning Rate Decay\n",
        "from keras.models import Sequential\n",
        "from keras.layers import Dense\n",
        "import pandas as pd\n",
        "from keras.optimizers import SGD\n",
        "from sklearn.preprocessing import LabelEncoder\n",
        "\n",
        "\n",
        "# load dataset\n",
        "df = pd.read_csv(\"https://raw.githubusercontent.com/FMunyoz/colab/main/Datasets/ionosphere.csv\", header=None)\n",
        "df_values = df.values\n",
        "\n",
        "# split into input (X) and output (Y) variables\n",
        "X = df_values[:, 0:34].astype(float)\n",
        "y = df_values[:, 34]\n",
        "\n",
        "# encode class values as integers\n",
        "encoder = LabelEncoder()\n",
        "encoder.fit(y)\n",
        "y = encoder.transform(y)\n",
        "\n",
        "# create model\n",
        "model = Sequential()\n",
        "model.add(Dense(34, input_dim=34, activation='relu'))\n",
        "model.add(Dense(1, activation='sigmoid'))\n",
        "\n",
        "\n",
        "# Compile model\n",
        "epoch = 50\n",
        "lr = 0.1\n",
        "decay_rate = lr/epoch\n",
        "momentum = 0.8\n",
        "\n",
        "sgd = SGD(learning_rate=lr, momentum=momentum, decay=decay_rate, nesterov=False)\n",
        "model.compile(loss='binary_crossentropy', optimizer=sgd, metrics=['accuracy'])\n",
        "\n",
        "# Fit the model\n",
        "model.fit(X, y, validation_split=0.33, epochs = epoch, batch_size=28, verbose=2)\n"
      ],
      "execution_count": 4,
      "outputs": [
        {
          "output_type": "stream",
          "text": [
            "Epoch 1/50\n",
            "9/9 - 16s - loss: 0.7232 - accuracy: 0.5404 - val_loss: 0.6042 - val_accuracy: 0.6983\n",
            "Epoch 2/50\n",
            "9/9 - 0s - loss: 0.4694 - accuracy: 0.8298 - val_loss: 0.3612 - val_accuracy: 0.8793\n",
            "Epoch 3/50\n",
            "9/9 - 0s - loss: 0.3443 - accuracy: 0.8766 - val_loss: 0.3090 - val_accuracy: 0.9397\n",
            "Epoch 4/50\n",
            "9/9 - 0s - loss: 0.2835 - accuracy: 0.9021 - val_loss: 0.2974 - val_accuracy: 0.9224\n",
            "Epoch 5/50\n",
            "9/9 - 0s - loss: 0.2232 - accuracy: 0.9362 - val_loss: 0.1379 - val_accuracy: 0.9741\n",
            "Epoch 6/50\n",
            "9/9 - 0s - loss: 0.2001 - accuracy: 0.9404 - val_loss: 0.1614 - val_accuracy: 0.9828\n",
            "Epoch 7/50\n",
            "9/9 - 0s - loss: 0.1743 - accuracy: 0.9447 - val_loss: 0.1795 - val_accuracy: 0.9741\n",
            "Epoch 8/50\n",
            "9/9 - 0s - loss: 0.1606 - accuracy: 0.9404 - val_loss: 0.1655 - val_accuracy: 0.9741\n",
            "Epoch 9/50\n",
            "9/9 - 0s - loss: 0.1445 - accuracy: 0.9574 - val_loss: 0.1504 - val_accuracy: 0.9828\n",
            "Epoch 10/50\n",
            "9/9 - 0s - loss: 0.1374 - accuracy: 0.9574 - val_loss: 0.1061 - val_accuracy: 0.9828\n",
            "Epoch 11/50\n",
            "9/9 - 0s - loss: 0.1336 - accuracy: 0.9574 - val_loss: 0.1431 - val_accuracy: 0.9828\n",
            "Epoch 12/50\n",
            "9/9 - 0s - loss: 0.1251 - accuracy: 0.9660 - val_loss: 0.1247 - val_accuracy: 0.9828\n",
            "Epoch 13/50\n",
            "9/9 - 0s - loss: 0.1116 - accuracy: 0.9660 - val_loss: 0.1079 - val_accuracy: 0.9828\n",
            "Epoch 14/50\n",
            "9/9 - 0s - loss: 0.1081 - accuracy: 0.9702 - val_loss: 0.1102 - val_accuracy: 0.9828\n",
            "Epoch 15/50\n",
            "9/9 - 0s - loss: 0.1029 - accuracy: 0.9787 - val_loss: 0.1184 - val_accuracy: 0.9914\n",
            "Epoch 16/50\n",
            "9/9 - 0s - loss: 0.0977 - accuracy: 0.9702 - val_loss: 0.0790 - val_accuracy: 0.9828\n",
            "Epoch 17/50\n",
            "9/9 - 0s - loss: 0.0954 - accuracy: 0.9745 - val_loss: 0.1402 - val_accuracy: 0.9914\n",
            "Epoch 18/50\n",
            "9/9 - 0s - loss: 0.0980 - accuracy: 0.9702 - val_loss: 0.0668 - val_accuracy: 0.9914\n",
            "Epoch 19/50\n",
            "9/9 - 0s - loss: 0.0948 - accuracy: 0.9702 - val_loss: 0.1160 - val_accuracy: 0.9914\n",
            "Epoch 20/50\n",
            "9/9 - 0s - loss: 0.0841 - accuracy: 0.9787 - val_loss: 0.0817 - val_accuracy: 0.9914\n",
            "Epoch 21/50\n",
            "9/9 - 0s - loss: 0.0844 - accuracy: 0.9745 - val_loss: 0.0884 - val_accuracy: 0.9914\n",
            "Epoch 22/50\n",
            "9/9 - 0s - loss: 0.0837 - accuracy: 0.9702 - val_loss: 0.1099 - val_accuracy: 0.9914\n",
            "Epoch 23/50\n",
            "9/9 - 0s - loss: 0.0797 - accuracy: 0.9702 - val_loss: 0.0654 - val_accuracy: 0.9914\n",
            "Epoch 24/50\n",
            "9/9 - 0s - loss: 0.0769 - accuracy: 0.9787 - val_loss: 0.1065 - val_accuracy: 0.9914\n",
            "Epoch 25/50\n",
            "9/9 - 0s - loss: 0.0738 - accuracy: 0.9745 - val_loss: 0.0655 - val_accuracy: 0.9828\n",
            "Epoch 26/50\n",
            "9/9 - 0s - loss: 0.0717 - accuracy: 0.9787 - val_loss: 0.0793 - val_accuracy: 0.9914\n",
            "Epoch 27/50\n",
            "9/9 - 0s - loss: 0.0667 - accuracy: 0.9830 - val_loss: 0.0754 - val_accuracy: 0.9914\n",
            "Epoch 28/50\n",
            "9/9 - 0s - loss: 0.0659 - accuracy: 0.9787 - val_loss: 0.0782 - val_accuracy: 0.9914\n",
            "Epoch 29/50\n",
            "9/9 - 0s - loss: 0.0670 - accuracy: 0.9787 - val_loss: 0.0650 - val_accuracy: 0.9914\n",
            "Epoch 30/50\n",
            "9/9 - 0s - loss: 0.0642 - accuracy: 0.9830 - val_loss: 0.0675 - val_accuracy: 0.9914\n",
            "Epoch 31/50\n",
            "9/9 - 0s - loss: 0.0663 - accuracy: 0.9830 - val_loss: 0.0856 - val_accuracy: 0.9914\n",
            "Epoch 32/50\n",
            "9/9 - 0s - loss: 0.0591 - accuracy: 0.9830 - val_loss: 0.0731 - val_accuracy: 0.9914\n",
            "Epoch 33/50\n",
            "9/9 - 0s - loss: 0.0636 - accuracy: 0.9830 - val_loss: 0.0545 - val_accuracy: 0.9828\n",
            "Epoch 34/50\n",
            "9/9 - 0s - loss: 0.0614 - accuracy: 0.9872 - val_loss: 0.0758 - val_accuracy: 0.9914\n",
            "Epoch 35/50\n",
            "9/9 - 0s - loss: 0.0556 - accuracy: 0.9872 - val_loss: 0.0699 - val_accuracy: 0.9914\n",
            "Epoch 36/50\n",
            "9/9 - 0s - loss: 0.0536 - accuracy: 0.9830 - val_loss: 0.0710 - val_accuracy: 0.9914\n",
            "Epoch 37/50\n",
            "9/9 - 0s - loss: 0.0534 - accuracy: 0.9872 - val_loss: 0.0642 - val_accuracy: 0.9914\n",
            "Epoch 38/50\n",
            "9/9 - 0s - loss: 0.0515 - accuracy: 0.9830 - val_loss: 0.0651 - val_accuracy: 0.9914\n",
            "Epoch 39/50\n",
            "9/9 - 0s - loss: 0.0507 - accuracy: 0.9830 - val_loss: 0.0714 - val_accuracy: 0.9914\n",
            "Epoch 40/50\n",
            "9/9 - 0s - loss: 0.0497 - accuracy: 0.9830 - val_loss: 0.0673 - val_accuracy: 0.9914\n",
            "Epoch 41/50\n",
            "9/9 - 0s - loss: 0.0507 - accuracy: 0.9872 - val_loss: 0.0693 - val_accuracy: 0.9914\n",
            "Epoch 42/50\n",
            "9/9 - 0s - loss: 0.0493 - accuracy: 0.9872 - val_loss: 0.0688 - val_accuracy: 0.9914\n",
            "Epoch 43/50\n",
            "9/9 - 0s - loss: 0.0483 - accuracy: 0.9915 - val_loss: 0.0612 - val_accuracy: 0.9914\n",
            "Epoch 44/50\n",
            "9/9 - 0s - loss: 0.0503 - accuracy: 0.9830 - val_loss: 0.0695 - val_accuracy: 0.9914\n",
            "Epoch 45/50\n",
            "9/9 - 0s - loss: 0.0475 - accuracy: 0.9915 - val_loss: 0.0660 - val_accuracy: 0.9914\n",
            "Epoch 46/50\n",
            "9/9 - 0s - loss: 0.0450 - accuracy: 0.9872 - val_loss: 0.0601 - val_accuracy: 0.9914\n",
            "Epoch 47/50\n",
            "9/9 - 0s - loss: 0.0453 - accuracy: 0.9872 - val_loss: 0.0603 - val_accuracy: 0.9914\n",
            "Epoch 48/50\n",
            "9/9 - 0s - loss: 0.0446 - accuracy: 0.9872 - val_loss: 0.0641 - val_accuracy: 0.9914\n",
            "Epoch 49/50\n",
            "9/9 - 0s - loss: 0.0449 - accuracy: 0.9915 - val_loss: 0.0598 - val_accuracy: 0.9914\n",
            "Epoch 50/50\n",
            "9/9 - 0s - loss: 0.0442 - accuracy: 0.9872 - val_loss: 0.0648 - val_accuracy: 0.9914\n"
          ],
          "name": "stdout"
        },
        {
          "output_type": "execute_result",
          "data": {
            "text/plain": [
              "<keras.callbacks.History at 0x7fdc632d5710>"
            ]
          },
          "metadata": {
            "tags": []
          },
          "execution_count": 4
        }
      ]
    },
    {
      "cell_type": "markdown",
      "metadata": {
        "id": "cL_tDhmLI_pe"
      },
      "source": [
        "<a id=\"section4\"></a>\n",
        "# <font color=\"#004D7F\" size=6>4. Tasa de aprendizaje basada en caídas (drop)</font>"
      ]
    },
    {
      "cell_type": "markdown",
      "metadata": {
        "id": "3vT4Y7m0I_pe"
      },
      "source": [
        "A menudo, este método se implementa reduciendo la tasa de aprendizaje a la mitad cada número fijo de épocas. \n",
        "\n",
        "Por ejemplo, podemos tener una tasa de aprendizaje inicial de 0,1 y reducirla en un factor de 0,5 cada 10 épocas. Las primeras 10 épocas de entrenamiento usarían un valor de 0.1, en las siguientes 10 épocas se usaría una tasa de aprendizaje de 0.05, y así sucesivamente. \n",
        "\n",
        "El gráfico quedaría así con tasa de aprendizaje (eje y) frente a la época (eje x).\n",
        "\n",
        "<img src=\"https://github.com/FMunyoz/colab/blob/main/images/learningRate2.png?raw=1\" width=\"350\" height=\"350\" />\n",
        "\n",
        "Podemos implementar esto en Keras usando la llamada (callback) `LearningRateScheduler` al ajustar el modelo. `LearningRateScheduler` nos permite definir una función para llamar que toma el número de época como argumento y devuelve la tasa de aprendizaje para usar en el SGD.\n",
        "\n",
        "En el siguiente código, usamos el mismo ejemplo que antes de una sola red de capa oculta. Se define una nueva función `step_decay()` que implementa la ecuación:\n",
        "\n",
        "$$\n",
        "    LearningRate = InitialLearningRate \\times DropRate^{floor(\\frac{1+ Epoch }{EpochDrop})}\n",
        "$$\n",
        "\n",
        "Donde:\n",
        "* `InitialLearningRate` es la tasa de aprendizaje al comienzo de la ejecución \n",
        "* `EpochDrop` es la frecuencia con la que se reduce la tasa de aprendizaje en épocas y \n",
        "* `DropRate` es cuánto se reduce la tasa de aprendizaje cada vez que se elimina."
      ]
    },
    {
      "cell_type": "code",
      "metadata": {
        "scrolled": true,
        "colab": {
          "base_uri": "https://localhost:8080/"
        },
        "id": "WpP5_ddQI_pe",
        "outputId": "3826fad0-9b97-4afa-f361-7235d23ac477"
      },
      "source": [
        "# Drop-Based Learning Rate Decay\n",
        "from keras.models import Sequential\n",
        "from keras.layers import Dense\n",
        "import pandas as pd\n",
        "import math as mth\n",
        "from keras.optimizers import SGD\n",
        "from sklearn.preprocessing import LabelEncoder\n",
        "from keras.callbacks import LearningRateScheduler\n",
        "\n",
        "# Planificar tasa de aprendizaje\n",
        "def step_decay(epoch):\n",
        "  initial_lrate = 0.1\n",
        "  drop = 0.5\n",
        "  epochs_drop = 10\n",
        "  lrate = initial_lrate * mth.pow(drop, mth.floor(1 + epoch)/epochs_drop)\n",
        "  return lrate\n",
        "\n",
        "# load dataset\n",
        "df = pd.read_csv(\"https://raw.githubusercontent.com/FMunyoz/colab/main/Datasets/ionosphere.csv\", header=None)\n",
        "df_values = df.values\n",
        "\n",
        "# split into input (X) and output (Y) variables\n",
        "X = df_values[:, 0:34].astype(float)\n",
        "y = df_values[:, 34]\n",
        "\n",
        "# encode class values as integers\n",
        "encoder = LabelEncoder()\n",
        "encoder.fit(y)\n",
        "y = encoder.transform(y)\n",
        "\n",
        "# create model\n",
        "model = Sequential()\n",
        "model.add(Dense(34, input_dim=34, activation='relu'))\n",
        "model.add(Dense(1, activation='sigmoid'))\n",
        "\n",
        "\n",
        "# Compile model\n",
        "\n",
        "sgd = SGD(learning_rate=lr, momentum=momentum, decay=decay_rate, nesterov=False)\n",
        "model.compile(loss='binary_crossentropy', optimizer=sgd, metrics=['accuracy'])\n",
        "\n",
        "# learning schedule callback\n",
        "lrate = LearningRateScheduler(step_decay)\n",
        "callback_list = [lrate]\n",
        "\n",
        "# Fit the model\n",
        "model.fit(X, y, validation_split=0.33, epochs = 50, batch_size=28, callbacks = callback_list, verbose=2)\n"
      ],
      "execution_count": 5,
      "outputs": [
        {
          "output_type": "stream",
          "text": [
            "Epoch 1/50\n",
            "9/9 - 1s - loss: 0.7514 - accuracy: 0.5957 - val_loss: 0.4798 - val_accuracy: 0.8793\n",
            "Epoch 2/50\n",
            "9/9 - 0s - loss: 0.5039 - accuracy: 0.8170 - val_loss: 0.4662 - val_accuracy: 0.9397\n",
            "Epoch 3/50\n",
            "9/9 - 0s - loss: 0.3828 - accuracy: 0.8809 - val_loss: 0.2437 - val_accuracy: 0.9655\n",
            "Epoch 4/50\n",
            "9/9 - 0s - loss: 0.3119 - accuracy: 0.8851 - val_loss: 0.2931 - val_accuracy: 0.9655\n",
            "Epoch 5/50\n",
            "9/9 - 0s - loss: 0.2742 - accuracy: 0.9064 - val_loss: 0.2563 - val_accuracy: 0.9569\n",
            "Epoch 6/50\n",
            "9/9 - 0s - loss: 0.2393 - accuracy: 0.9149 - val_loss: 0.1798 - val_accuracy: 0.9655\n",
            "Epoch 7/50\n",
            "9/9 - 0s - loss: 0.2159 - accuracy: 0.9319 - val_loss: 0.1758 - val_accuracy: 0.9655\n",
            "Epoch 8/50\n",
            "9/9 - 0s - loss: 0.1988 - accuracy: 0.9319 - val_loss: 0.2120 - val_accuracy: 0.9655\n",
            "Epoch 9/50\n",
            "9/9 - 0s - loss: 0.1893 - accuracy: 0.9362 - val_loss: 0.1332 - val_accuracy: 0.9655\n",
            "Epoch 10/50\n",
            "9/9 - 0s - loss: 0.1796 - accuracy: 0.9362 - val_loss: 0.1672 - val_accuracy: 0.9741\n",
            "Epoch 11/50\n",
            "9/9 - 0s - loss: 0.1694 - accuracy: 0.9489 - val_loss: 0.1701 - val_accuracy: 0.9655\n",
            "Epoch 12/50\n",
            "9/9 - 0s - loss: 0.1772 - accuracy: 0.9319 - val_loss: 0.1305 - val_accuracy: 0.9828\n",
            "Epoch 13/50\n",
            "9/9 - 0s - loss: 0.1539 - accuracy: 0.9532 - val_loss: 0.1632 - val_accuracy: 0.9655\n",
            "Epoch 14/50\n",
            "9/9 - 0s - loss: 0.1512 - accuracy: 0.9532 - val_loss: 0.1320 - val_accuracy: 0.9828\n",
            "Epoch 15/50\n",
            "9/9 - 0s - loss: 0.1457 - accuracy: 0.9617 - val_loss: 0.1331 - val_accuracy: 0.9828\n",
            "Epoch 16/50\n",
            "9/9 - 0s - loss: 0.1430 - accuracy: 0.9617 - val_loss: 0.1352 - val_accuracy: 0.9828\n",
            "Epoch 17/50\n",
            "9/9 - 0s - loss: 0.1390 - accuracy: 0.9617 - val_loss: 0.1244 - val_accuracy: 0.9828\n",
            "Epoch 18/50\n",
            "9/9 - 0s - loss: 0.1353 - accuracy: 0.9617 - val_loss: 0.1269 - val_accuracy: 0.9828\n",
            "Epoch 19/50\n",
            "9/9 - 0s - loss: 0.1334 - accuracy: 0.9660 - val_loss: 0.1200 - val_accuracy: 0.9828\n",
            "Epoch 20/50\n",
            "9/9 - 0s - loss: 0.1315 - accuracy: 0.9660 - val_loss: 0.1284 - val_accuracy: 0.9828\n",
            "Epoch 21/50\n",
            "9/9 - 0s - loss: 0.1290 - accuracy: 0.9617 - val_loss: 0.1148 - val_accuracy: 0.9828\n",
            "Epoch 22/50\n",
            "9/9 - 0s - loss: 0.1275 - accuracy: 0.9660 - val_loss: 0.1203 - val_accuracy: 0.9828\n",
            "Epoch 23/50\n",
            "9/9 - 0s - loss: 0.1266 - accuracy: 0.9660 - val_loss: 0.1234 - val_accuracy: 0.9828\n",
            "Epoch 24/50\n",
            "9/9 - 0s - loss: 0.1253 - accuracy: 0.9660 - val_loss: 0.1204 - val_accuracy: 0.9828\n",
            "Epoch 25/50\n",
            "9/9 - 0s - loss: 0.1229 - accuracy: 0.9660 - val_loss: 0.1142 - val_accuracy: 0.9828\n",
            "Epoch 26/50\n",
            "9/9 - 0s - loss: 0.1225 - accuracy: 0.9660 - val_loss: 0.1160 - val_accuracy: 0.9828\n",
            "Epoch 27/50\n",
            "9/9 - 0s - loss: 0.1209 - accuracy: 0.9660 - val_loss: 0.1184 - val_accuracy: 0.9828\n",
            "Epoch 28/50\n",
            "9/9 - 0s - loss: 0.1204 - accuracy: 0.9660 - val_loss: 0.1204 - val_accuracy: 0.9828\n",
            "Epoch 29/50\n",
            "9/9 - 0s - loss: 0.1196 - accuracy: 0.9702 - val_loss: 0.1212 - val_accuracy: 0.9828\n",
            "Epoch 30/50\n",
            "9/9 - 0s - loss: 0.1185 - accuracy: 0.9702 - val_loss: 0.1174 - val_accuracy: 0.9828\n",
            "Epoch 31/50\n",
            "9/9 - 0s - loss: 0.1178 - accuracy: 0.9702 - val_loss: 0.1159 - val_accuracy: 0.9828\n",
            "Epoch 32/50\n",
            "9/9 - 0s - loss: 0.1175 - accuracy: 0.9660 - val_loss: 0.1169 - val_accuracy: 0.9828\n",
            "Epoch 33/50\n",
            "9/9 - 0s - loss: 0.1171 - accuracy: 0.9702 - val_loss: 0.1137 - val_accuracy: 0.9828\n",
            "Epoch 34/50\n",
            "9/9 - 0s - loss: 0.1161 - accuracy: 0.9702 - val_loss: 0.1170 - val_accuracy: 0.9828\n",
            "Epoch 35/50\n",
            "9/9 - 0s - loss: 0.1158 - accuracy: 0.9702 - val_loss: 0.1177 - val_accuracy: 0.9828\n",
            "Epoch 36/50\n",
            "9/9 - 0s - loss: 0.1154 - accuracy: 0.9702 - val_loss: 0.1202 - val_accuracy: 0.9828\n",
            "Epoch 37/50\n",
            "9/9 - 0s - loss: 0.1151 - accuracy: 0.9702 - val_loss: 0.1175 - val_accuracy: 0.9828\n",
            "Epoch 38/50\n",
            "9/9 - 0s - loss: 0.1146 - accuracy: 0.9702 - val_loss: 0.1182 - val_accuracy: 0.9828\n",
            "Epoch 39/50\n",
            "9/9 - 0s - loss: 0.1142 - accuracy: 0.9702 - val_loss: 0.1167 - val_accuracy: 0.9828\n",
            "Epoch 40/50\n",
            "9/9 - 0s - loss: 0.1140 - accuracy: 0.9702 - val_loss: 0.1149 - val_accuracy: 0.9828\n",
            "Epoch 41/50\n",
            "9/9 - 0s - loss: 0.1137 - accuracy: 0.9702 - val_loss: 0.1175 - val_accuracy: 0.9828\n",
            "Epoch 42/50\n",
            "9/9 - 0s - loss: 0.1137 - accuracy: 0.9745 - val_loss: 0.1153 - val_accuracy: 0.9828\n",
            "Epoch 43/50\n",
            "9/9 - 0s - loss: 0.1133 - accuracy: 0.9745 - val_loss: 0.1173 - val_accuracy: 0.9828\n",
            "Epoch 44/50\n",
            "9/9 - 0s - loss: 0.1130 - accuracy: 0.9745 - val_loss: 0.1163 - val_accuracy: 0.9828\n",
            "Epoch 45/50\n",
            "9/9 - 0s - loss: 0.1128 - accuracy: 0.9745 - val_loss: 0.1175 - val_accuracy: 0.9828\n",
            "Epoch 46/50\n",
            "9/9 - 0s - loss: 0.1128 - accuracy: 0.9745 - val_loss: 0.1160 - val_accuracy: 0.9828\n",
            "Epoch 47/50\n",
            "9/9 - 0s - loss: 0.1123 - accuracy: 0.9745 - val_loss: 0.1178 - val_accuracy: 0.9828\n",
            "Epoch 48/50\n",
            "9/9 - 0s - loss: 0.1124 - accuracy: 0.9745 - val_loss: 0.1167 - val_accuracy: 0.9828\n",
            "Epoch 49/50\n",
            "9/9 - 0s - loss: 0.1122 - accuracy: 0.9745 - val_loss: 0.1154 - val_accuracy: 0.9828\n",
            "Epoch 50/50\n",
            "9/9 - 0s - loss: 0.1119 - accuracy: 0.9745 - val_loss: 0.1146 - val_accuracy: 0.9828\n"
          ],
          "name": "stdout"
        },
        {
          "output_type": "execute_result",
          "data": {
            "text/plain": [
              "<keras.callbacks.History at 0x7fdc62975910>"
            ]
          },
          "metadata": {
            "tags": []
          },
          "execution_count": 5
        }
      ]
    },
    {
      "cell_type": "markdown",
      "metadata": {
        "id": "ztsBUywAI_pe"
      },
      "source": [
        "<a id=\"section5\"></a>\n",
        "# <font color=\"#004D7F\" size=6>5. Consejos al utilizar la planificación de aprendizaje</font>"
      ]
    },
    {
      "cell_type": "markdown",
      "metadata": {
        "id": "OiM3uzRyI_pf"
      },
      "source": [
        "Veamos algunos consejos a tener en cuenta al utilizar la planficación de la tasa de aprendizaje.\n",
        "* **Incrementar la tasa de aprendizaje inicial**. Debido a que la tasa de aprendizaje disminuirá, comience con un valor mayor desde el cual disminuir.\n",
        "* **Utilice un gran momentum**.\n",
        "* **Experimente con diferentes planificaciones**. "
      ]
    },
    {
      "cell_type": "markdown",
      "metadata": {
        "id": "DH2nDniII_pf"
      },
      "source": [
        "<div style=\"text-align: right\"> <font size=5> <a href=\"#indice\"><i class=\"fa fa-arrow-circle-up\" aria-hidden=\"true\" style=\"color:#004D7F\"></i></a></font></div>\n",
        "\n",
        "---\n",
        "\n",
        "<div style=\"text-align: right\"> <font size=6><i class=\"fa fa-coffee\" aria-hidden=\"true\" style=\"color:#004D7F\"></i> </font></div>"
      ]
    }
  ]
}