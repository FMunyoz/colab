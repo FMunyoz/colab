{
  "nbformat": 4,
  "nbformat_minor": 0,
  "metadata": {
    "kernelspec": {
      "display_name": "Python 3",
      "language": "python",
      "name": "python3"
    },
    "language_info": {
      "codemirror_mode": {
        "name": "ipython",
        "version": 3
      },
      "file_extension": ".py",
      "mimetype": "text/x-python",
      "name": "python",
      "nbconvert_exporter": "python",
      "pygments_lexer": "ipython3",
      "version": "3.6.9"
    },
    "colab": {
      "name": "3. LSTM Regresión.ipynb",
      "provenance": []
    },
    "accelerator": "GPU"
  },
  "cells": [
    {
      "cell_type": "markdown",
      "metadata": {
        "id": "ydh6dXhbGTnp"
      },
      "source": [
        "<h1><font color=\"#113D68\" size=6>Deep Learning con Python y Keras</font></h1>\n",
        "\n",
        "<h1><font color=\"#113D68\" size=5>Parte 6. Redes Neuronales Recurrentes</font></h1>\n",
        "\n",
        "<h1><font color=\"#113D68\" size=4>3. LSTM para Regresión</font></h1>\n",
        "\n",
        "<br><br>\n",
        "<div style=\"text-align: right\">\n",
        "<font color=\"#113D68\" size=3>Manuel Castillo Cara</font><br>\n",
        "\n",
        "</div>"
      ]
    },
    {
      "cell_type": "markdown",
      "metadata": {
        "id": "Y_znFCdXGTnq"
      },
      "source": [
        "---\n",
        "\n",
        "<a id=\"indice\"></a>\n",
        "<h2><font color=\"#004D7F\" size=5>Índice</font></h2>\n",
        "\n",
        "* [0. Contexto](#section0)\n",
        "* [1. LSTM para regresión](#section1)\n",
        "    * [1.1. Cargar el dataset](#section1.1)\n",
        "    * [1.2. Normalización de datos](#section1.2)\n",
        "    * [1.3. Train/Test](#section1.3)\n",
        "    * [1.4. Creamos el dataset para una serie temporal](#section1.4)\n",
        "    * [1.5. Transformar las muestras](#section1.5)\n",
        "    * [1.6. Diseño de LSTM](#section1.6)\n",
        "    * [1.7. Resultados](#section1.7)\n",
        "* [2. LSTM usando ventana](#section2)\n",
        "* [3. LSTM con pasos de tiempo](#section3)\n",
        "* [4. LSTM con memoria entre batchs](#section4)\n",
        "    * [4.1. Generar estado en train](#section4.1)\n",
        "    * [4.2. Diseño de LSTM](#section4.2)\n",
        "* [5. Stacked LSTM con memoria entre batchs](#section5)"
      ]
    },
    {
      "cell_type": "markdown",
      "metadata": {
        "id": "5ZSyI34BGTnr"
      },
      "source": [
        "---\n",
        "<a id=\"section0\"></a>\n",
        "# <font color=\"#004D7F\" size=6> 0. Contexto</font>"
      ]
    },
    {
      "cell_type": "markdown",
      "metadata": {
        "id": "Gp_H95exGTnr"
      },
      "source": [
        "La red LSTM es un tipo de red neuronal recurrente que se utiliza en el Deep Learning porque se pueden entrenar con éxito arquitecturas muy grandes.\n",
        "\n",
        "Por tanto, en esta lección trabajaremos:\n",
        "* Desarrollar LSTM para un problema de regresión con secuencialidad temporal.\n",
        "* Desarrollar redes LSTM usando una ventana y pasos de tiempo.\n",
        "* Desarrollar y hacer predicciones que mantienen el estado (memoria) en secuencias muy largas."
      ]
    },
    {
      "cell_type": "markdown",
      "metadata": {
        "id": "Nf-1jF31GTns"
      },
      "source": [
        "---\n",
        "<div style=\"text-align: right\"> <font size=5> <a href=\"#indice\"><i class=\"fa fa-arrow-circle-up\" aria-hidden=\"true\" style=\"color:#004D7F\"></i></a></font></div>\n",
        "\n",
        "---"
      ]
    },
    {
      "cell_type": "markdown",
      "metadata": {
        "id": "VFFu-epvGTns"
      },
      "source": [
        "<a id=\"section1\"></a>\n",
        "# <font color=\"#004D7F\" size=6>1. LSTM para regresión</font>"
      ]
    },
    {
      "cell_type": "markdown",
      "metadata": {
        "id": "M_FvaWj_GTnt"
      },
      "source": [
        "El problema que veremos en esta lección es el problema de predicción de pasajeros de aerolíneas internacionales."
      ]
    },
    {
      "cell_type": "markdown",
      "metadata": {
        "id": "BBV-ssAiGTnu"
      },
      "source": [
        "<div class=\"alert alert-block alert-info\">\n",
        "    \n",
        "<i class=\"fa fa-info-circle\" aria-hidden=\"true\"></i>\n",
        "Más información sobre el dataset [Air Passengers](https://www.kaggle.com/chirag19/air-passengers)"
      ]
    },
    {
      "cell_type": "markdown",
      "metadata": {
        "id": "OiajrOloGTnv"
      },
      "source": [
        "<a id=\"section1.1\"></a>\n",
        "# <font color=\"#004D7F\" size=5>1.1. Cargar el dataset</font>"
      ]
    },
    {
      "cell_type": "markdown",
      "metadata": {
        "id": "3LbjmGcYGTnv"
      },
      "source": [
        "Cargamos el dataset"
      ]
    },
    {
      "cell_type": "code",
      "metadata": {
        "id": "I0F9ltN4GTnw"
      },
      "source": [
        "import numpy as np\n",
        "import matplotlib.pyplot as plt\n",
        "import pandas as pd\n",
        "import math\n",
        "from keras.models import Sequential\n",
        "from keras.layers import Dense\n",
        "from keras.layers import LSTM\n",
        "from sklearn.preprocessing import MinMaxScaler\n",
        "from sklearn.metrics import mean_squared_error\n",
        "\n",
        "\n",
        "# convert an array of values into a dataset matrix\n",
        "def create_dataset(dataset, look_back=1):\n",
        "    dataX, dataY = [], []\n",
        "    for i in range(len(dataset)-look_back-1):\n",
        "        a = dataset[i:(i+look_back), 0]\n",
        "        dataX.append(a)\n",
        "        dataY.append(dataset[i + look_back, 0])\n",
        "    return np.array(dataX), np.array(dataY)\n",
        "\n",
        "# load the dataset\n",
        "dataframe = pd.read_csv('https://raw.githubusercontent.com/FMunyoz/colab/main/data/international-airline-passengers.csv', usecols=[1], engine='python')\n",
        "dataset = dataframe.values\n",
        "dataset = dataset.astype('float32')"
      ],
      "execution_count": 36,
      "outputs": []
    },
    {
      "cell_type": "markdown",
      "metadata": {
        "id": "4uiP4N-7GTnw"
      },
      "source": [
        "<a id=\"section1.2\"></a>\n",
        "# <font color=\"#004D7F\" size=5>1.2. Normalización de datos</font>"
      ]
    },
    {
      "cell_type": "markdown",
      "metadata": {
        "id": "YE1i4K9pGTnx"
      },
      "source": [
        "Las LSTM son sensibles a la escala de los datos de entrada, específicamente cuando se utilizan las funciones de activación Sigmoidea (predeterminada) o Tanh, por lo que una normalización nos otroga resultados más prometedores."
      ]
    },
    {
      "cell_type": "code",
      "metadata": {
        "id": "N8lMl4A2GTnx"
      },
      "source": [
        "# normalize the dataset\n",
        "scaler = MinMaxScaler(feature_range=(0,1))\n",
        "dataset = scaler.fit_transform(dataset)\n"
      ],
      "execution_count": 37,
      "outputs": []
    },
    {
      "cell_type": "markdown",
      "metadata": {
        "id": "FZws5t-1GTnx"
      },
      "source": [
        "<a id=\"section1.3\"></a>\n",
        "# <font color=\"#004D7F\" size=5>1.3. Train/Test</font>"
      ]
    },
    {
      "cell_type": "markdown",
      "metadata": {
        "id": "MW6DRV0wGTny"
      },
      "source": [
        "Dividimos el conjunto de datos en train/test"
      ]
    },
    {
      "cell_type": "code",
      "metadata": {
        "id": "aFWyzGRbGTny"
      },
      "source": [
        "# split into train and test sets\n",
        "train_size=int(len(dataset) * .67)\n",
        "train_test=len(dataset) - train_size\n",
        "train, test = dataset[0:train_size,:], dataset[train_size:len(dataset), :]\n"
      ],
      "execution_count": 38,
      "outputs": []
    },
    {
      "cell_type": "markdown",
      "metadata": {
        "id": "GPoYRyZNGTny"
      },
      "source": [
        "<a id=\"section1.4\"></a>\n",
        "# <font color=\"#004D7F\" size=5>1.4. Creamos el dataset para una serie temporal</font>"
      ]
    },
    {
      "cell_type": "markdown",
      "metadata": {
        "id": "JYF8R41wGTny"
      },
      "source": [
        "Utilizamos la funcion `create_dataset()` para adaptar nuestro dataset a una serie temporal"
      ]
    },
    {
      "cell_type": "code",
      "metadata": {
        "id": "aRtdOJeaGTny"
      },
      "source": [
        "# reshape into X=t and Y=t+1\n",
        "look_back = 1\n",
        "trainX, trainY = create_dataset(train, look_back)\n",
        "testX, testY = create_dataset(test, look_back)\n"
      ],
      "execution_count": 39,
      "outputs": []
    },
    {
      "cell_type": "markdown",
      "metadata": {
        "id": "8WX6hrjfGTnz"
      },
      "source": [
        "<a id=\"section1.5\"></a>\n",
        "# <font color=\"#004D7F\" size=5>1.5. Transformar las muestras</font>"
      ]
    },
    {
      "cell_type": "markdown",
      "metadata": {
        "id": "vTphoyZKGTnz"
      },
      "source": [
        "La red LSTM espera que los datos de entrada (X) se proporcionen con una estructura de matriz específica en forma de: $[muestras,\\ pasos\\ de\\ tiempo,\\ características]$. \n",
        "\n",
        "Nuestros datos preparados tienen la forma: $[muestras,\\ características]$ por lo que requiere esta transformación."
      ]
    },
    {
      "cell_type": "code",
      "metadata": {
        "id": "lE3ARXm5GTnz"
      },
      "source": [
        "# reshape input to be [samples, time steps, features]\n",
        "trainX = np.reshape(trainX, (trainX.shape[0], 1, trainX.shape[1]))\n",
        "testX = np.reshape(testX, (testX.shape[0], 1, testX.shape[1]))\n"
      ],
      "execution_count": 40,
      "outputs": []
    },
    {
      "cell_type": "markdown",
      "metadata": {
        "id": "5lY-3mTRGTnz"
      },
      "source": [
        "<a id=\"section1.6\"></a>\n",
        "# <font color=\"#004D7F\" size=5>1.6. Diseño de LSTM</font>"
      ]
    },
    {
      "cell_type": "markdown",
      "metadata": {
        "id": "74HSY1MYGTnz"
      },
      "source": [
        "Creamos nuestra LSTM:\n",
        "1. Una capa visible con 1 entrada\n",
        "2. Una capa oculta con 4 bloques LSTM o neuronas\n",
        "3. Una capa de salida que hace una predicción de valor único. LSTM utiliza por defecto la función Sigmoidal.\n",
        "4. Entrenamos para 100 épocas y el tamaño de batch a 1."
      ]
    },
    {
      "cell_type": "code",
      "metadata": {
        "scrolled": true,
        "colab": {
          "base_uri": "https://localhost:8080/"
        },
        "id": "9PsHZ7-aGTnz",
        "outputId": "8afcebb2-8d66-4244-8b5b-0c41113266fb"
      },
      "source": [
        "# create and fit the LSTM network\n",
        "model = Sequential()\n",
        "model.add(LSTM(4, input_shape=(1, look_back)))\n",
        "model.add(Dense(1))\n",
        "\n",
        "model.compile(loss='mean_squared_error', optimizer='adam')\n",
        "model.fit(trainX, trainY, epochs=100, batch_size=1, verbose=2)\n"
      ],
      "execution_count": 41,
      "outputs": [
        {
          "output_type": "stream",
          "text": [
            "Epoch 1/100\n",
            "94/94 - 1s - loss: 0.0535\n",
            "Epoch 2/100\n",
            "94/94 - 0s - loss: 0.0278\n",
            "Epoch 3/100\n",
            "94/94 - 0s - loss: 0.0193\n",
            "Epoch 4/100\n",
            "94/94 - 0s - loss: 0.0172\n",
            "Epoch 5/100\n",
            "94/94 - 0s - loss: 0.0161\n",
            "Epoch 6/100\n",
            "94/94 - 0s - loss: 0.0153\n",
            "Epoch 7/100\n",
            "94/94 - 0s - loss: 0.0143\n",
            "Epoch 8/100\n",
            "94/94 - 0s - loss: 0.0133\n",
            "Epoch 9/100\n",
            "94/94 - 0s - loss: 0.0124\n",
            "Epoch 10/100\n",
            "94/94 - 0s - loss: 0.0118\n",
            "Epoch 11/100\n",
            "94/94 - 0s - loss: 0.0106\n",
            "Epoch 12/100\n",
            "94/94 - 0s - loss: 0.0096\n",
            "Epoch 13/100\n",
            "94/94 - 0s - loss: 0.0087\n",
            "Epoch 14/100\n",
            "94/94 - 0s - loss: 0.0079\n",
            "Epoch 15/100\n",
            "94/94 - 0s - loss: 0.0071\n",
            "Epoch 16/100\n",
            "94/94 - 0s - loss: 0.0063\n",
            "Epoch 17/100\n",
            "94/94 - 0s - loss: 0.0057\n",
            "Epoch 18/100\n",
            "94/94 - 0s - loss: 0.0050\n",
            "Epoch 19/100\n",
            "94/94 - 0s - loss: 0.0044\n",
            "Epoch 20/100\n",
            "94/94 - 0s - loss: 0.0039\n",
            "Epoch 21/100\n",
            "94/94 - 0s - loss: 0.0035\n",
            "Epoch 22/100\n",
            "94/94 - 0s - loss: 0.0031\n",
            "Epoch 23/100\n",
            "94/94 - 0s - loss: 0.0028\n",
            "Epoch 24/100\n",
            "94/94 - 0s - loss: 0.0026\n",
            "Epoch 25/100\n",
            "94/94 - 0s - loss: 0.0024\n",
            "Epoch 26/100\n",
            "94/94 - 0s - loss: 0.0023\n",
            "Epoch 27/100\n",
            "94/94 - 0s - loss: 0.0022\n",
            "Epoch 28/100\n",
            "94/94 - 0s - loss: 0.0021\n",
            "Epoch 29/100\n",
            "94/94 - 0s - loss: 0.0021\n",
            "Epoch 30/100\n",
            "94/94 - 0s - loss: 0.0021\n",
            "Epoch 31/100\n",
            "94/94 - 0s - loss: 0.0020\n",
            "Epoch 32/100\n",
            "94/94 - 0s - loss: 0.0021\n",
            "Epoch 33/100\n",
            "94/94 - 0s - loss: 0.0020\n",
            "Epoch 34/100\n",
            "94/94 - 0s - loss: 0.0020\n",
            "Epoch 35/100\n",
            "94/94 - 0s - loss: 0.0020\n",
            "Epoch 36/100\n",
            "94/94 - 0s - loss: 0.0020\n",
            "Epoch 37/100\n",
            "94/94 - 0s - loss: 0.0020\n",
            "Epoch 38/100\n",
            "94/94 - 0s - loss: 0.0021\n",
            "Epoch 39/100\n",
            "94/94 - 0s - loss: 0.0020\n",
            "Epoch 40/100\n",
            "94/94 - 0s - loss: 0.0020\n",
            "Epoch 41/100\n",
            "94/94 - 0s - loss: 0.0021\n",
            "Epoch 42/100\n",
            "94/94 - 0s - loss: 0.0020\n",
            "Epoch 43/100\n",
            "94/94 - 0s - loss: 0.0020\n",
            "Epoch 44/100\n",
            "94/94 - 0s - loss: 0.0020\n",
            "Epoch 45/100\n",
            "94/94 - 0s - loss: 0.0020\n",
            "Epoch 46/100\n",
            "94/94 - 0s - loss: 0.0020\n",
            "Epoch 47/100\n",
            "94/94 - 0s - loss: 0.0020\n",
            "Epoch 48/100\n",
            "94/94 - 0s - loss: 0.0020\n",
            "Epoch 49/100\n",
            "94/94 - 0s - loss: 0.0020\n",
            "Epoch 50/100\n",
            "94/94 - 0s - loss: 0.0020\n",
            "Epoch 51/100\n",
            "94/94 - 0s - loss: 0.0020\n",
            "Epoch 52/100\n",
            "94/94 - 0s - loss: 0.0020\n",
            "Epoch 53/100\n",
            "94/94 - 0s - loss: 0.0020\n",
            "Epoch 54/100\n",
            "94/94 - 0s - loss: 0.0020\n",
            "Epoch 55/100\n",
            "94/94 - 0s - loss: 0.0020\n",
            "Epoch 56/100\n",
            "94/94 - 0s - loss: 0.0020\n",
            "Epoch 57/100\n",
            "94/94 - 0s - loss: 0.0020\n",
            "Epoch 58/100\n",
            "94/94 - 0s - loss: 0.0020\n",
            "Epoch 59/100\n",
            "94/94 - 0s - loss: 0.0020\n",
            "Epoch 60/100\n",
            "94/94 - 0s - loss: 0.0020\n",
            "Epoch 61/100\n",
            "94/94 - 0s - loss: 0.0021\n",
            "Epoch 62/100\n",
            "94/94 - 0s - loss: 0.0019\n",
            "Epoch 63/100\n",
            "94/94 - 0s - loss: 0.0020\n",
            "Epoch 64/100\n",
            "94/94 - 0s - loss: 0.0020\n",
            "Epoch 65/100\n",
            "94/94 - 0s - loss: 0.0020\n",
            "Epoch 66/100\n",
            "94/94 - 0s - loss: 0.0020\n",
            "Epoch 67/100\n",
            "94/94 - 0s - loss: 0.0020\n",
            "Epoch 68/100\n",
            "94/94 - 0s - loss: 0.0020\n",
            "Epoch 69/100\n",
            "94/94 - 0s - loss: 0.0020\n",
            "Epoch 70/100\n",
            "94/94 - 0s - loss: 0.0020\n",
            "Epoch 71/100\n",
            "94/94 - 0s - loss: 0.0020\n",
            "Epoch 72/100\n",
            "94/94 - 0s - loss: 0.0020\n",
            "Epoch 73/100\n",
            "94/94 - 0s - loss: 0.0020\n",
            "Epoch 74/100\n",
            "94/94 - 0s - loss: 0.0020\n",
            "Epoch 75/100\n",
            "94/94 - 0s - loss: 0.0020\n",
            "Epoch 76/100\n",
            "94/94 - 0s - loss: 0.0020\n",
            "Epoch 77/100\n",
            "94/94 - 0s - loss: 0.0019\n",
            "Epoch 78/100\n",
            "94/94 - 0s - loss: 0.0020\n",
            "Epoch 79/100\n",
            "94/94 - 0s - loss: 0.0020\n",
            "Epoch 80/100\n",
            "94/94 - 0s - loss: 0.0020\n",
            "Epoch 81/100\n",
            "94/94 - 0s - loss: 0.0020\n",
            "Epoch 82/100\n",
            "94/94 - 0s - loss: 0.0019\n",
            "Epoch 83/100\n",
            "94/94 - 0s - loss: 0.0021\n",
            "Epoch 84/100\n",
            "94/94 - 0s - loss: 0.0020\n",
            "Epoch 85/100\n",
            "94/94 - 0s - loss: 0.0020\n",
            "Epoch 86/100\n",
            "94/94 - 0s - loss: 0.0020\n",
            "Epoch 87/100\n",
            "94/94 - 0s - loss: 0.0020\n",
            "Epoch 88/100\n",
            "94/94 - 0s - loss: 0.0020\n",
            "Epoch 89/100\n",
            "94/94 - 0s - loss: 0.0020\n",
            "Epoch 90/100\n",
            "94/94 - 0s - loss: 0.0020\n",
            "Epoch 91/100\n",
            "94/94 - 0s - loss: 0.0020\n",
            "Epoch 92/100\n",
            "94/94 - 0s - loss: 0.0020\n",
            "Epoch 93/100\n",
            "94/94 - 0s - loss: 0.0020\n",
            "Epoch 94/100\n",
            "94/94 - 0s - loss: 0.0020\n",
            "Epoch 95/100\n",
            "94/94 - 0s - loss: 0.0020\n",
            "Epoch 96/100\n",
            "94/94 - 0s - loss: 0.0021\n",
            "Epoch 97/100\n",
            "94/94 - 0s - loss: 0.0020\n",
            "Epoch 98/100\n",
            "94/94 - 0s - loss: 0.0019\n",
            "Epoch 99/100\n",
            "94/94 - 0s - loss: 0.0020\n",
            "Epoch 100/100\n",
            "94/94 - 0s - loss: 0.0020\n"
          ],
          "name": "stdout"
        },
        {
          "output_type": "execute_result",
          "data": {
            "text/plain": [
              "<keras.callbacks.History at 0x7f2dc20fedd0>"
            ]
          },
          "metadata": {
            "tags": []
          },
          "execution_count": 41
        }
      ]
    },
    {
      "cell_type": "markdown",
      "metadata": {
        "id": "IX6ImLQCGTn0"
      },
      "source": [
        "<a id=\"section1.7\"></a>\n",
        "# <font color=\"#004D7F\" size=5>1.7. Resultados</font>"
      ]
    },
    {
      "cell_type": "markdown",
      "metadata": {
        "id": "3DgIiBICGTn1"
      },
      "source": [
        "A continuación se representa el cógido para representar los resultados."
      ]
    },
    {
      "cell_type": "code",
      "metadata": {
        "id": "ppjpB7WiGTn1",
        "colab": {
          "base_uri": "https://localhost:8080/",
          "height": 517
        },
        "outputId": "3de8f1df-2840-4092-af27-98d4d7aeda33"
      },
      "source": [
        "# make predictions\n",
        "trainPredict = model.predict(trainX)\n",
        "testPredict = model.predict(testX)\n",
        "\n",
        "# invert predictions\n",
        "trainPredict = scaler.inverse_transform(trainPredict)\n",
        "trainY = scaler.inverse_transform([trainY])\n",
        "testPredict = scaler.inverse_transform(testPredict)\n",
        "testY = scaler.inverse_transform([testY])\n",
        "\n",
        "# calculate root mean squared error\n",
        "trainScore = math.sqrt(mean_squared_error(trainY[0], trainPredict[:, 0]))\n",
        "print('Puntuacion Entrenamiento: %.2f RMSE' % (trainScore))\n",
        "testScore = math.sqrt(mean_squared_error(testY[0], testPredict[:, 0]))\n",
        "print('Puntuacion Validación: %.2f RMSE' % (testScore))\n",
        "\n",
        "# shift train predictions for plotting\n",
        "trainPredictPlot = np.empty_like(dataset)\n",
        "trainPredictPlot[: , :] = np.nan\n",
        "trainPredictPlot[look_back : len(trainPredict) + look_back, :] = trainPredict\n",
        "\n",
        "\n",
        "# shift test predictions for plotting\n",
        "\n",
        "testPredictPlot = np.empty_like(dataset)\n",
        "testPredictPlot[: , :] = np.nan\n",
        "testPredictPlot[len(trainPredict) + (look_back*2) + 1 : len(dataset) -1 , :] = testPredict\n",
        "\n",
        "# plot baseline and predictions\n",
        "plt.figure(figsize=(12,8))\n",
        "plt.plot(scaler.inverse_transform(dataset))\n",
        "plt.plot(trainPredictPlot)\n",
        "plt.plot(testPredictPlot)\n",
        "plt.show()\n"
      ],
      "execution_count": 42,
      "outputs": [
        {
          "output_type": "stream",
          "text": [
            "Puntuacion Entrenamiento: 22.70 RMSE\n",
            "Puntuacion Validación: 50.02 RMSE\n"
          ],
          "name": "stdout"
        },
        {
          "output_type": "display_data",
          "data": {
            "image/png": "[encoded data removed]",
            "text/plain": [
              "<Figure size 864x576 with 1 Axes>"
            ]
          },
          "metadata": {
            "tags": [],
            "needs_background": "light"
          }
        }
      ]
    },
    {
      "cell_type": "markdown",
      "metadata": {
        "id": "PKFl1K_oGTn1"
      },
      "source": [
        "Podemos ver que el modelo tiene un error promedio de aproximadamente 23 pasajeros (en miles) en el conjunto de datos de entrenamiento y aproximadamente 52 pasajeros (en miles) en el conjunto de datos de prueba. \n",
        "\n",
        "No está tan mal pero vamos a intentar mejorarlo"
      ]
    },
    {
      "cell_type": "markdown",
      "metadata": {
        "id": "ZPMhTEJgGTn1"
      },
      "source": [
        "---\n",
        "<div style=\"text-align: right\"> <font size=5> <a href=\"#indice\"><i class=\"fa fa-arrow-circle-up\" aria-hidden=\"true\" style=\"color:#004D7F\"></i></a></font></div>\n",
        "\n",
        "---"
      ]
    },
    {
      "cell_type": "markdown",
      "metadata": {
        "id": "n6YBZQVJGTn1"
      },
      "source": [
        "<a id=\"section2\"></a>\n",
        "# <font color=\"#004D7F\" size=6>2. LSTM usando ventana</font>"
      ]
    },
    {
      "cell_type": "markdown",
      "metadata": {
        "id": "GOzPx-VhGTn2"
      },
      "source": [
        "Recordemos lo que estuviemos viendo, dado el tiempo actual _(t)_ que queremos predecir el valor en el próximo tiempo en la secuencia _(t + 1),_ podemos usar el tiempo actual _(t)_ así como los dos tiempos anteriores _(t-1_ y _t-2)_ como variables de entrada. Cuando se expresa como un problema de regresión, las variables de entrada son _t-2, t-1, t_ y la variable de salida es _t + 1._\n",
        "\n",
        "Este proceso quedaría:\n",
        "```\n",
        "    X1  X2  X3  Y\n",
        "    112 118 132 129\n",
        "    118 132 129 121\n",
        "    132 129 121 135\n",
        "    129 121 135 148\n",
        "    121 135 148 148 \n",
        "```\n",
        "\n",
        "Por tanto únicamente cambiamos el tamaño de ventana al proceso realizado anteriormente con la función `create_dataset()`."
      ]
    },
    {
      "cell_type": "code",
      "metadata": {
        "id": "FYNkGEU5GTn2",
        "colab": {
          "base_uri": "https://localhost:8080/",
          "height": 1000
        },
        "outputId": "e046ecbc-72fd-4b58-f181-0f6cd49cf2a0"
      },
      "source": [
        "# reshape into X=t and Y=t+1\n",
        "look_back = 3\n",
        "\n",
        "trainX, trainY = create_dataset(train, look_back)\n",
        "testX, testY = create_dataset(test, look_back)\n",
        "\n",
        "# reshape input to be [samples, time steps, features]\n",
        "trainX = np.reshape(trainX, (trainX.shape[0], 1, trainX.shape[1]))\n",
        "testX = np.reshape(testX, (testX.shape[0], 1, testX.shape[1]))\n",
        "\n",
        "\n",
        "# create and fit the LSTM network\n",
        "model = Sequential()\n",
        "model.add(LSTM(4, input_shape=(1, look_back)))\n",
        "model.add(Dense(1))\n",
        "\n",
        "model.compile(loss='mean_squared_error', optimizer='adam')\n",
        "model.fit(trainX, trainY, epochs=100, batch_size=1, verbose=2)\n",
        "\n",
        "# make predictions\n",
        "trainPredict = model.predict(trainX)\n",
        "testPredict = model.predict(testX)\n",
        "\n",
        "# invert predictions\n",
        "trainPredict = scaler.inverse_transform(trainPredict)\n",
        "trainY = scaler.inverse_transform([trainY])\n",
        "testPredict = scaler.inverse_transform(testPredict)\n",
        "testY = scaler.inverse_transform([testY])\n",
        "\n",
        "# calculate root mean squared error\n",
        "trainScore = math.sqrt(mean_squared_error(trainY[0], trainPredict[:, 0]))\n",
        "print('Puntuacion Entrenamiento: %.2f RMSE' % (trainScore))\n",
        "testScore = math.sqrt(mean_squared_error(testY[0], testPredict[:, 0]))\n",
        "print('Puntuacion Validación: %.2f RMSE' % (testScore))\n",
        "\n",
        "# shift train predictions for plotting\n",
        "trainPredictPlot = np.empty_like(dataset)\n",
        "trainPredictPlot[: , :] = np.nan\n",
        "trainPredictPlot[look_back : len(trainPredict) + look_back, :] = trainPredict\n",
        "\n",
        "\n",
        "# shift test predictions for plotting\n",
        "\n",
        "testPredictPlot = np.empty_like(dataset)\n",
        "testPredictPlot[: , :] = np.nan\n",
        "testPredictPlot[len(trainPredict) + (look_back*2) + 1 : len(dataset) -1 , :] = testPredict\n",
        "\n",
        "# plot baseline and predictions\n",
        "plt.figure(figsize=(12,8))\n",
        "plt.plot(scaler.inverse_transform(dataset))\n",
        "plt.plot(trainPredictPlot)\n",
        "plt.plot(testPredictPlot)\n",
        "plt.show()\n"
      ],
      "execution_count": 43,
      "outputs": [
        {
          "output_type": "stream",
          "text": [
            "Epoch 1/100\n",
            "92/92 - 1s - loss: 0.0206\n",
            "Epoch 2/100\n",
            "92/92 - 0s - loss: 0.0065\n",
            "Epoch 3/100\n",
            "92/92 - 0s - loss: 0.0051\n",
            "Epoch 4/100\n",
            "92/92 - 0s - loss: 0.0042\n",
            "Epoch 5/100\n",
            "92/92 - 0s - loss: 0.0038\n",
            "Epoch 6/100\n",
            "92/92 - 0s - loss: 0.0035\n",
            "Epoch 7/100\n",
            "92/92 - 0s - loss: 0.0032\n",
            "Epoch 8/100\n",
            "92/92 - 0s - loss: 0.0033\n",
            "Epoch 9/100\n",
            "92/92 - 0s - loss: 0.0031\n",
            "Epoch 10/100\n",
            "92/92 - 0s - loss: 0.0030\n",
            "Epoch 11/100\n",
            "92/92 - 0s - loss: 0.0030\n",
            "Epoch 12/100\n",
            "92/92 - 0s - loss: 0.0030\n",
            "Epoch 13/100\n",
            "92/92 - 0s - loss: 0.0029\n",
            "Epoch 14/100\n",
            "92/92 - 0s - loss: 0.0029\n",
            "Epoch 15/100\n",
            "92/92 - 0s - loss: 0.0029\n",
            "Epoch 16/100\n",
            "92/92 - 0s - loss: 0.0028\n",
            "Epoch 17/100\n",
            "92/92 - 0s - loss: 0.0028\n",
            "Epoch 18/100\n",
            "92/92 - 0s - loss: 0.0028\n",
            "Epoch 19/100\n",
            "92/92 - 0s - loss: 0.0027\n",
            "Epoch 20/100\n",
            "92/92 - 0s - loss: 0.0027\n",
            "Epoch 21/100\n",
            "92/92 - 0s - loss: 0.0027\n",
            "Epoch 22/100\n",
            "92/92 - 0s - loss: 0.0027\n",
            "Epoch 23/100\n",
            "92/92 - 0s - loss: 0.0027\n",
            "Epoch 24/100\n",
            "92/92 - 0s - loss: 0.0026\n",
            "Epoch 25/100\n",
            "92/92 - 0s - loss: 0.0027\n",
            "Epoch 26/100\n",
            "92/92 - 0s - loss: 0.0026\n",
            "Epoch 27/100\n",
            "92/92 - 0s - loss: 0.0026\n",
            "Epoch 28/100\n",
            "92/92 - 0s - loss: 0.0026\n",
            "Epoch 29/100\n",
            "92/92 - 0s - loss: 0.0025\n",
            "Epoch 30/100\n",
            "92/92 - 0s - loss: 0.0026\n",
            "Epoch 31/100\n",
            "92/92 - 0s - loss: 0.0025\n",
            "Epoch 32/100\n",
            "92/92 - 0s - loss: 0.0025\n",
            "Epoch 33/100\n",
            "92/92 - 0s - loss: 0.0025\n",
            "Epoch 34/100\n",
            "92/92 - 0s - loss: 0.0024\n",
            "Epoch 35/100\n",
            "92/92 - 0s - loss: 0.0027\n",
            "Epoch 36/100\n",
            "92/92 - 0s - loss: 0.0025\n",
            "Epoch 37/100\n",
            "92/92 - 0s - loss: 0.0024\n",
            "Epoch 38/100\n",
            "92/92 - 0s - loss: 0.0024\n",
            "Epoch 39/100\n",
            "92/92 - 0s - loss: 0.0025\n",
            "Epoch 40/100\n",
            "92/92 - 0s - loss: 0.0025\n",
            "Epoch 41/100\n",
            "92/92 - 0s - loss: 0.0024\n",
            "Epoch 42/100\n",
            "92/92 - 0s - loss: 0.0023\n",
            "Epoch 43/100\n",
            "92/92 - 0s - loss: 0.0023\n",
            "Epoch 44/100\n",
            "92/92 - 0s - loss: 0.0024\n",
            "Epoch 45/100\n",
            "92/92 - 0s - loss: 0.0024\n",
            "Epoch 46/100\n",
            "92/92 - 0s - loss: 0.0023\n",
            "Epoch 47/100\n",
            "92/92 - 0s - loss: 0.0023\n",
            "Epoch 48/100\n",
            "92/92 - 0s - loss: 0.0024\n",
            "Epoch 49/100\n",
            "92/92 - 0s - loss: 0.0023\n",
            "Epoch 50/100\n",
            "92/92 - 0s - loss: 0.0022\n",
            "Epoch 51/100\n",
            "92/92 - 0s - loss: 0.0023\n",
            "Epoch 52/100\n",
            "92/92 - 0s - loss: 0.0022\n",
            "Epoch 53/100\n",
            "92/92 - 0s - loss: 0.0023\n",
            "Epoch 54/100\n",
            "92/92 - 0s - loss: 0.0022\n",
            "Epoch 55/100\n",
            "92/92 - 0s - loss: 0.0022\n",
            "Epoch 56/100\n",
            "92/92 - 0s - loss: 0.0023\n",
            "Epoch 57/100\n",
            "92/92 - 0s - loss: 0.0022\n",
            "Epoch 58/100\n",
            "92/92 - 0s - loss: 0.0021\n",
            "Epoch 59/100\n",
            "92/92 - 0s - loss: 0.0021\n",
            "Epoch 60/100\n",
            "92/92 - 0s - loss: 0.0023\n",
            "Epoch 61/100\n",
            "92/92 - 0s - loss: 0.0021\n",
            "Epoch 62/100\n",
            "92/92 - 0s - loss: 0.0023\n",
            "Epoch 63/100\n",
            "92/92 - 0s - loss: 0.0022\n",
            "Epoch 64/100\n",
            "92/92 - 0s - loss: 0.0021\n",
            "Epoch 65/100\n",
            "92/92 - 0s - loss: 0.0021\n",
            "Epoch 66/100\n",
            "92/92 - 0s - loss: 0.0021\n",
            "Epoch 67/100\n",
            "92/92 - 0s - loss: 0.0022\n",
            "Epoch 68/100\n",
            "92/92 - 0s - loss: 0.0020\n",
            "Epoch 69/100\n",
            "92/92 - 0s - loss: 0.0021\n",
            "Epoch 70/100\n",
            "92/92 - 0s - loss: 0.0021\n",
            "Epoch 71/100\n",
            "92/92 - 0s - loss: 0.0021\n",
            "Epoch 72/100\n",
            "92/92 - 0s - loss: 0.0020\n",
            "Epoch 73/100\n",
            "92/92 - 0s - loss: 0.0021\n",
            "Epoch 74/100\n",
            "92/92 - 0s - loss: 0.0021\n",
            "Epoch 75/100\n",
            "92/92 - 0s - loss: 0.0020\n",
            "Epoch 76/100\n",
            "92/92 - 0s - loss: 0.0021\n",
            "Epoch 77/100\n",
            "92/92 - 0s - loss: 0.0020\n",
            "Epoch 78/100\n",
            "92/92 - 0s - loss: 0.0020\n",
            "Epoch 79/100\n",
            "92/92 - 0s - loss: 0.0021\n",
            "Epoch 80/100\n",
            "92/92 - 0s - loss: 0.0020\n",
            "Epoch 81/100\n",
            "92/92 - 0s - loss: 0.0020\n",
            "Epoch 82/100\n",
            "92/92 - 0s - loss: 0.0021\n",
            "Epoch 83/100\n",
            "92/92 - 0s - loss: 0.0020\n",
            "Epoch 84/100\n",
            "92/92 - 0s - loss: 0.0018\n",
            "Epoch 85/100\n",
            "92/92 - 0s - loss: 0.0021\n",
            "Epoch 86/100\n",
            "92/92 - 0s - loss: 0.0020\n",
            "Epoch 87/100\n",
            "92/92 - 0s - loss: 0.0019\n",
            "Epoch 88/100\n",
            "92/92 - 0s - loss: 0.0019\n",
            "Epoch 89/100\n",
            "92/92 - 0s - loss: 0.0020\n",
            "Epoch 90/100\n",
            "92/92 - 0s - loss: 0.0019\n",
            "Epoch 91/100\n",
            "92/92 - 0s - loss: 0.0019\n",
            "Epoch 92/100\n",
            "92/92 - 0s - loss: 0.0020\n",
            "Epoch 93/100\n",
            "92/92 - 0s - loss: 0.0020\n",
            "Epoch 94/100\n",
            "92/92 - 0s - loss: 0.0020\n",
            "Epoch 95/100\n",
            "92/92 - 0s - loss: 0.0019\n",
            "Epoch 96/100\n",
            "92/92 - 0s - loss: 0.0019\n",
            "Epoch 97/100\n",
            "92/92 - 0s - loss: 0.0019\n",
            "Epoch 98/100\n",
            "92/92 - 0s - loss: 0.0019\n",
            "Epoch 99/100\n",
            "92/92 - 0s - loss: 0.0019\n",
            "Epoch 100/100\n",
            "92/92 - 0s - loss: 0.0019\n",
            "Puntuacion Entrenamiento: 21.99 RMSE\n",
            "Puntuacion Validación: 57.52 RMSE\n"
          ],
          "name": "stdout"
        },
        {
          "output_type": "display_data",
          "data": {
            "image/png": "[encoded data removed]",
            "text/plain": [
              "<Figure size 864x576 with 1 Axes>"
            ]
          },
          "metadata": {
            "tags": [],
            "needs_background": "light"
          }
        }
      ]
    },
    {
      "cell_type": "markdown",
      "metadata": {
        "id": "l4e9Ky0pGTn2"
      },
      "source": [
        "---\n",
        "<div style=\"text-align: right\"> <font size=5> <a href=\"#indice\"><i class=\"fa fa-arrow-circle-up\" aria-hidden=\"true\" style=\"color:#004D7F\"></i></a></font></div>\n",
        "\n",
        "---"
      ]
    },
    {
      "cell_type": "markdown",
      "metadata": {
        "id": "mImEQit-GTn2"
      },
      "source": [
        "<a id=\"section3\"></a>\n",
        "# <font color=\"#004D7F\" size=6>3. LSTM con pasos de tiempo</font>"
      ]
    },
    {
      "cell_type": "markdown",
      "metadata": {
        "id": "IcnvS1l8GTn3"
      },
      "source": [
        "En lugar de redactar las observaciones pasadas como características de entrada separadas, podemos usarlas como pasos de tiempo de la característica de una entrada, que de hecho es un encuadre más preciso del problema. Podemos hacer esto usando la misma representación de datos que en el ejemplo anterior basado en ventanas, excepto que cuando cambiamos la forma de los datos, configuramos las columnas para que sean la dimensión de pasos de tiempo y cambiamos la dimensión de características de nuevo a 1. \n",
        "\n",
        "```python\n",
        "    trainX = numpy.reshape(trainX, (trainX.shape[0], trainX.shape[1], 1))\n",
        "    testX = numpy.reshape(testX, (testX.shape[0], testX.shape[1], 1))\n",
        "```"
      ]
    },
    {
      "cell_type": "code",
      "metadata": {
        "scrolled": true,
        "id": "GZIRGTj-GTn3",
        "colab": {
          "base_uri": "https://localhost:8080/",
          "height": 1000
        },
        "outputId": "2e192e8a-2e62-4ed0-c34d-4953b8c5fd16"
      },
      "source": [
        "# reshape into X=t and Y=t+1\n",
        "look_back = 3\n",
        "\n",
        "trainX, trainY = create_dataset(train, look_back)\n",
        "testX, testY = create_dataset(test, look_back)\n",
        "\n",
        "# reshape input to be [samples, time steps, features]\n",
        "trainX = np.reshape(trainX, (trainX.shape[0], trainX.shape[1], 1))\n",
        "testX = np.reshape(testX, (testX.shape[0], testX.shape[1], 1))\n",
        "\n",
        "\n",
        "# create and fit the LSTM network\n",
        "model = Sequential()\n",
        "model.add(LSTM(4, input_shape=(look_back, 1)))\n",
        "model.add(Dense(1))\n",
        "\n",
        "model.compile(loss='mean_squared_error', optimizer='adam')\n",
        "model.fit(trainX, trainY, epochs=100, batch_size=1, verbose=2)\n",
        "\n",
        "# make predictions\n",
        "trainPredict = model.predict(trainX)\n",
        "testPredict = model.predict(testX)\n",
        "\n",
        "# invert predictions\n",
        "trainPredict = scaler.inverse_transform(trainPredict)\n",
        "trainY = scaler.inverse_transform([trainY])\n",
        "testPredict = scaler.inverse_transform(testPredict)\n",
        "testY = scaler.inverse_transform([testY])\n",
        "\n",
        "# calculate root mean squared error\n",
        "trainScore = math.sqrt(mean_squared_error(trainY[0], trainPredict[:, 0]))\n",
        "print('Puntuacion Entrenamiento: %.2f RMSE' % (trainScore))\n",
        "testScore = math.sqrt(mean_squared_error(testY[0], testPredict[:, 0]))\n",
        "print('Puntuacion Validación: %.2f RMSE' % (testScore))\n",
        "\n",
        "# shift train predictions for plotting\n",
        "trainPredictPlot = np.empty_like(dataset)\n",
        "trainPredictPlot[: , :] = np.nan\n",
        "trainPredictPlot[look_back : len(trainPredict) + look_back, :] = trainPredict\n",
        "\n",
        "\n",
        "# shift test predictions for plotting\n",
        "\n",
        "testPredictPlot = np.empty_like(dataset)\n",
        "testPredictPlot[: , :] = np.nan\n",
        "testPredictPlot[len(trainPredict) + (look_back*2) + 1 : len(dataset) -1 , :] = testPredict\n",
        "\n",
        "# plot baseline and predictions\n",
        "plt.figure(figsize=(12,8))\n",
        "plt.plot(scaler.inverse_transform(dataset))\n",
        "plt.plot(trainPredictPlot)\n",
        "plt.plot(testPredictPlot)\n",
        "plt.show()"
      ],
      "execution_count": 44,
      "outputs": [
        {
          "output_type": "stream",
          "text": [
            "Epoch 1/100\n",
            "92/92 - 2s - loss: 0.0120\n",
            "Epoch 2/100\n",
            "92/92 - 0s - loss: 0.0059\n",
            "Epoch 3/100\n",
            "92/92 - 0s - loss: 0.0051\n",
            "Epoch 4/100\n",
            "92/92 - 0s - loss: 0.0044\n",
            "Epoch 5/100\n",
            "92/92 - 0s - loss: 0.0042\n",
            "Epoch 6/100\n",
            "92/92 - 0s - loss: 0.0039\n",
            "Epoch 7/100\n",
            "92/92 - 0s - loss: 0.0037\n",
            "Epoch 8/100\n",
            "92/92 - 0s - loss: 0.0037\n",
            "Epoch 9/100\n",
            "92/92 - 0s - loss: 0.0037\n",
            "Epoch 10/100\n",
            "92/92 - 0s - loss: 0.0036\n",
            "Epoch 11/100\n",
            "92/92 - 0s - loss: 0.0037\n",
            "Epoch 12/100\n",
            "92/92 - 0s - loss: 0.0037\n",
            "Epoch 13/100\n",
            "92/92 - 0s - loss: 0.0037\n",
            "Epoch 14/100\n",
            "92/92 - 0s - loss: 0.0038\n",
            "Epoch 15/100\n",
            "92/92 - 0s - loss: 0.0037\n",
            "Epoch 16/100\n",
            "92/92 - 0s - loss: 0.0036\n",
            "Epoch 17/100\n",
            "92/92 - 0s - loss: 0.0035\n",
            "Epoch 18/100\n",
            "92/92 - 0s - loss: 0.0036\n",
            "Epoch 19/100\n",
            "92/92 - 0s - loss: 0.0034\n",
            "Epoch 20/100\n",
            "92/92 - 0s - loss: 0.0034\n",
            "Epoch 21/100\n",
            "92/92 - 0s - loss: 0.0035\n",
            "Epoch 22/100\n",
            "92/92 - 0s - loss: 0.0034\n",
            "Epoch 23/100\n",
            "92/92 - 0s - loss: 0.0034\n",
            "Epoch 24/100\n",
            "92/92 - 0s - loss: 0.0035\n",
            "Epoch 25/100\n",
            "92/92 - 0s - loss: 0.0034\n",
            "Epoch 26/100\n",
            "92/92 - 0s - loss: 0.0033\n",
            "Epoch 27/100\n",
            "92/92 - 0s - loss: 0.0033\n",
            "Epoch 28/100\n",
            "92/92 - 0s - loss: 0.0032\n",
            "Epoch 29/100\n",
            "92/92 - 0s - loss: 0.0032\n",
            "Epoch 30/100\n",
            "92/92 - 0s - loss: 0.0034\n",
            "Epoch 31/100\n",
            "92/92 - 0s - loss: 0.0032\n",
            "Epoch 32/100\n",
            "92/92 - 0s - loss: 0.0033\n",
            "Epoch 33/100\n",
            "92/92 - 0s - loss: 0.0031\n",
            "Epoch 34/100\n",
            "92/92 - 0s - loss: 0.0032\n",
            "Epoch 35/100\n",
            "92/92 - 0s - loss: 0.0033\n",
            "Epoch 36/100\n",
            "92/92 - 0s - loss: 0.0030\n",
            "Epoch 37/100\n",
            "92/92 - 0s - loss: 0.0032\n",
            "Epoch 38/100\n",
            "92/92 - 0s - loss: 0.0031\n",
            "Epoch 39/100\n",
            "92/92 - 0s - loss: 0.0031\n",
            "Epoch 40/100\n",
            "92/92 - 0s - loss: 0.0033\n",
            "Epoch 41/100\n",
            "92/92 - 0s - loss: 0.0032\n",
            "Epoch 42/100\n",
            "92/92 - 0s - loss: 0.0032\n",
            "Epoch 43/100\n",
            "92/92 - 0s - loss: 0.0030\n",
            "Epoch 44/100\n",
            "92/92 - 0s - loss: 0.0030\n",
            "Epoch 45/100\n",
            "92/92 - 0s - loss: 0.0029\n",
            "Epoch 46/100\n",
            "92/92 - 0s - loss: 0.0030\n",
            "Epoch 47/100\n",
            "92/92 - 0s - loss: 0.0028\n",
            "Epoch 48/100\n",
            "92/92 - 0s - loss: 0.0030\n",
            "Epoch 49/100\n",
            "92/92 - 0s - loss: 0.0030\n",
            "Epoch 50/100\n",
            "92/92 - 0s - loss: 0.0030\n",
            "Epoch 51/100\n",
            "92/92 - 0s - loss: 0.0029\n",
            "Epoch 52/100\n",
            "92/92 - 0s - loss: 0.0028\n",
            "Epoch 53/100\n",
            "92/92 - 0s - loss: 0.0028\n",
            "Epoch 54/100\n",
            "92/92 - 0s - loss: 0.0028\n",
            "Epoch 55/100\n",
            "92/92 - 0s - loss: 0.0029\n",
            "Epoch 56/100\n",
            "92/92 - 0s - loss: 0.0027\n",
            "Epoch 57/100\n",
            "92/92 - 0s - loss: 0.0027\n",
            "Epoch 58/100\n",
            "92/92 - 0s - loss: 0.0026\n",
            "Epoch 59/100\n",
            "92/92 - 0s - loss: 0.0028\n",
            "Epoch 60/100\n",
            "92/92 - 0s - loss: 0.0027\n",
            "Epoch 61/100\n",
            "92/92 - 0s - loss: 0.0027\n",
            "Epoch 62/100\n",
            "92/92 - 0s - loss: 0.0026\n",
            "Epoch 63/100\n",
            "92/92 - 0s - loss: 0.0027\n",
            "Epoch 64/100\n",
            "92/92 - 0s - loss: 0.0026\n",
            "Epoch 65/100\n",
            "92/92 - 0s - loss: 0.0026\n",
            "Epoch 66/100\n",
            "92/92 - 0s - loss: 0.0025\n",
            "Epoch 67/100\n",
            "92/92 - 0s - loss: 0.0025\n",
            "Epoch 68/100\n",
            "92/92 - 0s - loss: 0.0025\n",
            "Epoch 69/100\n",
            "92/92 - 0s - loss: 0.0024\n",
            "Epoch 70/100\n",
            "92/92 - 0s - loss: 0.0024\n",
            "Epoch 71/100\n",
            "92/92 - 0s - loss: 0.0024\n",
            "Epoch 72/100\n",
            "92/92 - 0s - loss: 0.0023\n",
            "Epoch 73/100\n",
            "92/92 - 0s - loss: 0.0024\n",
            "Epoch 74/100\n",
            "92/92 - 0s - loss: 0.0023\n",
            "Epoch 75/100\n",
            "92/92 - 0s - loss: 0.0022\n",
            "Epoch 76/100\n",
            "92/92 - 0s - loss: 0.0023\n",
            "Epoch 77/100\n",
            "92/92 - 0s - loss: 0.0023\n",
            "Epoch 78/100\n",
            "92/92 - 0s - loss: 0.0024\n",
            "Epoch 79/100\n",
            "92/92 - 0s - loss: 0.0022\n",
            "Epoch 80/100\n",
            "92/92 - 0s - loss: 0.0022\n",
            "Epoch 81/100\n",
            "92/92 - 0s - loss: 0.0023\n",
            "Epoch 82/100\n",
            "92/92 - 0s - loss: 0.0022\n",
            "Epoch 83/100\n",
            "92/92 - 0s - loss: 0.0022\n",
            "Epoch 84/100\n",
            "92/92 - 0s - loss: 0.0022\n",
            "Epoch 85/100\n",
            "92/92 - 0s - loss: 0.0021\n",
            "Epoch 86/100\n",
            "92/92 - 0s - loss: 0.0021\n",
            "Epoch 87/100\n",
            "92/92 - 0s - loss: 0.0022\n",
            "Epoch 88/100\n",
            "92/92 - 0s - loss: 0.0021\n",
            "Epoch 89/100\n",
            "92/92 - 0s - loss: 0.0020\n",
            "Epoch 90/100\n",
            "92/92 - 0s - loss: 0.0022\n",
            "Epoch 91/100\n",
            "92/92 - 0s - loss: 0.0021\n",
            "Epoch 92/100\n",
            "92/92 - 0s - loss: 0.0021\n",
            "Epoch 93/100\n",
            "92/92 - 0s - loss: 0.0021\n",
            "Epoch 94/100\n",
            "92/92 - 0s - loss: 0.0020\n",
            "Epoch 95/100\n",
            "92/92 - 0s - loss: 0.0018\n",
            "Epoch 96/100\n",
            "92/92 - 0s - loss: 0.0021\n",
            "Epoch 97/100\n",
            "92/92 - 0s - loss: 0.0020\n",
            "Epoch 98/100\n",
            "92/92 - 0s - loss: 0.0020\n",
            "Epoch 99/100\n",
            "92/92 - 0s - loss: 0.0021\n",
            "Epoch 100/100\n",
            "92/92 - 0s - loss: 0.0019\n",
            "Puntuacion Entrenamiento: 22.35 RMSE\n",
            "Puntuacion Validación: 58.16 RMSE\n"
          ],
          "name": "stdout"
        },
        {
          "output_type": "display_data",
          "data": {
            "image/png": "[encoded data removed]",
            "text/plain": [
              "<Figure size 864x576 with 1 Axes>"
            ]
          },
          "metadata": {
            "tags": [],
            "needs_background": "light"
          }
        }
      ]
    },
    {
      "cell_type": "markdown",
      "metadata": {
        "id": "7uW2C4bRGTn3"
      },
      "source": [
        "---\n",
        "<div style=\"text-align: right\"> <font size=5> <a href=\"#indice\"><i class=\"fa fa-arrow-circle-up\" aria-hidden=\"true\" style=\"color:#004D7F\"></i></a></font></div>\n",
        "\n",
        "---"
      ]
    },
    {
      "cell_type": "markdown",
      "metadata": {
        "id": "-egIPn03GTn3"
      },
      "source": [
        "<a id=\"section4\"></a>\n",
        "# <font color=\"#004D7F\" size=6>4. LSTM con memoria entre batchs</font>"
      ]
    },
    {
      "cell_type": "markdown",
      "metadata": {
        "id": "jRl4Av05GTn3"
      },
      "source": [
        "La red LSTM tiene memoria que es capaz de recordar secuencias largas. "
      ]
    },
    {
      "cell_type": "markdown",
      "metadata": {
        "id": "ArOh18vwGTn4"
      },
      "source": [
        "<a id=\"section4.1\"></a>\n",
        "# <font color=\"#004D7F\" size=5>4.1. Generar estado en train</font>"
      ]
    },
    {
      "cell_type": "markdown",
      "metadata": {
        "id": "rJFN-ADfGTn4"
      },
      "source": [
        "Normalmente, el estado dentro de la red se restablece después de cada batch, así como con cada llamada a `model.predict()` o `model.evaluate()`. Podemos obtener un control más preciso sobre cuándo se borra el estado interno de la red LSTM haciendo que la capa LSTM tenga estado (parámetro `stateful`). \n",
        "\n",
        "Por tanto, requerimos que los datos de entrenamiento no se mezclen al ajustar la red y un restablecimiento explícito del estado de la red después época mediante llamadas a la función `model.reset states()`."
      ]
    },
    {
      "cell_type": "code",
      "metadata": {
        "scrolled": true,
        "id": "KBdukJ2cGTn4",
        "colab": {
          "base_uri": "https://localhost:8080/"
        },
        "outputId": "452e2b4c-2059-440f-863e-1ff3e3c398c4"
      },
      "source": [
        "# reshape into X=t and Y=t+1\n",
        "look_back = 3\n",
        "\n",
        "trainX, trainY = create_dataset(train, look_back)\n",
        "testX, testY = create_dataset(test, look_back)\n",
        "\n",
        "# reshape input to be [samples, time steps, features]\n",
        "trainX = np.reshape(trainX, (trainX.shape[0], trainX.shape[1], 1))\n",
        "testX = np.reshape(testX, (testX.shape[0], testX.shape[1], 1))\n",
        "\n",
        "# create and fit the LSTM network\n",
        "batch_size = 1\n",
        "model = Sequential()\n",
        "model.add(LSTM(4, batch_input_shape=(batch_size, look_back, 1), stateful=True))\n",
        "model.add(Dense(1))\n",
        "model.compile(loss = 'mean_squared_error', optimizer='adam')\n",
        "\n",
        "for i in range(100):\n",
        "  model.fit(trainX, trainY, epochs=1, batch_size = batch_size, verbose=2, shuffle=False)\n",
        "  model.reset_states()"
      ],
      "execution_count": 53,
      "outputs": [
        {
          "output_type": "stream",
          "text": [
            "92/92 - 1s - loss: 0.0301\n",
            "92/92 - 0s - loss: 0.0169\n",
            "92/92 - 0s - loss: 0.0167\n",
            "92/92 - 0s - loss: 0.0153\n",
            "92/92 - 0s - loss: 0.0136\n",
            "92/92 - 0s - loss: 0.0118\n",
            "92/92 - 0s - loss: 0.0097\n",
            "92/92 - 0s - loss: 0.0077\n",
            "92/92 - 0s - loss: 0.0062\n",
            "92/92 - 0s - loss: 0.0053\n",
            "92/92 - 0s - loss: 0.0049\n",
            "92/92 - 0s - loss: 0.0048\n",
            "92/92 - 0s - loss: 0.0048\n",
            "92/92 - 0s - loss: 0.0047\n",
            "92/92 - 0s - loss: 0.0047\n",
            "92/92 - 0s - loss: 0.0046\n",
            "92/92 - 0s - loss: 0.0046\n",
            "92/92 - 0s - loss: 0.0046\n",
            "92/92 - 0s - loss: 0.0046\n",
            "92/92 - 0s - loss: 0.0045\n",
            "92/92 - 0s - loss: 0.0045\n",
            "92/92 - 0s - loss: 0.0045\n",
            "92/92 - 0s - loss: 0.0045\n",
            "92/92 - 0s - loss: 0.0045\n",
            "92/92 - 0s - loss: 0.0044\n",
            "92/92 - 0s - loss: 0.0044\n",
            "92/92 - 0s - loss: 0.0044\n",
            "92/92 - 0s - loss: 0.0044\n",
            "92/92 - 0s - loss: 0.0044\n",
            "92/92 - 0s - loss: 0.0044\n",
            "92/92 - 0s - loss: 0.0044\n",
            "92/92 - 0s - loss: 0.0043\n",
            "92/92 - 0s - loss: 0.0043\n",
            "92/92 - 0s - loss: 0.0043\n",
            "92/92 - 0s - loss: 0.0043\n",
            "92/92 - 0s - loss: 0.0043\n",
            "92/92 - 0s - loss: 0.0043\n",
            "92/92 - 0s - loss: 0.0042\n",
            "92/92 - 0s - loss: 0.0042\n",
            "92/92 - 0s - loss: 0.0042\n",
            "92/92 - 0s - loss: 0.0042\n",
            "92/92 - 0s - loss: 0.0042\n",
            "92/92 - 0s - loss: 0.0041\n",
            "92/92 - 0s - loss: 0.0041\n",
            "92/92 - 0s - loss: 0.0041\n",
            "92/92 - 0s - loss: 0.0041\n",
            "92/92 - 0s - loss: 0.0041\n",
            "92/92 - 0s - loss: 0.0040\n",
            "92/92 - 0s - loss: 0.0040\n",
            "92/92 - 0s - loss: 0.0040\n",
            "92/92 - 0s - loss: 0.0040\n",
            "92/92 - 0s - loss: 0.0039\n",
            "92/92 - 0s - loss: 0.0039\n",
            "92/92 - 0s - loss: 0.0039\n",
            "92/92 - 0s - loss: 0.0038\n",
            "92/92 - 0s - loss: 0.0038\n",
            "92/92 - 0s - loss: 0.0038\n",
            "92/92 - 0s - loss: 0.0038\n",
            "92/92 - 0s - loss: 0.0037\n",
            "92/92 - 0s - loss: 0.0037\n",
            "92/92 - 0s - loss: 0.0037\n",
            "92/92 - 0s - loss: 0.0036\n",
            "92/92 - 0s - loss: 0.0036\n",
            "92/92 - 0s - loss: 0.0036\n",
            "92/92 - 0s - loss: 0.0035\n",
            "92/92 - 0s - loss: 0.0035\n",
            "92/92 - 0s - loss: 0.0035\n",
            "92/92 - 0s - loss: 0.0034\n",
            "92/92 - 0s - loss: 0.0034\n",
            "92/92 - 0s - loss: 0.0033\n",
            "92/92 - 0s - loss: 0.0033\n",
            "92/92 - 0s - loss: 0.0033\n",
            "92/92 - 0s - loss: 0.0032\n",
            "92/92 - 0s - loss: 0.0032\n",
            "92/92 - 0s - loss: 0.0032\n",
            "92/92 - 0s - loss: 0.0031\n",
            "92/92 - 0s - loss: 0.0031\n",
            "92/92 - 0s - loss: 0.0031\n",
            "92/92 - 0s - loss: 0.0030\n",
            "92/92 - 0s - loss: 0.0030\n",
            "92/92 - 0s - loss: 0.0030\n",
            "92/92 - 0s - loss: 0.0029\n",
            "92/92 - 0s - loss: 0.0029\n",
            "92/92 - 0s - loss: 0.0029\n",
            "92/92 - 0s - loss: 0.0028\n",
            "92/92 - 0s - loss: 0.0028\n",
            "92/92 - 0s - loss: 0.0028\n",
            "92/92 - 0s - loss: 0.0027\n",
            "92/92 - 0s - loss: 0.0027\n",
            "92/92 - 0s - loss: 0.0027\n",
            "92/92 - 0s - loss: 0.0026\n",
            "92/92 - 0s - loss: 0.0026\n",
            "92/92 - 0s - loss: 0.0026\n",
            "92/92 - 0s - loss: 0.0025\n",
            "92/92 - 0s - loss: 0.0025\n",
            "92/92 - 0s - loss: 0.0025\n",
            "92/92 - 0s - loss: 0.0025\n",
            "92/92 - 0s - loss: 0.0024\n",
            "92/92 - 0s - loss: 0.0024\n",
            "92/92 - 0s - loss: 0.0024\n",
            "92/92 - 0s - loss: 0.0023\n",
            "92/92 - 0s - loss: 0.0023\n",
            "92/92 - 0s - loss: 0.0023\n",
            "92/92 - 0s - loss: 0.0022\n",
            "92/92 - 0s - loss: 0.0022\n",
            "92/92 - 0s - loss: 0.0022\n",
            "92/92 - 0s - loss: 0.0022\n",
            "92/92 - 0s - loss: 0.0021\n",
            "92/92 - 0s - loss: 0.0021\n",
            "92/92 - 0s - loss: 0.0021\n",
            "92/92 - 0s - loss: 0.0021\n",
            "92/92 - 0s - loss: 0.0020\n",
            "92/92 - 0s - loss: 0.0020\n",
            "92/92 - 0s - loss: 0.0020\n",
            "92/92 - 0s - loss: 0.0020\n",
            "92/92 - 0s - loss: 0.0019\n",
            "92/92 - 0s - loss: 0.0019\n",
            "92/92 - 0s - loss: 0.0019\n",
            "92/92 - 0s - loss: 0.0019\n",
            "92/92 - 0s - loss: 0.0019\n",
            "92/92 - 0s - loss: 0.0019\n",
            "92/92 - 0s - loss: 0.0018\n",
            "92/92 - 0s - loss: 0.0018\n",
            "92/92 - 0s - loss: 0.0018\n",
            "92/92 - 0s - loss: 0.0018\n",
            "92/92 - 0s - loss: 0.0018\n",
            "92/92 - 0s - loss: 0.0018\n",
            "92/92 - 0s - loss: 0.0018\n",
            "92/92 - 0s - loss: 0.0018\n",
            "92/92 - 0s - loss: 0.0018\n",
            "92/92 - 0s - loss: 0.0018\n",
            "92/92 - 0s - loss: 0.0018\n",
            "92/92 - 0s - loss: 0.0017\n",
            "92/92 - 0s - loss: 0.0017\n",
            "92/92 - 0s - loss: 0.0017\n",
            "92/92 - 0s - loss: 0.0017\n",
            "92/92 - 0s - loss: 0.0017\n",
            "92/92 - 0s - loss: 0.0017\n",
            "92/92 - 0s - loss: 0.0017\n",
            "92/92 - 0s - loss: 0.0017\n",
            "92/92 - 0s - loss: 0.0017\n",
            "92/92 - 0s - loss: 0.0017\n",
            "92/92 - 0s - loss: 0.0017\n",
            "92/92 - 0s - loss: 0.0017\n",
            "92/92 - 0s - loss: 0.0017\n",
            "92/92 - 0s - loss: 0.0017\n",
            "92/92 - 0s - loss: 0.0017\n",
            "92/92 - 0s - loss: 0.0017\n",
            "92/92 - 0s - loss: 0.0017\n",
            "92/92 - 0s - loss: 0.0017\n",
            "92/92 - 0s - loss: 0.0017\n",
            "92/92 - 0s - loss: 0.0017\n",
            "92/92 - 0s - loss: 0.0017\n",
            "92/92 - 0s - loss: 0.0017\n",
            "92/92 - 0s - loss: 0.0017\n",
            "92/92 - 0s - loss: 0.0017\n",
            "92/92 - 0s - loss: 0.0017\n",
            "92/92 - 0s - loss: 0.0017\n",
            "92/92 - 0s - loss: 0.0017\n",
            "92/92 - 0s - loss: 0.0017\n",
            "92/92 - 0s - loss: 0.0017\n",
            "92/92 - 0s - loss: 0.0017\n",
            "92/92 - 0s - loss: 0.0017\n",
            "92/92 - 0s - loss: 0.0017\n",
            "92/92 - 0s - loss: 0.0017\n",
            "92/92 - 0s - loss: 0.0017\n",
            "92/92 - 0s - loss: 0.0017\n",
            "92/92 - 0s - loss: 0.0017\n",
            "92/92 - 0s - loss: 0.0017\n",
            "92/92 - 0s - loss: 0.0017\n",
            "92/92 - 0s - loss: 0.0017\n",
            "92/92 - 0s - loss: 0.0017\n",
            "92/92 - 0s - loss: 0.0017\n",
            "92/92 - 0s - loss: 0.0016\n",
            "92/92 - 0s - loss: 0.0016\n",
            "92/92 - 0s - loss: 0.0016\n",
            "92/92 - 0s - loss: 0.0016\n",
            "92/92 - 0s - loss: 0.0016\n",
            "92/92 - 0s - loss: 0.0016\n",
            "92/92 - 0s - loss: 0.0016\n",
            "92/92 - 0s - loss: 0.0016\n",
            "92/92 - 0s - loss: 0.0016\n",
            "92/92 - 0s - loss: 0.0016\n",
            "92/92 - 0s - loss: 0.0016\n",
            "92/92 - 0s - loss: 0.0016\n",
            "92/92 - 0s - loss: 0.0016\n",
            "92/92 - 0s - loss: 0.0016\n",
            "92/92 - 0s - loss: 0.0016\n",
            "92/92 - 0s - loss: 0.0016\n",
            "92/92 - 0s - loss: 0.0016\n",
            "92/92 - 0s - loss: 0.0016\n",
            "92/92 - 0s - loss: 0.0016\n",
            "92/92 - 0s - loss: 0.0016\n",
            "92/92 - 0s - loss: 0.0016\n",
            "92/92 - 0s - loss: 0.0016\n",
            "92/92 - 0s - loss: 0.0016\n",
            "92/92 - 0s - loss: 0.0016\n",
            "92/92 - 0s - loss: 0.0016\n",
            "92/92 - 0s - loss: 0.0016\n",
            "92/92 - 0s - loss: 0.0016\n",
            "92/92 - 0s - loss: 0.0016\n",
            "92/92 - 0s - loss: 0.0016\n",
            "92/92 - 0s - loss: 0.0016\n",
            "92/92 - 0s - loss: 0.0016\n",
            "92/92 - 0s - loss: 0.0016\n",
            "92/92 - 0s - loss: 0.0016\n",
            "92/92 - 0s - loss: 0.0016\n",
            "92/92 - 0s - loss: 0.0016\n",
            "92/92 - 0s - loss: 0.0016\n",
            "92/92 - 0s - loss: 0.0016\n",
            "92/92 - 0s - loss: 0.0016\n",
            "92/92 - 0s - loss: 0.0015\n",
            "92/92 - 0s - loss: 0.0015\n",
            "92/92 - 0s - loss: 0.0015\n",
            "92/92 - 0s - loss: 0.0015\n",
            "92/92 - 0s - loss: 0.0015\n",
            "92/92 - 0s - loss: 0.0015\n",
            "92/92 - 0s - loss: 0.0015\n",
            "92/92 - 0s - loss: 0.0015\n",
            "92/92 - 0s - loss: 0.0015\n",
            "92/92 - 0s - loss: 0.0015\n",
            "92/92 - 0s - loss: 0.0015\n",
            "92/92 - 0s - loss: 0.0015\n",
            "92/92 - 0s - loss: 0.0015\n",
            "92/92 - 0s - loss: 0.0015\n",
            "92/92 - 0s - loss: 0.0015\n",
            "92/92 - 0s - loss: 0.0015\n",
            "92/92 - 0s - loss: 0.0015\n",
            "92/92 - 0s - loss: 0.0015\n",
            "92/92 - 0s - loss: 0.0015\n",
            "92/92 - 0s - loss: 0.0015\n",
            "92/92 - 0s - loss: 0.0015\n",
            "92/92 - 0s - loss: 0.0014\n",
            "92/92 - 0s - loss: 0.0014\n",
            "92/92 - 0s - loss: 0.0014\n",
            "92/92 - 0s - loss: 0.0014\n",
            "92/92 - 0s - loss: 0.0014\n",
            "92/92 - 0s - loss: 0.0014\n",
            "92/92 - 0s - loss: 0.0014\n",
            "92/92 - 0s - loss: 0.0014\n",
            "92/92 - 0s - loss: 0.0014\n",
            "92/92 - 0s - loss: 0.0014\n",
            "92/92 - 0s - loss: 0.0014\n",
            "92/92 - 0s - loss: 0.0014\n",
            "92/92 - 0s - loss: 0.0014\n",
            "92/92 - 0s - loss: 0.0013\n",
            "92/92 - 0s - loss: 0.0013\n",
            "92/92 - 0s - loss: 0.0014\n",
            "92/92 - 0s - loss: 0.0014\n",
            "92/92 - 0s - loss: 0.0017\n",
            "92/92 - 0s - loss: 0.0023\n",
            "92/92 - 0s - loss: 0.0016\n",
            "92/92 - 0s - loss: 0.0016\n",
            "92/92 - 0s - loss: 0.0017\n",
            "92/92 - 0s - loss: 0.0014\n",
            "92/92 - 0s - loss: 0.0014\n",
            "92/92 - 0s - loss: 0.0014\n",
            "92/92 - 0s - loss: 0.0014\n",
            "92/92 - 0s - loss: 0.0014\n",
            "92/92 - 0s - loss: 0.0014\n",
            "92/92 - 0s - loss: 0.0014\n",
            "92/92 - 0s - loss: 0.0015\n",
            "92/92 - 0s - loss: 0.0016\n",
            "92/92 - 0s - loss: 0.0017\n",
            "92/92 - 0s - loss: 0.0016\n",
            "92/92 - 0s - loss: 0.0014\n",
            "92/92 - 0s - loss: 0.0014\n",
            "92/92 - 0s - loss: 0.0017\n",
            "92/92 - 0s - loss: 0.0014\n",
            "92/92 - 0s - loss: 0.0013\n",
            "92/92 - 0s - loss: 0.0016\n",
            "92/92 - 0s - loss: 0.0015\n",
            "92/92 - 0s - loss: 0.0014\n",
            "92/92 - 0s - loss: 0.0013\n",
            "92/92 - 0s - loss: 0.0016\n",
            "92/92 - 0s - loss: 0.0023\n",
            "92/92 - 0s - loss: 0.0015\n",
            "92/92 - 0s - loss: 0.0017\n",
            "92/92 - 0s - loss: 0.0014\n",
            "92/92 - 0s - loss: 0.0015\n",
            "92/92 - 0s - loss: 0.0014\n",
            "92/92 - 0s - loss: 0.0014\n",
            "92/92 - 0s - loss: 0.0014\n",
            "92/92 - 0s - loss: 0.0014\n",
            "92/92 - 0s - loss: 0.0015\n",
            "92/92 - 0s - loss: 0.0017\n",
            "92/92 - 0s - loss: 0.0017\n",
            "92/92 - 0s - loss: 0.0014\n",
            "92/92 - 0s - loss: 0.0015\n",
            "92/92 - 0s - loss: 0.0018\n",
            "92/92 - 0s - loss: 0.0016\n",
            "92/92 - 0s - loss: 0.0017\n",
            "92/92 - 0s - loss: 0.0014\n",
            "92/92 - 0s - loss: 0.0014\n",
            "92/92 - 0s - loss: 0.0013\n",
            "92/92 - 0s - loss: 0.0014\n",
            "92/92 - 0s - loss: 0.0014\n",
            "92/92 - 0s - loss: 0.0015\n",
            "92/92 - 0s - loss: 0.0018\n",
            "92/92 - 0s - loss: 0.0018\n"
          ],
          "name": "stdout"
        }
      ]
    },
    {
      "cell_type": "markdown",
      "metadata": {
        "id": "8t-gQLX0GTn4"
      },
      "source": [
        "<a id=\"section4.2\"></a>\n",
        "# <font color=\"#004D7F\" size=5>4.2. Diseño de LSTM</font>"
      ]
    },
    {
      "cell_type": "markdown",
      "metadata": {
        "id": "XEZ78BnCGTn4"
      },
      "source": [
        "Finalmente, cuando se construye la capa LSTM, el parámetro `stateful` debe establecerse en `True` y, en lugar de especificar,mediante el parámetro `batch_input_shape`:\n",
        "1. Las dimensiones de entrada\n",
        "2. Codificar el número de muestras en un batch\n",
        "3. El número de pasos de tiempo en una muestra y \n",
        "4. El número de características en un paso de tiempo. \n",
        "\n",
        "Por ejemplo: \n",
        "```python\n",
        "    model.add(LSTM(4, batch_input_shape = (batch_size, look_back, 1), stateful = True))\n",
        "```\n",
        "\n",
        "Este mismo tamaño de batch debe usarse más adelante al evaluar el modelo y hacer predicciones. \n",
        "\n",
        "```python\n",
        "    model.predict(trainX, batch_size = batch_size)\n",
        "```"
      ]
    },
    {
      "cell_type": "code",
      "metadata": {
        "scrolled": true,
        "id": "27IPE9CrGTn4",
        "colab": {
          "base_uri": "https://localhost:8080/",
          "height": 517
        },
        "outputId": "e70ec4d5-6bc9-4a7f-b4fc-2b1941ffbdb3"
      },
      "source": [
        "# make predictions\n",
        "trainPredict = model.predict(trainX, batch_size=batch_size)\n",
        "testPredict = model.predict(testX, batch_size=batch_size)\n",
        "\n",
        "# invert predictions\n",
        "trainPredict = scaler.inverse_transform(trainPredict)\n",
        "trainY = scaler.inverse_transform([trainY])\n",
        "testPredict = scaler.inverse_transform(testPredict)\n",
        "testY = scaler.inverse_transform([testY])\n",
        "\n",
        "# calculate root mean squared error\n",
        "trainScore = math.sqrt(mean_squared_error(trainY[0], trainPredict[:, 0]))\n",
        "print('Puntuacion Entrenamiento: %.2f RMSE' % (trainScore))\n",
        "testScore = math.sqrt(mean_squared_error(testY[0], testPredict[:, 0]))\n",
        "print('Puntuacion Validación: %.2f RMSE' % (testScore))\n",
        "\n",
        "# shift train predictions for plotting\n",
        "trainPredictPlot = np.empty_like(dataset)\n",
        "trainPredictPlot[: , :] = np.nan\n",
        "trainPredictPlot[look_back : len(trainPredict) + look_back, :] = trainPredict\n",
        "\n",
        "\n",
        "# shift test predictions for plotting\n",
        "\n",
        "testPredictPlot = np.empty_like(dataset)\n",
        "testPredictPlot[: , :] = np.nan\n",
        "testPredictPlot[len(trainPredict) + (look_back*2) + 1 : len(dataset) -1 , :] = testPredict\n",
        "\n",
        "# plot baseline and predictions\n",
        "plt.figure(figsize=(12,8))\n",
        "plt.plot(scaler.inverse_transform(dataset))\n",
        "plt.plot(trainPredictPlot)\n",
        "plt.plot(testPredictPlot)\n",
        "plt.show()"
      ],
      "execution_count": 54,
      "outputs": [
        {
          "output_type": "stream",
          "text": [
            "Puntuacion Entrenamiento: 21.87 RMSE\n",
            "Puntuacion Validación: 64.72 RMSE\n"
          ],
          "name": "stdout"
        },
        {
          "output_type": "display_data",
          "data": {
            "image/png": "[encoded data removed]",
            "text/plain": [
              "<Figure size 864x576 with 1 Axes>"
            ]
          },
          "metadata": {
            "tags": [],
            "needs_background": "light"
          }
        }
      ]
    },
    {
      "cell_type": "markdown",
      "metadata": {
        "id": "t0IxMTtkGTn5"
      },
      "source": [
        "---\n",
        "<div style=\"text-align: right\"> <font size=5> <a href=\"#indice\"><i class=\"fa fa-arrow-circle-up\" aria-hidden=\"true\" style=\"color:#004D7F\"></i></a></font></div>\n",
        "\n",
        "---"
      ]
    },
    {
      "cell_type": "markdown",
      "metadata": {
        "id": "Y7heSam7GTn5"
      },
      "source": [
        "<a id=\"section5\"></a>\n",
        "# <font color=\"#004D7F\" size=6>5. Stacked LSTM con memoria entre batchs</font>"
      ]
    },
    {
      "cell_type": "markdown",
      "metadata": {
        "id": "HAU1Y8CtGTn5"
      },
      "source": [
        "Las redes LSTM se pueden apilar de la misma manera que se pueden apilar otros tipos de capas. Una adición a la configuración que se requiere es que una capa LSTM antes de cada capa LSTM subsiguiente debe devolver la secuencia. \n",
        "\n",
        "Esto se puede hacer configurando el parámetro `return_sequences` en la capa a `True`.\n",
        "\n",
        "```python\n",
        "    model.add(LSTM(4, batch_input_shape=(batch_size, look_back, 1), stateful=True, return_sequences=True))\n",
        "    model.add(LSTM(4, batch_input_shape=(batch_size, look_back, 1), stateful=True))\n",
        "```"
      ]
    },
    {
      "cell_type": "code",
      "metadata": {
        "scrolled": true,
        "id": "dMW05CFrGTn5",
        "colab": {
          "base_uri": "https://localhost:8080/",
          "height": 1000
        },
        "outputId": "e1f48871-1a2e-4350-9b51-ed5213a6735a"
      },
      "source": [
        "# reshape into X=t and Y=t+1\n",
        "look_back = 3\n",
        "\n",
        "trainX, trainY = create_dataset(train, look_back)\n",
        "testX, testY = create_dataset(test, look_back)\n",
        "\n",
        "# reshape input to be [samples, time steps, features]\n",
        "trainX = np.reshape(trainX, (trainX.shape[0], trainX.shape[1], 1))\n",
        "testX = np.reshape(testX, (testX.shape[0], testX.shape[1], 1))\n",
        "\n",
        "\n",
        "# create and fit the LSTM network\n",
        "batch_size = 1\n",
        "model = Sequential()\n",
        "model.add(LSTM(4, batch_input_shape = (batch_size, look_back, 1), stateful=True, return_sequences=True))\n",
        "model.add(LSTM(4, batch_input_shape = (batch_size, look_back, 1), stateful=True))\n",
        "model.add(Dense(1))\n",
        "model.compile(loss='mean_squared_error', optimizer='adam')\n",
        "\n",
        "for i in range(100):\n",
        "  model.fit(trainX, trainY, epochs=1, batch_size=batch_size, verbose=2, shuffle=True)\n",
        "  model.reset_states\n",
        "\n",
        "# make predictions\n",
        "trainPredict = model.predict(trainX, batch_size=batch_size)\n",
        "model.reset_states\n",
        "testPredict = model.predict(testX, batch_size=batch_size)\n",
        "\n",
        "# invert predictions\n",
        "trainPredict = scaler.inverse_transform(trainPredict)\n",
        "trainY = scaler.inverse_transform([trainY])\n",
        "testPredict = scaler.inverse_transform(testPredict)\n",
        "testY = scaler.inverse_transform([testY])\n",
        "\n",
        "# calculate root mean squared error\n",
        "trainScore = math.sqrt(mean_squared_error(trainY[0], trainPredict[:, 0]))\n",
        "print('Puntuacion Entrenamiento: %.2f RMSE' % (trainScore))\n",
        "testScore = math.sqrt(mean_squared_error(testY[0], testPredict[:, 0]))\n",
        "print('Puntuacion Validación: %.2f RMSE' % (testScore))\n",
        "\n",
        "# shift train predictions for plotting\n",
        "trainPredictPlot = np.empty_like(dataset)\n",
        "trainPredictPlot[: , :] = np.nan\n",
        "trainPredictPlot[look_back : len(trainPredict) + look_back, :] = trainPredict\n",
        "\n",
        "\n",
        "# shift test predictions for plotting\n",
        "\n",
        "testPredictPlot = np.empty_like(dataset)\n",
        "testPredictPlot[: , :] = np.nan\n",
        "testPredictPlot[len(trainPredict) + (look_back*2) + 1 : len(dataset) -1 , :] = testPredict\n",
        "\n",
        "# plot baseline and predictions\n",
        "plt.figure(figsize=(12,8))\n",
        "plt.plot(scaler.inverse_transform(dataset))\n",
        "plt.plot(trainPredictPlot)\n",
        "plt.plot(testPredictPlot)"
      ],
      "execution_count": 57,
      "outputs": [
        {
          "output_type": "stream",
          "text": [
            "92/92 - 2s - loss: 0.0275\n",
            "92/92 - 0s - loss: 0.0190\n",
            "92/92 - 0s - loss: 0.0187\n",
            "92/92 - 0s - loss: 0.0172\n",
            "92/92 - 0s - loss: 0.0189\n",
            "92/92 - 0s - loss: 0.0164\n",
            "92/92 - 0s - loss: 0.0165\n",
            "92/92 - 0s - loss: 0.0149\n",
            "92/92 - 0s - loss: 0.0148\n",
            "92/92 - 0s - loss: 0.0132\n",
            "92/92 - 0s - loss: 0.0096\n",
            "92/92 - 0s - loss: 0.0106\n",
            "92/92 - 0s - loss: 0.0086\n",
            "92/92 - 0s - loss: 0.0088\n",
            "92/92 - 0s - loss: 0.0072\n",
            "92/92 - 0s - loss: 0.0067\n",
            "92/92 - 0s - loss: 0.0060\n",
            "92/92 - 0s - loss: 0.0054\n",
            "92/92 - 0s - loss: 0.0042\n",
            "92/92 - 0s - loss: 0.0049\n",
            "92/92 - 0s - loss: 0.0041\n",
            "92/92 - 0s - loss: 0.0041\n",
            "92/92 - 0s - loss: 0.0040\n",
            "92/92 - 0s - loss: 0.0038\n",
            "92/92 - 0s - loss: 0.0035\n",
            "92/92 - 0s - loss: 0.0040\n",
            "92/92 - 0s - loss: 0.0034\n",
            "92/92 - 0s - loss: 0.0033\n",
            "92/92 - 0s - loss: 0.0037\n",
            "92/92 - 0s - loss: 0.0034\n",
            "92/92 - 0s - loss: 0.0038\n",
            "92/92 - 0s - loss: 0.0031\n",
            "92/92 - 0s - loss: 0.0035\n",
            "92/92 - 0s - loss: 0.0031\n",
            "92/92 - 0s - loss: 0.0033\n",
            "92/92 - 0s - loss: 0.0029\n",
            "92/92 - 0s - loss: 0.0032\n",
            "92/92 - 0s - loss: 0.0028\n",
            "92/92 - 0s - loss: 0.0028\n",
            "92/92 - 0s - loss: 0.0027\n",
            "92/92 - 0s - loss: 0.0027\n",
            "92/92 - 0s - loss: 0.0026\n",
            "92/92 - 0s - loss: 0.0025\n",
            "92/92 - 0s - loss: 0.0023\n",
            "92/92 - 0s - loss: 0.0025\n",
            "92/92 - 0s - loss: 0.0027\n",
            "92/92 - 0s - loss: 0.0026\n",
            "92/92 - 0s - loss: 0.0021\n",
            "92/92 - 0s - loss: 0.0024\n",
            "92/92 - 0s - loss: 0.0024\n",
            "92/92 - 0s - loss: 0.0026\n",
            "92/92 - 0s - loss: 0.0021\n",
            "92/92 - 0s - loss: 0.0019\n",
            "92/92 - 0s - loss: 0.0025\n",
            "92/92 - 0s - loss: 0.0022\n",
            "92/92 - 0s - loss: 0.0022\n",
            "92/92 - 0s - loss: 0.0024\n",
            "92/92 - 0s - loss: 0.0023\n",
            "92/92 - 0s - loss: 0.0024\n",
            "92/92 - 0s - loss: 0.0021\n",
            "92/92 - 0s - loss: 0.0025\n",
            "92/92 - 0s - loss: 0.0021\n",
            "92/92 - 0s - loss: 0.0019\n",
            "92/92 - 0s - loss: 0.0021\n",
            "92/92 - 0s - loss: 0.0019\n",
            "92/92 - 0s - loss: 0.0021\n",
            "92/92 - 0s - loss: 0.0021\n",
            "92/92 - 0s - loss: 0.0019\n",
            "92/92 - 0s - loss: 0.0020\n",
            "92/92 - 0s - loss: 0.0020\n",
            "92/92 - 0s - loss: 0.0020\n",
            "92/92 - 0s - loss: 0.0020\n",
            "92/92 - 0s - loss: 0.0018\n",
            "92/92 - 0s - loss: 0.0021\n",
            "92/92 - 0s - loss: 0.0020\n",
            "92/92 - 0s - loss: 0.0019\n",
            "92/92 - 0s - loss: 0.0022\n",
            "92/92 - 0s - loss: 0.0022\n",
            "92/92 - 0s - loss: 0.0018\n",
            "92/92 - 0s - loss: 0.0020\n",
            "92/92 - 0s - loss: 0.0019\n",
            "92/92 - 0s - loss: 0.0019\n",
            "92/92 - 0s - loss: 0.0021\n",
            "92/92 - 0s - loss: 0.0018\n",
            "92/92 - 0s - loss: 0.0020\n",
            "92/92 - 0s - loss: 0.0021\n",
            "92/92 - 0s - loss: 0.0018\n",
            "92/92 - 0s - loss: 0.0018\n",
            "92/92 - 0s - loss: 0.0018\n",
            "92/92 - 0s - loss: 0.0019\n",
            "92/92 - 0s - loss: 0.0020\n",
            "92/92 - 0s - loss: 0.0018\n",
            "92/92 - 0s - loss: 0.0018\n",
            "92/92 - 0s - loss: 0.0017\n",
            "92/92 - 0s - loss: 0.0016\n",
            "92/92 - 0s - loss: 0.0020\n",
            "92/92 - 0s - loss: 0.0017\n",
            "92/92 - 0s - loss: 0.0017\n",
            "92/92 - 0s - loss: 0.0020\n",
            "92/92 - 0s - loss: 0.0019\n",
            "Puntuacion Entrenamiento: 22.98 RMSE\n",
            "Puntuacion Validación: 69.66 RMSE\n"
          ],
          "name": "stdout"
        },
        {
          "output_type": "execute_result",
          "data": {
            "text/plain": [
              "[<matplotlib.lines.Line2D at 0x7f2d925c1ad0>]"
            ]
          },
          "metadata": {
            "tags": []
          },
          "execution_count": 57
        },
        {
          "output_type": "display_data",
          "data": {
            "image/png": "[encoded data removed]",
            "text/plain": [
              "<Figure size 864x576 with 1 Axes>"
            ]
          },
          "metadata": {
            "tags": [],
            "needs_background": "light"
          }
        }
      ]
    },
    {
      "cell_type": "markdown",
      "metadata": {
        "id": "ZjnEzIg6GTn5"
      },
      "source": [
        "<div style=\"text-align: right\"> <font size=5> <a href=\"#indice\"><i class=\"fa fa-arrow-circle-up\" aria-hidden=\"true\" style=\"color:#004D7F\"></i></a></font></div>\n",
        "\n",
        "---\n",
        "\n",
        "<div style=\"text-align: right\"> <font size=6><i class=\"fa fa-coffee\" aria-hidden=\"true\" style=\"color:#004D7F\"></i> </font></div>"
      ]
    }
  ]
}